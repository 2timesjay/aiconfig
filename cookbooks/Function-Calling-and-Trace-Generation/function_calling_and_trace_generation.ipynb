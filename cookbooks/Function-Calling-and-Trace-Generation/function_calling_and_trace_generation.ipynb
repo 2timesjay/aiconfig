{
  "nbformat": 4,
  "nbformat_minor": 0,
  "metadata": {
    "colab": {
      "provenance": []
    },
    "kernelspec": {
      "name": "python3",
      "display_name": "Python 3"
    },
    "language_info": {
      "name": "python"
    }
  },
  "cells": [
    {
      "cell_type": "code",
      "execution_count": null,
      "metadata": {
        "colab": {
          "base_uri": "https://localhost:8080/",
          "height": 1000
        },
        "id": "EQ-Ib1609n-O",
        "outputId": "5ff76b60-a16a-4bc1-9a4f-987c6b732564"
      },
      "outputs": [
        {
          "output_type": "stream",
          "name": "stdout",
          "text": [
            "Collecting openai\n",
            "  Downloading openai-1.3.2-py3-none-any.whl (220 kB)\n",
            "\u001b[2K     \u001b[90m━━━━━━━━━━━━━━━━━━━━━━━━━━━━━━━━━━━━━━━━\u001b[0m \u001b[32m220.3/220.3 kB\u001b[0m \u001b[31m4.0 MB/s\u001b[0m eta \u001b[36m0:00:00\u001b[0m\n",
            "\u001b[?25hCollecting python-aiconfig\n",
            "  Downloading python_aiconfig-1.0.9-py3-none-any.whl (35 kB)\n",
            "Requirement already satisfied: anyio<4,>=3.5.0 in /usr/local/lib/python3.10/dist-packages (from openai) (3.7.1)\n",
            "Requirement already satisfied: distro<2,>=1.7.0 in /usr/lib/python3/dist-packages (from openai) (1.7.0)\n",
            "Collecting httpx<1,>=0.23.0 (from openai)\n",
            "  Downloading httpx-0.25.1-py3-none-any.whl (75 kB)\n",
            "\u001b[2K     \u001b[90m━━━━━━━━━━━━━━━━━━━━━━━━━━━━━━━━━━━━━━━━\u001b[0m \u001b[32m75.0/75.0 kB\u001b[0m \u001b[31m7.0 MB/s\u001b[0m eta \u001b[36m0:00:00\u001b[0m\n",
            "\u001b[?25hRequirement already satisfied: pydantic<3,>=1.9.0 in /usr/local/lib/python3.10/dist-packages (from openai) (1.10.13)\n",
            "Requirement already satisfied: tqdm>4 in /usr/local/lib/python3.10/dist-packages (from openai) (4.66.1)\n",
            "Requirement already satisfied: typing-extensions<5,>=4.5 in /usr/local/lib/python3.10/dist-packages (from openai) (4.5.0)\n",
            "Collecting requests==2.30.0 (from python-aiconfig)\n",
            "  Downloading requests-2.30.0-py3-none-any.whl (62 kB)\n",
            "\u001b[2K     \u001b[90m━━━━━━━━━━━━━━━━━━━━━━━━━━━━━━━━━━━━━━━━\u001b[0m \u001b[32m62.5/62.5 kB\u001b[0m \u001b[31m6.3 MB/s\u001b[0m eta \u001b[36m0:00:00\u001b[0m\n",
            "\u001b[?25hCollecting black (from python-aiconfig)\n",
            "  Downloading black-23.11.0-cp310-cp310-manylinux_2_17_x86_64.manylinux2014_x86_64.whl (1.7 MB)\n",
            "\u001b[2K     \u001b[90m━━━━━━━━━━━━━━━━━━━━━━━━━━━━━━━━━━━━━━━━\u001b[0m \u001b[32m1.7/1.7 MB\u001b[0m \u001b[31m30.2 MB/s\u001b[0m eta \u001b[36m0:00:00\u001b[0m\n",
            "\u001b[?25hCollecting flake8 (from python-aiconfig)\n",
            "  Downloading flake8-6.1.0-py2.py3-none-any.whl (58 kB)\n",
            "\u001b[2K     \u001b[90m━━━━━━━━━━━━━━━━━━━━━━━━━━━━━━━━━━━━━━━━\u001b[0m \u001b[32m58.3/58.3 kB\u001b[0m \u001b[31m5.8 MB/s\u001b[0m eta \u001b[36m0:00:00\u001b[0m\n",
            "\u001b[?25hRequirement already satisfied: pytest in /usr/local/lib/python3.10/dist-packages (from python-aiconfig) (7.4.3)\n",
            "Collecting pydantic<3,>=1.9.0 (from openai)\n",
            "  Downloading pydantic-2.5.1-py3-none-any.whl (381 kB)\n",
            "\u001b[2K     \u001b[90m━━━━━━━━━━━━━━━━━━━━━━━━━━━━━━━━━━━━━━━━\u001b[0m \u001b[32m381.6/381.6 kB\u001b[0m \u001b[31m24.9 MB/s\u001b[0m eta \u001b[36m0:00:00\u001b[0m\n",
            "\u001b[?25hCollecting pybars3 (from python-aiconfig)\n",
            "  Downloading pybars3-0.9.7.tar.gz (29 kB)\n",
            "  Preparing metadata (setup.py) ... \u001b[?25l\u001b[?25hdone\n",
            "Collecting google-generativeai (from python-aiconfig)\n",
            "  Downloading google_generativeai-0.2.2-py3-none-any.whl (133 kB)\n",
            "\u001b[2K     \u001b[90m━━━━━━━━━━━━━━━━━━━━━━━━━━━━━━━━━━━━━━━━\u001b[0m \u001b[32m133.2/133.2 kB\u001b[0m \u001b[31m14.3 MB/s\u001b[0m eta \u001b[36m0:00:00\u001b[0m\n",
            "\u001b[?25hCollecting python-dotenv (from python-aiconfig)\n",
            "  Downloading python_dotenv-1.0.0-py3-none-any.whl (19 kB)\n",
            "Collecting huggingface-hub (from python-aiconfig)\n",
            "  Downloading huggingface_hub-0.19.4-py3-none-any.whl (311 kB)\n",
            "\u001b[2K     \u001b[90m━━━━━━━━━━━━━━━━━━━━━━━━━━━━━━━━━━━━━━━━\u001b[0m \u001b[32m311.7/311.7 kB\u001b[0m \u001b[31m27.3 MB/s\u001b[0m eta \u001b[36m0:00:00\u001b[0m\n",
            "\u001b[?25hCollecting result (from python-aiconfig)\n",
            "  Downloading result-0.14.0-py3-none-any.whl (8.7 kB)\n",
            "Requirement already satisfied: nest-asyncio in /usr/local/lib/python3.10/dist-packages (from python-aiconfig) (1.5.8)\n",
            "Requirement already satisfied: charset-normalizer<4,>=2 in /usr/local/lib/python3.10/dist-packages (from requests==2.30.0->python-aiconfig) (3.3.2)\n",
            "Requirement already satisfied: idna<4,>=2.5 in /usr/local/lib/python3.10/dist-packages (from requests==2.30.0->python-aiconfig) (3.4)\n",
            "Requirement already satisfied: urllib3<3,>=1.21.1 in /usr/local/lib/python3.10/dist-packages (from requests==2.30.0->python-aiconfig) (2.0.7)\n",
            "Requirement already satisfied: certifi>=2017.4.17 in /usr/local/lib/python3.10/dist-packages (from requests==2.30.0->python-aiconfig) (2023.7.22)\n",
            "Requirement already satisfied: sniffio>=1.1 in /usr/local/lib/python3.10/dist-packages (from anyio<4,>=3.5.0->openai) (1.3.0)\n",
            "Requirement already satisfied: exceptiongroup in /usr/local/lib/python3.10/dist-packages (from anyio<4,>=3.5.0->openai) (1.1.3)\n",
            "Collecting httpcore (from httpx<1,>=0.23.0->openai)\n",
            "  Downloading httpcore-1.0.2-py3-none-any.whl (76 kB)\n",
            "\u001b[2K     \u001b[90m━━━━━━━━━━━━━━━━━━━━━━━━━━━━━━━━━━━━━━━━\u001b[0m \u001b[32m76.9/76.9 kB\u001b[0m \u001b[31m8.9 MB/s\u001b[0m eta \u001b[36m0:00:00\u001b[0m\n",
            "\u001b[?25hCollecting annotated-types>=0.4.0 (from pydantic<3,>=1.9.0->openai)\n",
            "  Downloading annotated_types-0.6.0-py3-none-any.whl (12 kB)\n",
            "Collecting pydantic-core==2.14.3 (from pydantic<3,>=1.9.0->openai)\n",
            "  Downloading pydantic_core-2.14.3-cp310-cp310-manylinux_2_17_x86_64.manylinux2014_x86_64.whl (2.1 MB)\n",
            "\u001b[2K     \u001b[90m━━━━━━━━━━━━━━━━━━━━━━━━━━━━━━━━━━━━━━━━\u001b[0m \u001b[32m2.1/2.1 MB\u001b[0m \u001b[31m70.9 MB/s\u001b[0m eta \u001b[36m0:00:00\u001b[0m\n",
            "\u001b[?25hCollecting typing-extensions<5,>=4.5 (from openai)\n",
            "  Downloading typing_extensions-4.8.0-py3-none-any.whl (31 kB)\n",
            "Requirement already satisfied: click>=8.0.0 in /usr/local/lib/python3.10/dist-packages (from black->python-aiconfig) (8.1.7)\n",
            "Collecting mypy-extensions>=0.4.3 (from black->python-aiconfig)\n",
            "  Downloading mypy_extensions-1.0.0-py3-none-any.whl (4.7 kB)\n",
            "Requirement already satisfied: packaging>=22.0 in /usr/local/lib/python3.10/dist-packages (from black->python-aiconfig) (23.2)\n",
            "Collecting pathspec>=0.9.0 (from black->python-aiconfig)\n",
            "  Downloading pathspec-0.11.2-py3-none-any.whl (29 kB)\n",
            "Requirement already satisfied: platformdirs>=2 in /usr/local/lib/python3.10/dist-packages (from black->python-aiconfig) (3.11.0)\n",
            "Requirement already satisfied: tomli>=1.1.0 in /usr/local/lib/python3.10/dist-packages (from black->python-aiconfig) (2.0.1)\n",
            "Collecting mccabe<0.8.0,>=0.7.0 (from flake8->python-aiconfig)\n",
            "  Downloading mccabe-0.7.0-py2.py3-none-any.whl (7.3 kB)\n",
            "Collecting pycodestyle<2.12.0,>=2.11.0 (from flake8->python-aiconfig)\n",
            "  Downloading pycodestyle-2.11.1-py2.py3-none-any.whl (31 kB)\n",
            "Collecting pyflakes<3.2.0,>=3.1.0 (from flake8->python-aiconfig)\n",
            "  Downloading pyflakes-3.1.0-py2.py3-none-any.whl (62 kB)\n",
            "\u001b[2K     \u001b[90m━━━━━━━━━━━━━━━━━━━━━━━━━━━━━━━━━━━━━━━━\u001b[0m \u001b[32m62.6/62.6 kB\u001b[0m \u001b[31m7.5 MB/s\u001b[0m eta \u001b[36m0:00:00\u001b[0m\n",
            "\u001b[?25hCollecting google-ai-generativelanguage==0.3.3 (from google-generativeai->python-aiconfig)\n",
            "  Downloading google_ai_generativelanguage-0.3.3-py3-none-any.whl (267 kB)\n",
            "\u001b[2K     \u001b[90m━━━━━━━━━━━━━━━━━━━━━━━━━━━━━━━━━━━━━━━━\u001b[0m \u001b[32m267.9/267.9 kB\u001b[0m \u001b[31m27.2 MB/s\u001b[0m eta \u001b[36m0:00:00\u001b[0m\n",
            "\u001b[?25hRequirement already satisfied: google-auth in /usr/local/lib/python3.10/dist-packages (from google-generativeai->python-aiconfig) (2.17.3)\n",
            "Requirement already satisfied: google-api-core in /usr/local/lib/python3.10/dist-packages (from google-generativeai->python-aiconfig) (2.11.1)\n",
            "Requirement already satisfied: protobuf in /usr/local/lib/python3.10/dist-packages (from google-generativeai->python-aiconfig) (3.20.3)\n",
            "Requirement already satisfied: proto-plus<2.0.0dev,>=1.22.0 in /usr/local/lib/python3.10/dist-packages (from google-ai-generativelanguage==0.3.3->google-generativeai->python-aiconfig) (1.22.3)\n",
            "Requirement already satisfied: filelock in /usr/local/lib/python3.10/dist-packages (from huggingface-hub->python-aiconfig) (3.13.1)\n",
            "Requirement already satisfied: fsspec>=2023.5.0 in /usr/local/lib/python3.10/dist-packages (from huggingface-hub->python-aiconfig) (2023.6.0)\n",
            "Requirement already satisfied: pyyaml>=5.1 in /usr/local/lib/python3.10/dist-packages (from huggingface-hub->python-aiconfig) (6.0.1)\n",
            "Collecting PyMeta3>=0.5.1 (from pybars3->python-aiconfig)\n",
            "  Downloading PyMeta3-0.5.1.tar.gz (29 kB)\n",
            "  Preparing metadata (setup.py) ... \u001b[?25l\u001b[?25hdone\n",
            "Requirement already satisfied: iniconfig in /usr/local/lib/python3.10/dist-packages (from pytest->python-aiconfig) (2.0.0)\n",
            "Requirement already satisfied: pluggy<2.0,>=0.12 in /usr/local/lib/python3.10/dist-packages (from pytest->python-aiconfig) (1.3.0)\n",
            "Requirement already satisfied: googleapis-common-protos<2.0.dev0,>=1.56.2 in /usr/local/lib/python3.10/dist-packages (from google-api-core->google-generativeai->python-aiconfig) (1.61.0)\n",
            "Requirement already satisfied: cachetools<6.0,>=2.0.0 in /usr/local/lib/python3.10/dist-packages (from google-auth->google-generativeai->python-aiconfig) (5.3.2)\n",
            "Requirement already satisfied: pyasn1-modules>=0.2.1 in /usr/local/lib/python3.10/dist-packages (from google-auth->google-generativeai->python-aiconfig) (0.3.0)\n",
            "Requirement already satisfied: six>=1.9.0 in /usr/local/lib/python3.10/dist-packages (from google-auth->google-generativeai->python-aiconfig) (1.16.0)\n",
            "Requirement already satisfied: rsa<5,>=3.1.4 in /usr/local/lib/python3.10/dist-packages (from google-auth->google-generativeai->python-aiconfig) (4.9)\n",
            "Collecting h11<0.15,>=0.13 (from httpcore->httpx<1,>=0.23.0->openai)\n",
            "  Downloading h11-0.14.0-py3-none-any.whl (58 kB)\n",
            "\u001b[2K     \u001b[90m━━━━━━━━━━━━━━━━━━━━━━━━━━━━━━━━━━━━━━━━\u001b[0m \u001b[32m58.3/58.3 kB\u001b[0m \u001b[31m6.7 MB/s\u001b[0m eta \u001b[36m0:00:00\u001b[0m\n",
            "\u001b[?25hRequirement already satisfied: grpcio<2.0dev,>=1.33.2 in /usr/local/lib/python3.10/dist-packages (from google-api-core->google-generativeai->python-aiconfig) (1.59.2)\n",
            "Requirement already satisfied: grpcio-status<2.0.dev0,>=1.33.2 in /usr/local/lib/python3.10/dist-packages (from google-api-core->google-generativeai->python-aiconfig) (1.48.2)\n",
            "Requirement already satisfied: pyasn1<0.6.0,>=0.4.6 in /usr/local/lib/python3.10/dist-packages (from pyasn1-modules>=0.2.1->google-auth->google-generativeai->python-aiconfig) (0.5.0)\n",
            "Building wheels for collected packages: pybars3, PyMeta3\n",
            "  Building wheel for pybars3 (setup.py) ... \u001b[?25l\u001b[?25hdone\n",
            "  Created wheel for pybars3: filename=pybars3-0.9.7-py3-none-any.whl size=14082 sha256=466c34958fd8c1100d12cd54987ea69ed40566dc043b1fe08b1b3643f4b4f27e\n",
            "  Stored in directory: /root/.cache/pip/wheels/2f/5b/65/505e94231d7dc278c9e0ddf8dbb1974cfb303eba742dbf55dd\n",
            "  Building wheel for PyMeta3 (setup.py) ... \u001b[?25l\u001b[?25hdone\n",
            "  Created wheel for PyMeta3: filename=PyMeta3-0.5.1-py3-none-any.whl size=16449 sha256=70c74c96b7127caa80140d85216359088f418fe5caae4f621cf01bf09c110198\n",
            "  Stored in directory: /root/.cache/pip/wheels/f4/ef/62/1d388a1576d871760164a1388632b29645c3f907cd009d6cb1\n",
            "Successfully built pybars3 PyMeta3\n",
            "Installing collected packages: PyMeta3, typing-extensions, result, requests, python-dotenv, pyflakes, pycodestyle, pybars3, pathspec, mypy-extensions, mccabe, h11, annotated-types, pydantic-core, huggingface-hub, httpcore, flake8, black, pydantic, httpx, openai, google-ai-generativelanguage, google-generativeai, python-aiconfig\n",
            "  Attempting uninstall: typing-extensions\n",
            "    Found existing installation: typing_extensions 4.5.0\n",
            "    Uninstalling typing_extensions-4.5.0:\n",
            "      Successfully uninstalled typing_extensions-4.5.0\n",
            "  Attempting uninstall: requests\n",
            "    Found existing installation: requests 2.31.0\n",
            "    Uninstalling requests-2.31.0:\n",
            "      Successfully uninstalled requests-2.31.0\n",
            "  Attempting uninstall: pydantic\n",
            "    Found existing installation: pydantic 1.10.13\n",
            "    Uninstalling pydantic-1.10.13:\n",
            "      Successfully uninstalled pydantic-1.10.13\n",
            "\u001b[31mERROR: pip's dependency resolver does not currently take into account all the packages that are installed. This behaviour is the source of the following dependency conflicts.\n",
            "lida 0.0.10 requires fastapi, which is not installed.\n",
            "lida 0.0.10 requires kaleido, which is not installed.\n",
            "lida 0.0.10 requires python-multipart, which is not installed.\n",
            "lida 0.0.10 requires uvicorn, which is not installed.\n",
            "llmx 0.0.15a0 requires cohere, which is not installed.\n",
            "llmx 0.0.15a0 requires tiktoken, which is not installed.\n",
            "google-colab 1.0.0 requires requests==2.31.0, but you have requests 2.30.0 which is incompatible.\n",
            "tensorflow-probability 0.22.0 requires typing-extensions<4.6.0, but you have typing-extensions 4.8.0 which is incompatible.\n",
            "yfinance 0.2.31 requires requests>=2.31, but you have requests 2.30.0 which is incompatible.\u001b[0m\u001b[31m\n",
            "\u001b[0mSuccessfully installed PyMeta3-0.5.1 annotated-types-0.6.0 black-23.11.0 flake8-6.1.0 google-ai-generativelanguage-0.3.3 google-generativeai-0.2.2 h11-0.14.0 httpcore-1.0.2 httpx-0.25.1 huggingface-hub-0.19.4 mccabe-0.7.0 mypy-extensions-1.0.0 openai-1.3.2 pathspec-0.11.2 pybars3-0.9.7 pycodestyle-2.11.1 pydantic-2.5.1 pydantic-core-2.14.3 pyflakes-3.1.0 python-aiconfig-1.0.9 python-dotenv-1.0.0 requests-2.30.0 result-0.14.0 typing-extensions-4.8.0\n"
          ]
        },
        {
          "output_type": "display_data",
          "data": {
            "application/vnd.colab-display-data+json": {
              "pip_warning": {
                "packages": [
                  "google"
                ]
              }
            }
          },
          "metadata": {}
        }
      ],
      "source": [
        "!pip install openai python-aiconfig"
      ]
    },
    {
      "cell_type": "code",
      "source": [
        "import openai\n",
        "import aiconfig\n",
        "from google.colab import userdata\n",
        "openai.api_key = userdata.get('OPENAI_API_KEY')\n"
      ],
      "metadata": {
        "colab": {
          "base_uri": "https://localhost:8080/"
        },
        "id": "ru_ujtI_-M8y",
        "outputId": "15532497-87bb-4057-c4b3-b79d4d02d474"
      },
      "execution_count": null,
      "outputs": [
        {
          "output_type": "stream",
          "name": "stderr",
          "text": [
            "/usr/local/lib/python3.10/dist-packages/pydantic/_internal/_fields.py:149: UserWarning: Field \"model_parsers\" has conflict with protected namespace \"model_\".\n",
            "\n",
            "You may be able to resolve this warning by setting `model_config['protected_namespaces'] = ()`.\n",
            "  warnings.warn(\n"
          ]
        }
      ]
    },
    {
      "cell_type": "code",
      "source": [
        "spec = {\n",
        "  \"name\": \"NYC Trip Planner\",\n",
        "  \"description\": \"Intrepid explorer with ChatGPT and AIConfig\",\n",
        "  \"schema_version\": \"latest\",\n",
        "  \"metadata\": {\n",
        "    \"models\": {\n",
        "      \"gpt-3.5-turbo\": {\n",
        "        \"model\": \"gpt-3.5-turbo\",\n",
        "        \"top_p\": 1,\n",
        "        \"temperature\": 1\n",
        "      },\n",
        "      \"gpt-4\": {\n",
        "        \"model\": \"gpt-4\",\n",
        "        \"max_tokens\": 3000,\n",
        "        \"system_prompt\": \"You are an expert travel coordinator with exquisite taste.\"\n",
        "      }\n",
        "    },\n",
        "    \"default_model\": \"gpt-3.5-turbo\"\n",
        "  },\n",
        "  \"prompts\": [\n",
        "    {\n",
        "      \"name\": \"get_activities\",\n",
        "      \"input\": \"Tell me 10 unique luxury activities in NYC.\"\n",
        "    },\n",
        "    {\n",
        "      \"name\": \"gen_itinerary\",\n",
        "      \"input\": \"Generate a ranked list ordered by {{order_by}} for these activities: {{get_activities.output}}. Include estimated cost.\",\n",
        "      \"metadata\": {\n",
        "        \"model\": \"gpt-4\",\n",
        "        \"parameters\": {\n",
        "          \"order_by\": \"activity expense, from most to least\"\n",
        "        }\n",
        "      }\n",
        "    }\n",
        "  ]\n",
        "}"
      ],
      "metadata": {
        "id": "uTDi1ftS-bSW"
      },
      "execution_count": null,
      "outputs": []
    },
    {
      "cell_type": "code",
      "source": [
        "from aiconfig import AIConfigRuntime, InferenceOptions\n",
        "\n",
        "# Load the aiconfig.\n",
        "config = AIConfigRuntime.create(**spec)\n",
        "\n",
        "# Set the inference options.\n",
        "\n",
        "# Run a single prompt\n",
        "response = await config.run(\"get_activities\")\n"
      ],
      "metadata": {
        "colab": {
          "base_uri": "https://localhost:8080/"
        },
        "id": "6x60bgAkWSJm",
        "outputId": "32432e82-f05f-47ef-95fb-4a0a314a46c1"
      },
      "execution_count": null,
      "outputs": [
        {
          "output_type": "stream",
          "name": "stderr",
          "text": [
            "INFO:my-logger:Callback called. event\n",
            ": name='on_run_start' file='aiconfig.Config' data={'prompt_name': 'get_activities', 'params': None, 'options': None, 'kwargs': {}} ts_ns=1700185913158115460\n",
            "INFO:my-logger:Callback called. event\n",
            ": name='on_run_start' file='aiconfig.default_parsers.openai' data={'prompt': Prompt(name='get_activities', input='Tell me 10 unique luxury activities in NYC.', metadata=None, outputs=[]), 'options': None, 'parameters': {}} ts_ns=1700185913158115460\n",
            "INFO:my-logger:Callback called. event\n",
            ": name='on_deserialize_start' file='aiconfig.default_parsers.openai' data={'prompt': Prompt(name='get_activities', input='Tell me 10 unique luxury activities in NYC.', metadata=None, outputs=[]), 'params': {}} ts_ns=1700185913158115460\n",
            "INFO:my-logger:Callback called. event\n",
            ": name='on_deserialize_complete' file='aiconfig.default_parsers.openai' data={'output': {'top_p': 1, 'model': 'gpt-3.5-turbo', 'temperature': 1, 'messages': [{'content': 'Tell me 10 unique luxury activities in NYC.', 'role': 'user'}]}} ts_ns=1700185913158115460\n",
            "INFO:my-logger:Callback called. event\n",
            ": name='on_run_complete' file='aiconfig.default_parsers.openai' data={'result': [ExecuteResult(output_type='execute_result', execution_count=0, data={'content': \"1. Private Helicopter Tour: Witness a bird's-eye view of New York City's iconic landmarks, including the Statue of Liberty, Central Park, and the Manhattan skyline.\\n\\n2. Exclusive Dining Experience: Enjoy a personalized menu prepared by a renowned chef in a private dining room with panoramic views of the city.\\n\\n3. Private Yacht Charter: Cruise along the Hudson River or the East River on a luxurious yacht with a dedicated crew, offering breathtaking views of the cityscape.\\n\\n4. VIP Broadway Experience: Get exclusive access to backstage tours, meet-and-greets with cast members, and premium seats for the hottest Broadway shows in town.\\n\\n5. Personal Shopping with a Stylist: Shop like a VIP as a personal stylist curates a customized shopping experience at high-end boutiques and flagship stores in New York City.\\n\\n6. Supercar Experience: Hit the streets of NYC in a luxury supercar, like a Lamborghini or Ferrari, for an unforgettable driving experience through the city's vibrant neighborhoods.\\n\\n7. Luxury Spa Retreat: Indulge in a day of pampering at one of New York City's top-rated luxury spas, offering an array of rejuvenating treatments and relaxation therapies.\\n\\n8. Private Art Gallery Tour: Explore New York City's renowned art scene with an art specialist as your guide, gaining exclusive access to private collections and insights into the contemporary art world.\\n\\n9. Champagne Sunset Sail: Witness a spectacular sunset over the Manhattan skyline aboard a private sailing yacht, while sipping on fine champagne and enjoying gourmet hors d'oeuvres.\\n\\n10. Luxury Picnic in Central Park: Experience a private picnic in Central Park, complete with a custom-designed menu, fine wines, and the beauty of one of the world's most iconic urban parks as your backdrop.\", 'role': 'assistant'}, mime_type=None, metadata={'finish_reason': 'stop'})]} ts_ns=1700185913158115460\n",
            "INFO:my-logger:Callback called. event\n",
            ": name='on_run_complete' file='aiconfig.Config' data={'result': [ExecuteResult(output_type='execute_result', execution_count=0, data={'content': \"1. Private Helicopter Tour: Witness a bird's-eye view of New York City's iconic landmarks, including the Statue of Liberty, Central Park, and the Manhattan skyline.\\n\\n2. Exclusive Dining Experience: Enjoy a personalized menu prepared by a renowned chef in a private dining room with panoramic views of the city.\\n\\n3. Private Yacht Charter: Cruise along the Hudson River or the East River on a luxurious yacht with a dedicated crew, offering breathtaking views of the cityscape.\\n\\n4. VIP Broadway Experience: Get exclusive access to backstage tours, meet-and-greets with cast members, and premium seats for the hottest Broadway shows in town.\\n\\n5. Personal Shopping with a Stylist: Shop like a VIP as a personal stylist curates a customized shopping experience at high-end boutiques and flagship stores in New York City.\\n\\n6. Supercar Experience: Hit the streets of NYC in a luxury supercar, like a Lamborghini or Ferrari, for an unforgettable driving experience through the city's vibrant neighborhoods.\\n\\n7. Luxury Spa Retreat: Indulge in a day of pampering at one of New York City's top-rated luxury spas, offering an array of rejuvenating treatments and relaxation therapies.\\n\\n8. Private Art Gallery Tour: Explore New York City's renowned art scene with an art specialist as your guide, gaining exclusive access to private collections and insights into the contemporary art world.\\n\\n9. Champagne Sunset Sail: Witness a spectacular sunset over the Manhattan skyline aboard a private sailing yacht, while sipping on fine champagne and enjoying gourmet hors d'oeuvres.\\n\\n10. Luxury Picnic in Central Park: Experience a private picnic in Central Park, complete with a custom-designed menu, fine wines, and the beauty of one of the world's most iconic urban parks as your backdrop.\", 'role': 'assistant'}, mime_type=None, metadata={'finish_reason': 'stop'})]} ts_ns=1700185913158115460\n"
          ]
        }
      ]
    },
    {
      "cell_type": "code",
      "source": [
        "response = await config.run(\"gen_itinerary\")"
      ],
      "metadata": {
        "colab": {
          "base_uri": "https://localhost:8080/"
        },
        "id": "jhmoyfy-WmxL",
        "outputId": "6cb7e288-0c36-42ac-abc6-8639730afa8e"
      },
      "execution_count": null,
      "outputs": [
        {
          "output_type": "stream",
          "name": "stderr",
          "text": [
            "INFO:my-logger:Callback called. event\n",
            ": name='on_run_start' file='aiconfig.Config' data={'prompt_name': 'gen_itinerary', 'params': None, 'options': None, 'kwargs': {}} ts_ns=1700185913158115460\n",
            "INFO:my-logger:Callback called. event\n",
            ": name='on_run_start' file='aiconfig.default_parsers.openai' data={'prompt': Prompt(name='gen_itinerary', input='Generate a ranked list ordered by {{order_by}} for these activities: {{get_activities.output}}. Include estimated cost.', metadata=PromptMetadata(model='gpt-4', tags=None, parameters={'order_by': 'activity expense, from most to least'}), outputs=[]), 'options': None, 'parameters': {}} ts_ns=1700185913158115460\n",
            "INFO:my-logger:Callback called. event\n",
            ": name='on_deserialize_start' file='aiconfig.default_parsers.openai' data={'prompt': Prompt(name='gen_itinerary', input='Generate a ranked list ordered by {{order_by}} for these activities: {{get_activities.output}}. Include estimated cost.', metadata=PromptMetadata(model='gpt-4', tags=None, parameters={'order_by': 'activity expense, from most to least'}), outputs=[]), 'params': {}} ts_ns=1700185913158115460\n",
            "INFO:my-logger:Callback called. event\n",
            ": name='on_deserialize_complete' file='aiconfig.default_parsers.openai' data={'output': {'max_tokens': 3000, 'model': 'gpt-4', 'messages': [{'content': 'You are an expert travel coordinator with exquisite taste.', 'role': 'system'}, {'content': 'Generate a ranked list ordered by activity expense, from most to least for these activities: 1. Private Helicopter Tour: Witness a bird&#x27;s-eye view of New York City&#x27;s iconic landmarks, including the Statue of Liberty, Central Park, and the Manhattan skyline.\\n\\n2. Exclusive Dining Experience: Enjoy a personalized menu prepared by a renowned chef in a private dining room with panoramic views of the city.\\n\\n3. Private Yacht Charter: Cruise along the Hudson River or the East River on a luxurious yacht with a dedicated crew, offering breathtaking views of the cityscape.\\n\\n4. VIP Broadway Experience: Get exclusive access to backstage tours, meet-and-greets with cast members, and premium seats for the hottest Broadway shows in town.\\n\\n5. Personal Shopping with a Stylist: Shop like a VIP as a personal stylist curates a customized shopping experience at high-end boutiques and flagship stores in New York City.\\n\\n6. Supercar Experience: Hit the streets of NYC in a luxury supercar, like a Lamborghini or Ferrari, for an unforgettable driving experience through the city&#x27;s vibrant neighborhoods.\\n\\n7. Luxury Spa Retreat: Indulge in a day of pampering at one of New York City&#x27;s top-rated luxury spas, offering an array of rejuvenating treatments and relaxation therapies.\\n\\n8. Private Art Gallery Tour: Explore New York City&#x27;s renowned art scene with an art specialist as your guide, gaining exclusive access to private collections and insights into the contemporary art world.\\n\\n9. Champagne Sunset Sail: Witness a spectacular sunset over the Manhattan skyline aboard a private sailing yacht, while sipping on fine champagne and enjoying gourmet hors d&#x27;oeuvres.\\n\\n10. Luxury Picnic in Central Park: Experience a private picnic in Central Park, complete with a custom-designed menu, fine wines, and the beauty of one of the world&#x27;s most iconic urban parks as your backdrop.. Include estimated cost.', 'role': 'user'}]}} ts_ns=1700185913158115460\n",
            "INFO:my-logger:Callback called. event\n",
            ": name='on_run_complete' file='aiconfig.default_parsers.openai' data={'result': [ExecuteResult(output_type='execute_result', execution_count=0, data={'content': \"1. Private Yacht Charter: Cruise along the Hudson or East River on a luxury yacht with a dedicated crew. Estimated cost: $20,000-25,000 per day.\\n   \\n2. Private Helicopter Tour: Take a bird's-eye view of New York City's iconic landmarks. Estimated cost: $1,700-2,000 per hour.\\n\\n3. Exclusive Dining Experience: Enjoy a personalized dining experience with a famous chef in a private room with panoramic city views. Estimated cost: $1,000-1,500 per person.\\n\\n4. Supercar Experience: Drive a luxury supercar, like a Lamborghini or Ferrari, through NYC's neighborhoods. Estimated cost: $900-1,200 for a day's rental. \\n\\n5. VIP Broadway Experience: Get backstage tours, meet Broadway cast members, and gain access to premium seats for popular shows. Estimated cost: $500-700 per person.\\n\\n6. Personal Shopping with a Stylist: Have a personal stylist curate a VIP shopping experience at high-end boutiques and flagship stores in NYC. Estimated cost: $400-600 for a day.\\n\\n7. Luxury Spa Retreat: Spend a day at one of New York City's top-rated luxury spas. Estimated cost: $300-500 for a day.\\n\\n8. Private Art Gallery Tour: Tour NYC's reputed art scene with an art specialist. Gain exclusive access to private collections. Estimated cost: $200-400 per person.\\n\\n9. Champagne Sunset Sail: Watch a beautiful sunset over the Manhattan skyline on a private sailing yacht while sipping on champagne and enjoying appetizers. Estimated cost: $150-300 per person.\\n\\n10. Luxury Picnic in Central Park: Experience a private picnic in Central Park with a custom-designed menu and fine wines. Estimated cost: $100-200 per person.\", 'role': 'assistant'}, mime_type=None, metadata={'finish_reason': 'stop'})]} ts_ns=1700185913158115460\n",
            "INFO:my-logger:Callback called. event\n",
            ": name='on_run_complete' file='aiconfig.Config' data={'result': [ExecuteResult(output_type='execute_result', execution_count=0, data={'content': \"1. Private Yacht Charter: Cruise along the Hudson or East River on a luxury yacht with a dedicated crew. Estimated cost: $20,000-25,000 per day.\\n   \\n2. Private Helicopter Tour: Take a bird's-eye view of New York City's iconic landmarks. Estimated cost: $1,700-2,000 per hour.\\n\\n3. Exclusive Dining Experience: Enjoy a personalized dining experience with a famous chef in a private room with panoramic city views. Estimated cost: $1,000-1,500 per person.\\n\\n4. Supercar Experience: Drive a luxury supercar, like a Lamborghini or Ferrari, through NYC's neighborhoods. Estimated cost: $900-1,200 for a day's rental. \\n\\n5. VIP Broadway Experience: Get backstage tours, meet Broadway cast members, and gain access to premium seats for popular shows. Estimated cost: $500-700 per person.\\n\\n6. Personal Shopping with a Stylist: Have a personal stylist curate a VIP shopping experience at high-end boutiques and flagship stores in NYC. Estimated cost: $400-600 for a day.\\n\\n7. Luxury Spa Retreat: Spend a day at one of New York City's top-rated luxury spas. Estimated cost: $300-500 for a day.\\n\\n8. Private Art Gallery Tour: Tour NYC's reputed art scene with an art specialist. Gain exclusive access to private collections. Estimated cost: $200-400 per person.\\n\\n9. Champagne Sunset Sail: Watch a beautiful sunset over the Manhattan skyline on a private sailing yacht while sipping on champagne and enjoying appetizers. Estimated cost: $150-300 per person.\\n\\n10. Luxury Picnic in Central Park: Experience a private picnic in Central Park with a custom-designed menu and fine wines. Estimated cost: $100-200 per person.\", 'role': 'assistant'}, mime_type=None, metadata={'finish_reason': 'stop'})]} ts_ns=1700185913158115460\n"
          ]
        }
      ]
    },
    {
      "cell_type": "code",
      "source": [
        "from pprint import pprint"
      ],
      "metadata": {
        "id": "yAzqdPIqZhu0"
      },
      "execution_count": null,
      "outputs": []
    },
    {
      "cell_type": "code",
      "source": [
        "pprint(response[0].data)"
      ],
      "metadata": {
        "colab": {
          "base_uri": "https://localhost:8080/"
        },
        "id": "wZfbG4OSY-DN",
        "outputId": "09d2bc6c-edaa-4c82-d069-e0339202785a"
      },
      "execution_count": null,
      "outputs": [
        {
          "output_type": "stream",
          "name": "stdout",
          "text": [
            "{'content': '1. Private Yacht Charter: Cruise along the Hudson or East River '\n",
            "            'on a luxury yacht with a dedicated crew. Estimated cost: '\n",
            "            '$20,000-25,000 per day.\\n'\n",
            "            '   \\n'\n",
            "            \"2. Private Helicopter Tour: Take a bird's-eye view of New York \"\n",
            "            \"City's iconic landmarks. Estimated cost: $1,700-2,000 per hour.\\n\"\n",
            "            '\\n'\n",
            "            '3. Exclusive Dining Experience: Enjoy a personalized dining '\n",
            "            'experience with a famous chef in a private room with panoramic '\n",
            "            'city views. Estimated cost: $1,000-1,500 per person.\\n'\n",
            "            '\\n'\n",
            "            '4. Supercar Experience: Drive a luxury supercar, like a '\n",
            "            \"Lamborghini or Ferrari, through NYC's neighborhoods. Estimated \"\n",
            "            \"cost: $900-1,200 for a day's rental. \\n\"\n",
            "            '\\n'\n",
            "            '5. VIP Broadway Experience: Get backstage tours, meet Broadway '\n",
            "            'cast members, and gain access to premium seats for popular shows. '\n",
            "            'Estimated cost: $500-700 per person.\\n'\n",
            "            '\\n'\n",
            "            '6. Personal Shopping with a Stylist: Have a personal stylist '\n",
            "            'curate a VIP shopping experience at high-end boutiques and '\n",
            "            'flagship stores in NYC. Estimated cost: $400-600 for a day.\\n'\n",
            "            '\\n'\n",
            "            \"7. Luxury Spa Retreat: Spend a day at one of New York City's \"\n",
            "            'top-rated luxury spas. Estimated cost: $300-500 for a day.\\n'\n",
            "            '\\n'\n",
            "            \"8. Private Art Gallery Tour: Tour NYC's reputed art scene with an \"\n",
            "            'art specialist. Gain exclusive access to private collections. '\n",
            "            'Estimated cost: $200-400 per person.\\n'\n",
            "            '\\n'\n",
            "            '9. Champagne Sunset Sail: Watch a beautiful sunset over the '\n",
            "            'Manhattan skyline on a private sailing yacht while sipping on '\n",
            "            'champagne and enjoying appetizers. Estimated cost: $150-300 per '\n",
            "            'person.\\n'\n",
            "            '\\n'\n",
            "            '10. Luxury Picnic in Central Park: Experience a private picnic in '\n",
            "            'Central Park with a custom-designed menu and fine wines. '\n",
            "            'Estimated cost: $100-200 per person.',\n",
            " 'role': 'assistant'}\n"
          ]
        }
      ]
    },
    {
      "cell_type": "markdown",
      "source": [
        "## Function Calling"
      ],
      "metadata": {
        "id": "jxkHKfMLbTLN"
      }
    },
    {
      "cell_type": "code",
      "source": [
        "from pydantic import create_model\n",
        "from typing import Callable, List\n",
        "import inspect, json\n",
        "from inspect import Parameter\n",
        "def sums(a:int, b:int=1):\n",
        "    \"Adds a + b\"\n",
        "    return a + b\n",
        "def schema(f):\n",
        "    kw = {n:(o.annotation, ... if o.default==Parameter.empty else o.default)\n",
        "          for n,o in inspect.signature(f).parameters.items()}\n",
        "    s = create_model(f'Input for `{f.__name__}`', **kw).schema()\n",
        "    return dict(name=f.__name__, description=f.__doc__, parameters=s)"
      ],
      "metadata": {
        "id": "x6rFM3Vpcs-D"
      },
      "execution_count": null,
      "outputs": []
    },
    {
      "cell_type": "code",
      "source": [
        "def build_function_call_spec(functions: List[Callable]):\n",
        "    spec = json.loads(\"\"\"\n",
        "        {\n",
        "            \"name\": \"function-call-demo\",\n",
        "            \"description\": \"this is a demo AIConfig to show function calling using OpenAI\",\n",
        "            \"schema_version\": \"latest\",\n",
        "            \"metadata\": {},\n",
        "            \"prompts\": [\n",
        "                {\n",
        "                \"name\": \"recommendBook\",\n",
        "                \"input\": {\n",
        "                    \"role\": \"user\",\n",
        "                    \"content\": \"I really enjoyed reading {{book}}, could you recommend me a book that is similar and tell me why?\"\n",
        "                },\n",
        "                \"metadata\": {\n",
        "                    \"model\": {\n",
        "                        \"name\": \"gpt-3.5-turbo\",\n",
        "                        \"settings\": {\n",
        "                            \"model\": \"gpt-3.5-turbo\",\n",
        "                            \"functions\": [\n",
        "                            ],\n",
        "                            \"system_prompt\": {\n",
        "                            \"role\": \"system\",\n",
        "                            \"content\": \"Please use our book database, which you can access using functions to answer the following questions.\"\n",
        "                            }\n",
        "                        }\n",
        "                    },\n",
        "                    \"parameters\": {},\n",
        "                    \"remember_chat_context\": true\n",
        "                }\n",
        "                }\n",
        "            ]\n",
        "        }\n",
        "    \"\"\")\n",
        "    spec[\"prompts\"][0][\"metadata\"][\"model\"][\"settings\"][\"functions\"] = [schema(f) for f in functions]\n",
        "    return spec\n",
        "\n"
      ],
      "metadata": {
        "id": "ZST3nyXJbwEs"
      },
      "execution_count": null,
      "outputs": []
    },
    {
      "cell_type": "code",
      "source": [
        "import copy\n",
        "import json\n",
        "import uuid\n",
        "from aiconfig import AIConfigRuntime\n",
        "from aiconfig import Prompt\n",
        "from aiconfig import PromptInput\n",
        "from aiconfig.model_parser import InferenceOptions\n",
        "from pprint import pprint\n",
        "\n",
        "\n",
        "async def function_calling(function_list):\n",
        "    function_call_spec = build_function_call_spec(function_list)\n",
        "    config = AIConfigRuntime.create(**function_call_spec)\n",
        "\n",
        "    params = {\n",
        "        \"book\": \"Where the Crawdads Sing\",\n",
        "    }\n",
        "\n",
        "    completionParams = await config.resolve(\"recommendBook\", params)\n",
        "\n",
        "    print(\"completionParams=\", end=\" \")\n",
        "    pprint(completionParams)\n",
        "\n",
        "    messages = completionParams[\"messages\"]\n",
        "    print(messages[0])\n",
        "    print(messages[1])\n",
        "    print()\n",
        "\n",
        "    promptToRun = \"recommendBook\"\n",
        "\n",
        "    inference_options = InferenceOptions(stream=True)\n",
        "\n",
        "    while True:\n",
        "        model_output = await config.run(promptToRun, params, inference_options)\n",
        "\n",
        "        output = model_output[0] if isinstance(model_output, list) else model_output\n",
        "\n",
        "        if output.output_type == \"error\":\n",
        "            print(f\"Error during inference: {output.ename}: {output.evalue}\")\n",
        "            return config\n",
        "\n",
        "        message = output.data\n",
        "\n",
        "        # If there is no function call, we're done and can exit this loop\n",
        "        if not message.get(\"function_call\", None):\n",
        "            return config\n",
        "\n",
        "        # If there is a function call, we generate a new message with the role 'function'.\n",
        "\n",
        "        result = await callFunction(message.get(\"function_call\"))\n",
        "\n",
        "        new_message = {\n",
        "            \"role\": \"function\",\n",
        "            \"name\": message[\"function_call\"][\"name\"],\n",
        "            \"content\": json.dumps(result),\n",
        "        }\n",
        "\n",
        "        promptToRun = f\"functionCallResult-{uuid.uuid4()}\"\n",
        "\n",
        "        existing_prompt = config.get_prompt(\"recommendBook\")\n",
        "\n",
        "        new_prompt = copy.deepcopy(existing_prompt)\n",
        "        new_prompt.name = promptToRun\n",
        "        new_prompt.input = PromptInput(**new_message)\n",
        "        new_prompt.outputs = []\n",
        "\n",
        "        config.add_prompt(new_prompt.name, new_prompt)\n",
        "\n",
        "        print(f\"{new_message}\\n\")\n",
        "\n",
        "\n",
        "db = [\n",
        "    {\n",
        "        \"id\": \"a1\",\n",
        "        \"name\": \"To Kill a Mockingbird\",\n",
        "        \"genre\": \"historical\",\n",
        "        \"description\": 'Compassionate, dramatic, and deeply moving, \"To Kill A Mockingbird\" takes readers to the roots of human behavior - to innocence and experience, kindness and cruelty, love and hatred, humor and pathos. Now with over 18 million copies in print and translated into forty languages, this regional story by a young Alabama woman claims universal appeal. Harper Lee always considered her book to be a simple love story. Today it is regarded as a masterpiece of American literature.',\n",
        "    },\n",
        "    {\n",
        "        \"id\": \"a2\",\n",
        "        \"name\": \"All the Light We Cannot See\",\n",
        "        \"genre\": \"historical\",\n",
        "        \"description\": \"In a mining town in Germany, Werner Pfennig, an orphan, grows up with his younger sister, enchanted by a crude radio they find that brings them news and stories from places they have never seen or imagined. Werner becomes an expert at building and fixing these crucial new instruments and is enlisted to use his talent to track down the resistance. Deftly interweaving the lives of Marie-Laure and Werner, Doerr illuminates the ways, against all odds, people try to be good to one another.\",\n",
        "    },\n",
        "    {\n",
        "        \"id\": \"a3\",\n",
        "        \"name\": \"Where the Crawdads Sing\",\n",
        "        \"genre\": \"historical\",\n",
        "        \"description\": \"\"\"For years, rumors of the “Marsh Girl” haunted Barkley Cove, a quiet fishing village. Kya Clark is barefoot and wild; unfit for polite society. So in late 1969, when the popular Chase Andrews is found dead, locals immediately suspect her.\n",
        "\n",
        "But Kya is not what they say. A born naturalist with just one day of school, she takes life's lessons from the land, learning the real ways of the world from the dishonest signals of fireflies. But while she has the skills to live in solitude forever, the time comes when she yearns to be touched and loved. Drawn to two young men from town, who are each intrigued by her wild beauty, Kya opens herself to a new and startling world—until the unthinkable happens.\"\"\",\n",
        "    },\n",
        "]\n",
        "\n",
        "\n",
        "async def list_items(genre: str):\n",
        "    \"\"\"list queries books by genre, and returns a list of names of books\"\"\"\n",
        "    # filter\n",
        "    items = [item for item in db if item[\"genre\"] == genre]\n",
        "    # map\n",
        "    return [{\"name\": item[\"name\"], \"id\": item[\"id\"]} for item in items]\n",
        "\n",
        "\n",
        "async def search(name: str):\n",
        "    \"\"\"search queries books by their name and returns a list of book names and their ids\"\"\"\n",
        "    # filter\n",
        "    items = [item for item in db if name in item[\"name\"]]\n",
        "    # map\n",
        "    return [{\"name\": item[\"name\"], \"id\": item[\"id\"]} for item in items]\n",
        "\n",
        "\n",
        "async def get(id: str):\n",
        "    \"\"\"get returns a book's detailed information based on the id of the book. Note that this does not accept names, and only IDs, which you can get by using search.\"\"\"\n",
        "    return [item for item in db if item[\"id\"] == id][0] or None\n",
        "\n",
        "\n",
        "async def callFunction(function_call):\n",
        "    args = function_call.get(\"arguments\", None)\n",
        "    args = json.loads(args) if args else None\n",
        "\n",
        "    if not args:\n",
        "        raise Exception(\"No arguments found\")\n",
        "\n",
        "    match function_call.get(\"name\"):\n",
        "        case \"list_items\":\n",
        "            return await list_items(args[\"genre\"])\n",
        "        case \"search\":\n",
        "            return await search(args[\"name\"])\n",
        "        case \"get\":\n",
        "            return await get(args[\"id\"])\n",
        "\n"
      ],
      "metadata": {
        "id": "fBN7ETp6bV5o"
      },
      "execution_count": null,
      "outputs": []
    },
    {
      "cell_type": "code",
      "source": [
        "book_search = await function_calling([list_items, search, get])"
      ],
      "metadata": {
        "id": "N_xXpgFzbZVI",
        "colab": {
          "base_uri": "https://localhost:8080/"
        },
        "outputId": "bb5d1229-1b47-4ea1-9299-94b1d23ac6a9"
      },
      "execution_count": null,
      "outputs": [
        {
          "output_type": "stream",
          "name": "stderr",
          "text": [
            "<ipython-input-39-d40b6c76d851>:11: PydanticDeprecatedSince20: The `schema` method is deprecated; use `model_json_schema` instead. Deprecated in Pydantic V2.0 to be removed in V3.0. See Pydantic V2 Migration Guide at https://errors.pydantic.dev/2.5/migration/\n",
            "  s = create_model(f'Input for `{f.__name__}`', **kw).schema()\n",
            "INFO:my-logger:Callback called. event\n",
            ": name='on_resolve_start' file='/usr/local/lib/python3.10/dist-packages/aiconfig/Config.py' data={'prompt_name': 'recommendBook', 'params': {'book': 'Where the Crawdads Sing'}} ts_ns=1700185913158115460\n",
            "INFO:my-logger:Callback called. event\n",
            ": name='on_deserialize_start' file='aiconfig.default_parsers.openai' data={'prompt': Prompt(name='recommendBook', input=PromptInput(data=None, role='user', content='I really enjoyed reading {{book}}, could you recommend me a book that is similar and tell me why?'), metadata=PromptMetadata(model=ModelMetadata(name='gpt-3.5-turbo', settings={'model': 'gpt-3.5-turbo', 'functions': [{'name': 'list_items', 'description': 'list queries books by genre, and returns a list of names of books', 'parameters': {'properties': {'genre': {'title': 'Genre', 'type': 'string'}}, 'required': ['genre'], 'title': 'Input for `list_items`', 'type': 'object'}}, {'name': 'search', 'description': 'search queries books by their name and returns a list of book names and their ids', 'parameters': {'properties': {'name': {'title': 'Name', 'type': 'string'}}, 'required': ['name'], 'title': 'Input for `search`', 'type': 'object'}}, {'name': 'get', 'description': \"get returns a book's detailed information based on the id of the book. Note that this does not accept names, and only IDs, which you can get by using search.\", 'parameters': {'properties': {'id': {'title': 'Id', 'type': 'string'}}, 'required': ['id'], 'title': 'Input for `get`', 'type': 'object'}}], 'system_prompt': {'role': 'system', 'content': 'Please use our book database, which you can access using functions to answer the following questions.'}}), tags=None, parameters={}, remember_chat_context=True), outputs=[]), 'params': {'book': 'Where the Crawdads Sing'}} ts_ns=1700185913158115460\n",
            "INFO:my-logger:Callback called. event\n",
            ": name='on_deserialize_complete' file='aiconfig.default_parsers.openai' data={'output': {'functions': [{'name': 'list_items', 'description': 'list queries books by genre, and returns a list of names of books', 'parameters': {'properties': {'genre': {'title': 'Genre', 'type': 'string'}}, 'required': ['genre'], 'title': 'Input for `list_items`', 'type': 'object'}}, {'name': 'search', 'description': 'search queries books by their name and returns a list of book names and their ids', 'parameters': {'properties': {'name': {'title': 'Name', 'type': 'string'}}, 'required': ['name'], 'title': 'Input for `search`', 'type': 'object'}}, {'name': 'get', 'description': \"get returns a book's detailed information based on the id of the book. Note that this does not accept names, and only IDs, which you can get by using search.\", 'parameters': {'properties': {'id': {'title': 'Id', 'type': 'string'}}, 'required': ['id'], 'title': 'Input for `get`', 'type': 'object'}}], 'model': 'gpt-3.5-turbo', 'messages': [{'content': 'Please use our book database, which you can access using functions to answer the following questions.', 'role': 'system'}, {'content': 'I really enjoyed reading Where the Crawdads Sing, could you recommend me a book that is similar and tell me why?', 'role': 'user'}]}} ts_ns=1700185913158115460\n",
            "INFO:my-logger:Callback called. event\n",
            ": name='on_resolve_complete' file='aiconfig.Config' data={'result': {'functions': [{'name': 'list_items', 'description': 'list queries books by genre, and returns a list of names of books', 'parameters': {'properties': {'genre': {'title': 'Genre', 'type': 'string'}}, 'required': ['genre'], 'title': 'Input for `list_items`', 'type': 'object'}}, {'name': 'search', 'description': 'search queries books by their name and returns a list of book names and their ids', 'parameters': {'properties': {'name': {'title': 'Name', 'type': 'string'}}, 'required': ['name'], 'title': 'Input for `search`', 'type': 'object'}}, {'name': 'get', 'description': \"get returns a book's detailed information based on the id of the book. Note that this does not accept names, and only IDs, which you can get by using search.\", 'parameters': {'properties': {'id': {'title': 'Id', 'type': 'string'}}, 'required': ['id'], 'title': 'Input for `get`', 'type': 'object'}}], 'model': 'gpt-3.5-turbo', 'messages': [{'content': 'Please use our book database, which you can access using functions to answer the following questions.', 'role': 'system'}, {'content': 'I really enjoyed reading Where the Crawdads Sing, could you recommend me a book that is similar and tell me why?', 'role': 'user'}]}} ts_ns=1700185913158115460\n",
            "INFO:my-logger:Callback called. event\n",
            ": name='on_run_start' file='aiconfig.Config' data={'prompt_name': 'recommendBook', 'params': {'book': 'Where the Crawdads Sing'}, 'options': <aiconfig.model_parser.InferenceOptions object at 0x7a2f97cfa920>, 'kwargs': {}} ts_ns=1700185913158115460\n",
            "INFO:my-logger:Callback called. event\n",
            ": name='on_run_start' file='aiconfig.default_parsers.openai' data={'prompt': Prompt(name='recommendBook', input=PromptInput(data=None, role='user', content='I really enjoyed reading {{book}}, could you recommend me a book that is similar and tell me why?'), metadata=PromptMetadata(model=ModelMetadata(name='gpt-3.5-turbo', settings={'model': 'gpt-3.5-turbo', 'functions': [{'name': 'list_items', 'description': 'list queries books by genre, and returns a list of names of books', 'parameters': {'properties': {'genre': {'title': 'Genre', 'type': 'string'}}, 'required': ['genre'], 'title': 'Input for `list_items`', 'type': 'object'}}, {'name': 'search', 'description': 'search queries books by their name and returns a list of book names and their ids', 'parameters': {'properties': {'name': {'title': 'Name', 'type': 'string'}}, 'required': ['name'], 'title': 'Input for `search`', 'type': 'object'}}, {'name': 'get', 'description': \"get returns a book's detailed information based on the id of the book. Note that this does not accept names, and only IDs, which you can get by using search.\", 'parameters': {'properties': {'id': {'title': 'Id', 'type': 'string'}}, 'required': ['id'], 'title': 'Input for `get`', 'type': 'object'}}], 'system_prompt': {'role': 'system', 'content': 'Please use our book database, which you can access using functions to answer the following questions.'}}), tags=None, parameters={}, remember_chat_context=True), outputs=[]), 'options': <aiconfig.model_parser.InferenceOptions object at 0x7a2f97cfa920>, 'parameters': {'book': 'Where the Crawdads Sing'}} ts_ns=1700185913158115460\n",
            "INFO:my-logger:Callback called. event\n",
            ": name='on_deserialize_start' file='aiconfig.default_parsers.openai' data={'prompt': Prompt(name='recommendBook', input=PromptInput(data=None, role='user', content='I really enjoyed reading {{book}}, could you recommend me a book that is similar and tell me why?'), metadata=PromptMetadata(model=ModelMetadata(name='gpt-3.5-turbo', settings={'model': 'gpt-3.5-turbo', 'functions': [{'name': 'list_items', 'description': 'list queries books by genre, and returns a list of names of books', 'parameters': {'properties': {'genre': {'title': 'Genre', 'type': 'string'}}, 'required': ['genre'], 'title': 'Input for `list_items`', 'type': 'object'}}, {'name': 'search', 'description': 'search queries books by their name and returns a list of book names and their ids', 'parameters': {'properties': {'name': {'title': 'Name', 'type': 'string'}}, 'required': ['name'], 'title': 'Input for `search`', 'type': 'object'}}, {'name': 'get', 'description': \"get returns a book's detailed information based on the id of the book. Note that this does not accept names, and only IDs, which you can get by using search.\", 'parameters': {'properties': {'id': {'title': 'Id', 'type': 'string'}}, 'required': ['id'], 'title': 'Input for `get`', 'type': 'object'}}], 'system_prompt': {'role': 'system', 'content': 'Please use our book database, which you can access using functions to answer the following questions.'}}), tags=None, parameters={}, remember_chat_context=True), outputs=[]), 'params': {'book': 'Where the Crawdads Sing'}} ts_ns=1700185913158115460\n",
            "INFO:my-logger:Callback called. event\n",
            ": name='on_deserialize_complete' file='aiconfig.default_parsers.openai' data={'output': {'functions': [{'name': 'list_items', 'description': 'list queries books by genre, and returns a list of names of books', 'parameters': {'properties': {'genre': {'title': 'Genre', 'type': 'string'}}, 'required': ['genre'], 'title': 'Input for `list_items`', 'type': 'object'}}, {'name': 'search', 'description': 'search queries books by their name and returns a list of book names and their ids', 'parameters': {'properties': {'name': {'title': 'Name', 'type': 'string'}}, 'required': ['name'], 'title': 'Input for `search`', 'type': 'object'}}, {'name': 'get', 'description': \"get returns a book's detailed information based on the id of the book. Note that this does not accept names, and only IDs, which you can get by using search.\", 'parameters': {'properties': {'id': {'title': 'Id', 'type': 'string'}}, 'required': ['id'], 'title': 'Input for `get`', 'type': 'object'}}], 'model': 'gpt-3.5-turbo', 'messages': [{'content': 'Please use our book database, which you can access using functions to answer the following questions.', 'role': 'system'}, {'content': 'I really enjoyed reading Where the Crawdads Sing, could you recommend me a book that is similar and tell me why?', 'role': 'user'}]}} ts_ns=1700185913158115460\n"
          ]
        },
        {
          "output_type": "stream",
          "name": "stdout",
          "text": [
            "completionParams= {'functions': [{'description': 'list queries books by genre, and returns a '\n",
            "                               'list of names of books',\n",
            "                'name': 'list_items',\n",
            "                'parameters': {'properties': {'genre': {'title': 'Genre',\n",
            "                                                        'type': 'string'}},\n",
            "                               'required': ['genre'],\n",
            "                               'title': 'Input for `list_items`',\n",
            "                               'type': 'object'}},\n",
            "               {'description': 'search queries books by their name and returns '\n",
            "                               'a list of book names and their ids',\n",
            "                'name': 'search',\n",
            "                'parameters': {'properties': {'name': {'title': 'Name',\n",
            "                                                       'type': 'string'}},\n",
            "                               'required': ['name'],\n",
            "                               'title': 'Input for `search`',\n",
            "                               'type': 'object'}},\n",
            "               {'description': \"get returns a book's detailed information \"\n",
            "                               'based on the id of the book. Note that this '\n",
            "                               'does not accept names, and only IDs, which you '\n",
            "                               'can get by using search.',\n",
            "                'name': 'get',\n",
            "                'parameters': {'properties': {'id': {'title': 'Id',\n",
            "                                                     'type': 'string'}},\n",
            "                               'required': ['id'],\n",
            "                               'title': 'Input for `get`',\n",
            "                               'type': 'object'}}],\n",
            " 'messages': [{'content': 'Please use our book database, which you can access '\n",
            "                          'using functions to answer the following questions.',\n",
            "               'role': 'system'},\n",
            "              {'content': 'I really enjoyed reading Where the Crawdads Sing, '\n",
            "                          'could you recommend me a book that is similar and '\n",
            "                          'tell me why?',\n",
            "               'role': 'user'}],\n",
            " 'model': 'gpt-3.5-turbo'}\n",
            "{'content': 'Please use our book database, which you can access using functions to answer the following questions.', 'role': 'system'}\n",
            "{'content': 'I really enjoyed reading Where the Crawdads Sing, could you recommend me a book that is similar and tell me why?', 'role': 'user'}\n",
            "\n"
          ]
        },
        {
          "output_type": "stream",
          "name": "stderr",
          "text": [
            "INFO:my-logger:Callback called. event\n",
            ": name='on_run_complete' file='aiconfig.default_parsers.openai' data={'result': [ExecuteResult(output_type='execute_result', execution_count=0, data={'function_call': {'arguments': '{\\n\"name\": \"Where the Crawdads Sing\"\\n}', 'name': 'search'}, 'role': 'assistant'}, mime_type=None, metadata={'finish_reason': 'function_call'})]} ts_ns=1700185913158115460\n",
            "INFO:my-logger:Callback called. event\n",
            ": name='on_run_complete' file='aiconfig.Config' data={'result': [ExecuteResult(output_type='execute_result', execution_count=0, data={'function_call': {'arguments': '{\\n\"name\": \"Where the Crawdads Sing\"\\n}', 'name': 'search'}, 'role': 'assistant'}, mime_type=None, metadata={'finish_reason': 'function_call'})]} ts_ns=1700185913158115460\n",
            "INFO:my-logger:Callback called. event\n",
            ": name='on_run_start' file='aiconfig.Config' data={'prompt_name': 'functionCallResult-ed6463b4-93ba-4446-bf26-2ff771be0b99', 'params': {'book': 'Where the Crawdads Sing'}, 'options': <aiconfig.model_parser.InferenceOptions object at 0x7a2f97cfa920>, 'kwargs': {}} ts_ns=1700185913158115460\n",
            "INFO:my-logger:Callback called. event\n",
            ": name='on_run_start' file='aiconfig.default_parsers.openai' data={'prompt': Prompt(name='functionCallResult-ed6463b4-93ba-4446-bf26-2ff771be0b99', input=PromptInput(data=None, role='function', name='search', content='[{\"name\": \"Where the Crawdads Sing\", \"id\": \"a3\"}]'), metadata=PromptMetadata(model=ModelMetadata(name='gpt-3.5-turbo', settings={'model': 'gpt-3.5-turbo', 'functions': [{'name': 'list_items', 'description': 'list queries books by genre, and returns a list of names of books', 'parameters': {'properties': {'genre': {'title': 'Genre', 'type': 'string'}}, 'required': ['genre'], 'title': 'Input for `list_items`', 'type': 'object'}}, {'name': 'search', 'description': 'search queries books by their name and returns a list of book names and their ids', 'parameters': {'properties': {'name': {'title': 'Name', 'type': 'string'}}, 'required': ['name'], 'title': 'Input for `search`', 'type': 'object'}}, {'name': 'get', 'description': \"get returns a book's detailed information based on the id of the book. Note that this does not accept names, and only IDs, which you can get by using search.\", 'parameters': {'properties': {'id': {'title': 'Id', 'type': 'string'}}, 'required': ['id'], 'title': 'Input for `get`', 'type': 'object'}}], 'system_prompt': {'role': 'system', 'content': 'Please use our book database, which you can access using functions to answer the following questions.'}}), tags=None, parameters={}, remember_chat_context=True), outputs=[]), 'options': <aiconfig.model_parser.InferenceOptions object at 0x7a2f97cfa920>, 'parameters': {'book': 'Where the Crawdads Sing'}} ts_ns=1700185913158115460\n",
            "INFO:my-logger:Callback called. event\n",
            ": name='on_deserialize_start' file='aiconfig.default_parsers.openai' data={'prompt': Prompt(name='functionCallResult-ed6463b4-93ba-4446-bf26-2ff771be0b99', input=PromptInput(data=None, role='function', name='search', content='[{\"name\": \"Where the Crawdads Sing\", \"id\": \"a3\"}]'), metadata=PromptMetadata(model=ModelMetadata(name='gpt-3.5-turbo', settings={'model': 'gpt-3.5-turbo', 'functions': [{'name': 'list_items', 'description': 'list queries books by genre, and returns a list of names of books', 'parameters': {'properties': {'genre': {'title': 'Genre', 'type': 'string'}}, 'required': ['genre'], 'title': 'Input for `list_items`', 'type': 'object'}}, {'name': 'search', 'description': 'search queries books by their name and returns a list of book names and their ids', 'parameters': {'properties': {'name': {'title': 'Name', 'type': 'string'}}, 'required': ['name'], 'title': 'Input for `search`', 'type': 'object'}}, {'name': 'get', 'description': \"get returns a book's detailed information based on the id of the book. Note that this does not accept names, and only IDs, which you can get by using search.\", 'parameters': {'properties': {'id': {'title': 'Id', 'type': 'string'}}, 'required': ['id'], 'title': 'Input for `get`', 'type': 'object'}}], 'system_prompt': {'role': 'system', 'content': 'Please use our book database, which you can access using functions to answer the following questions.'}}), tags=None, parameters={}, remember_chat_context=True), outputs=[]), 'params': {'book': 'Where the Crawdads Sing'}} ts_ns=1700185913158115460\n",
            "INFO:my-logger:Callback called. event\n",
            ": name='on_deserialize_complete' file='aiconfig.default_parsers.openai' data={'output': {'functions': [{'name': 'list_items', 'description': 'list queries books by genre, and returns a list of names of books', 'parameters': {'properties': {'genre': {'title': 'Genre', 'type': 'string'}}, 'required': ['genre'], 'title': 'Input for `list_items`', 'type': 'object'}}, {'name': 'search', 'description': 'search queries books by their name and returns a list of book names and their ids', 'parameters': {'properties': {'name': {'title': 'Name', 'type': 'string'}}, 'required': ['name'], 'title': 'Input for `search`', 'type': 'object'}}, {'name': 'get', 'description': \"get returns a book's detailed information based on the id of the book. Note that this does not accept names, and only IDs, which you can get by using search.\", 'parameters': {'properties': {'id': {'title': 'Id', 'type': 'string'}}, 'required': ['id'], 'title': 'Input for `get`', 'type': 'object'}}], 'model': 'gpt-3.5-turbo', 'messages': [{'content': 'Please use our book database, which you can access using functions to answer the following questions.', 'role': 'system'}, {'content': 'I really enjoyed reading Where the Crawdads Sing, could you recommend me a book that is similar and tell me why?', 'role': 'user'}, {'function_call': {'arguments': '{\\n\"name\": \"Where the Crawdads Sing\"\\n}', 'name': 'search'}, 'role': 'assistant'}, {'content': '[{\"name\": \"Where the Crawdads Sing\", \"id\": \"a3\"}]', 'role': 'function', 'name': 'search'}]}} ts_ns=1700185913158115460\n"
          ]
        },
        {
          "output_type": "stream",
          "name": "stdout",
          "text": [
            "{'role': 'function', 'name': 'search', 'content': '[{\"name\": \"Where the Crawdads Sing\", \"id\": \"a3\"}]'}\n",
            "\n"
          ]
        },
        {
          "output_type": "stream",
          "name": "stderr",
          "text": [
            "INFO:my-logger:Callback called. event\n",
            ": name='on_run_complete' file='aiconfig.default_parsers.openai' data={'result': [ExecuteResult(output_type='execute_result', execution_count=0, data={'function_call': {'arguments': '{\\n\"id\": \"a3\"\\n}', 'name': 'get'}, 'role': 'assistant'}, mime_type=None, metadata={'finish_reason': 'function_call'})]} ts_ns=1700185913158115460\n",
            "INFO:my-logger:Callback called. event\n",
            ": name='on_run_complete' file='aiconfig.Config' data={'result': [ExecuteResult(output_type='execute_result', execution_count=0, data={'function_call': {'arguments': '{\\n\"id\": \"a3\"\\n}', 'name': 'get'}, 'role': 'assistant'}, mime_type=None, metadata={'finish_reason': 'function_call'})]} ts_ns=1700185913158115460\n",
            "INFO:my-logger:Callback called. event\n",
            ": name='on_run_start' file='aiconfig.Config' data={'prompt_name': 'functionCallResult-cafb8ce9-78bb-4d24-8aa5-833c8f002225', 'params': {'book': 'Where the Crawdads Sing'}, 'options': <aiconfig.model_parser.InferenceOptions object at 0x7a2f97cfa920>, 'kwargs': {}} ts_ns=1700185913158115460\n",
            "INFO:my-logger:Callback called. event\n",
            ": name='on_run_start' file='aiconfig.default_parsers.openai' data={'prompt': Prompt(name='functionCallResult-cafb8ce9-78bb-4d24-8aa5-833c8f002225', input=PromptInput(data=None, role='function', name='get', content='{\"id\": \"a3\", \"name\": \"Where the Crawdads Sing\", \"genre\": \"historical\", \"description\": \"For years, rumors of the \\\\u201cMarsh Girl\\\\u201d haunted Barkley Cove, a quiet fishing village. Kya Clark is barefoot and wild; unfit for polite society. So in late 1969, when the popular Chase Andrews is found dead, locals immediately suspect her.\\\\n\\\\nBut Kya is not what they say. A born naturalist with just one day of school, she takes life\\'s lessons from the land, learning the real ways of the world from the dishonest signals of fireflies. But while she has the skills to live in solitude forever, the time comes when she yearns to be touched and loved. Drawn to two young men from town, who are each intrigued by her wild beauty, Kya opens herself to a new and startling world\\\\u2014until the unthinkable happens.\"}'), metadata=PromptMetadata(model=ModelMetadata(name='gpt-3.5-turbo', settings={'model': 'gpt-3.5-turbo', 'functions': [{'name': 'list_items', 'description': 'list queries books by genre, and returns a list of names of books', 'parameters': {'properties': {'genre': {'title': 'Genre', 'type': 'string'}}, 'required': ['genre'], 'title': 'Input for `list_items`', 'type': 'object'}}, {'name': 'search', 'description': 'search queries books by their name and returns a list of book names and their ids', 'parameters': {'properties': {'name': {'title': 'Name', 'type': 'string'}}, 'required': ['name'], 'title': 'Input for `search`', 'type': 'object'}}, {'name': 'get', 'description': \"get returns a book's detailed information based on the id of the book. Note that this does not accept names, and only IDs, which you can get by using search.\", 'parameters': {'properties': {'id': {'title': 'Id', 'type': 'string'}}, 'required': ['id'], 'title': 'Input for `get`', 'type': 'object'}}], 'system_prompt': {'role': 'system', 'content': 'Please use our book database, which you can access using functions to answer the following questions.'}}), tags=None, parameters={}, remember_chat_context=True), outputs=[]), 'options': <aiconfig.model_parser.InferenceOptions object at 0x7a2f97cfa920>, 'parameters': {'book': 'Where the Crawdads Sing'}} ts_ns=1700185913158115460\n",
            "INFO:my-logger:Callback called. event\n",
            ": name='on_deserialize_start' file='aiconfig.default_parsers.openai' data={'prompt': Prompt(name='functionCallResult-cafb8ce9-78bb-4d24-8aa5-833c8f002225', input=PromptInput(data=None, role='function', name='get', content='{\"id\": \"a3\", \"name\": \"Where the Crawdads Sing\", \"genre\": \"historical\", \"description\": \"For years, rumors of the \\\\u201cMarsh Girl\\\\u201d haunted Barkley Cove, a quiet fishing village. Kya Clark is barefoot and wild; unfit for polite society. So in late 1969, when the popular Chase Andrews is found dead, locals immediately suspect her.\\\\n\\\\nBut Kya is not what they say. A born naturalist with just one day of school, she takes life\\'s lessons from the land, learning the real ways of the world from the dishonest signals of fireflies. But while she has the skills to live in solitude forever, the time comes when she yearns to be touched and loved. Drawn to two young men from town, who are each intrigued by her wild beauty, Kya opens herself to a new and startling world\\\\u2014until the unthinkable happens.\"}'), metadata=PromptMetadata(model=ModelMetadata(name='gpt-3.5-turbo', settings={'model': 'gpt-3.5-turbo', 'functions': [{'name': 'list_items', 'description': 'list queries books by genre, and returns a list of names of books', 'parameters': {'properties': {'genre': {'title': 'Genre', 'type': 'string'}}, 'required': ['genre'], 'title': 'Input for `list_items`', 'type': 'object'}}, {'name': 'search', 'description': 'search queries books by their name and returns a list of book names and their ids', 'parameters': {'properties': {'name': {'title': 'Name', 'type': 'string'}}, 'required': ['name'], 'title': 'Input for `search`', 'type': 'object'}}, {'name': 'get', 'description': \"get returns a book's detailed information based on the id of the book. Note that this does not accept names, and only IDs, which you can get by using search.\", 'parameters': {'properties': {'id': {'title': 'Id', 'type': 'string'}}, 'required': ['id'], 'title': 'Input for `get`', 'type': 'object'}}], 'system_prompt': {'role': 'system', 'content': 'Please use our book database, which you can access using functions to answer the following questions.'}}), tags=None, parameters={}, remember_chat_context=True), outputs=[]), 'params': {'book': 'Where the Crawdads Sing'}} ts_ns=1700185913158115460\n",
            "INFO:my-logger:Callback called. event\n",
            ": name='on_deserialize_complete' file='aiconfig.default_parsers.openai' data={'output': {'functions': [{'name': 'list_items', 'description': 'list queries books by genre, and returns a list of names of books', 'parameters': {'properties': {'genre': {'title': 'Genre', 'type': 'string'}}, 'required': ['genre'], 'title': 'Input for `list_items`', 'type': 'object'}}, {'name': 'search', 'description': 'search queries books by their name and returns a list of book names and their ids', 'parameters': {'properties': {'name': {'title': 'Name', 'type': 'string'}}, 'required': ['name'], 'title': 'Input for `search`', 'type': 'object'}}, {'name': 'get', 'description': \"get returns a book's detailed information based on the id of the book. Note that this does not accept names, and only IDs, which you can get by using search.\", 'parameters': {'properties': {'id': {'title': 'Id', 'type': 'string'}}, 'required': ['id'], 'title': 'Input for `get`', 'type': 'object'}}], 'model': 'gpt-3.5-turbo', 'messages': [{'content': 'Please use our book database, which you can access using functions to answer the following questions.', 'role': 'system'}, {'content': 'I really enjoyed reading Where the Crawdads Sing, could you recommend me a book that is similar and tell me why?', 'role': 'user'}, {'function_call': {'arguments': '{\\n\"name\": \"Where the Crawdads Sing\"\\n}', 'name': 'search'}, 'role': 'assistant'}, {'content': '[{\"name\": \"Where the Crawdads Sing\", \"id\": \"a3\"}]', 'role': 'function', 'name': 'search'}, {'function_call': {'arguments': '{\\n\"id\": \"a3\"\\n}', 'name': 'get'}, 'role': 'assistant'}, {'content': '{\"id\": \"a3\", \"name\": \"Where the Crawdads Sing\", \"genre\": \"historical\", \"description\": \"For years, rumors of the \\\\u201cMarsh Girl\\\\u201d haunted Barkley Cove, a quiet fishing village. Kya Clark is barefoot and wild; unfit for polite society. So in late 1969, when the popular Chase Andrews is found dead, locals immediately suspect her.\\\\n\\\\nBut Kya is not what they say. A born naturalist with just one day of school, she takes life\\'s lessons from the land, learning the real ways of the world from the dishonest signals of fireflies. But while she has the skills to live in solitude forever, the time comes when she yearns to be touched and loved. Drawn to two young men from town, who are each intrigued by her wild beauty, Kya opens herself to a new and startling world\\\\u2014until the unthinkable happens.\"}', 'role': 'function', 'name': 'get'}]}} ts_ns=1700185913158115460\n"
          ]
        },
        {
          "output_type": "stream",
          "name": "stdout",
          "text": [
            "{'role': 'function', 'name': 'get', 'content': '{\"id\": \"a3\", \"name\": \"Where the Crawdads Sing\", \"genre\": \"historical\", \"description\": \"For years, rumors of the \\\\u201cMarsh Girl\\\\u201d haunted Barkley Cove, a quiet fishing village. Kya Clark is barefoot and wild; unfit for polite society. So in late 1969, when the popular Chase Andrews is found dead, locals immediately suspect her.\\\\n\\\\nBut Kya is not what they say. A born naturalist with just one day of school, she takes life\\'s lessons from the land, learning the real ways of the world from the dishonest signals of fireflies. But while she has the skills to live in solitude forever, the time comes when she yearns to be touched and loved. Drawn to two young men from town, who are each intrigued by her wild beauty, Kya opens herself to a new and startling world\\\\u2014until the unthinkable happens.\"}'}\n",
            "\n"
          ]
        },
        {
          "output_type": "stream",
          "name": "stderr",
          "text": [
            "INFO:my-logger:Callback called. event\n",
            ": name='on_run_complete' file='aiconfig.default_parsers.openai' data={'result': [ExecuteResult(output_type='execute_result', execution_count=0, data={'function_call': {'arguments': '{\\n\"genre\": \"historical\"\\n}', 'name': 'list_items'}, 'role': 'assistant'}, mime_type=None, metadata={'finish_reason': 'function_call'})]} ts_ns=1700185913158115460\n",
            "INFO:my-logger:Callback called. event\n",
            ": name='on_run_complete' file='aiconfig.Config' data={'result': [ExecuteResult(output_type='execute_result', execution_count=0, data={'function_call': {'arguments': '{\\n\"genre\": \"historical\"\\n}', 'name': 'list_items'}, 'role': 'assistant'}, mime_type=None, metadata={'finish_reason': 'function_call'})]} ts_ns=1700185913158115460\n",
            "INFO:my-logger:Callback called. event\n",
            ": name='on_run_start' file='aiconfig.Config' data={'prompt_name': 'functionCallResult-524bb68e-56cb-4e26-8f6b-92154f5cb4b2', 'params': {'book': 'Where the Crawdads Sing'}, 'options': <aiconfig.model_parser.InferenceOptions object at 0x7a2f97cfa920>, 'kwargs': {}} ts_ns=1700185913158115460\n",
            "INFO:my-logger:Callback called. event\n",
            ": name='on_run_start' file='aiconfig.default_parsers.openai' data={'prompt': Prompt(name='functionCallResult-524bb68e-56cb-4e26-8f6b-92154f5cb4b2', input=PromptInput(data=None, role='function', name='list_items', content='[{\"name\": \"To Kill a Mockingbird\", \"id\": \"a1\"}, {\"name\": \"All the Light We Cannot See\", \"id\": \"a2\"}, {\"name\": \"Where the Crawdads Sing\", \"id\": \"a3\"}]'), metadata=PromptMetadata(model=ModelMetadata(name='gpt-3.5-turbo', settings={'model': 'gpt-3.5-turbo', 'functions': [{'name': 'list_items', 'description': 'list queries books by genre, and returns a list of names of books', 'parameters': {'properties': {'genre': {'title': 'Genre', 'type': 'string'}}, 'required': ['genre'], 'title': 'Input for `list_items`', 'type': 'object'}}, {'name': 'search', 'description': 'search queries books by their name and returns a list of book names and their ids', 'parameters': {'properties': {'name': {'title': 'Name', 'type': 'string'}}, 'required': ['name'], 'title': 'Input for `search`', 'type': 'object'}}, {'name': 'get', 'description': \"get returns a book's detailed information based on the id of the book. Note that this does not accept names, and only IDs, which you can get by using search.\", 'parameters': {'properties': {'id': {'title': 'Id', 'type': 'string'}}, 'required': ['id'], 'title': 'Input for `get`', 'type': 'object'}}], 'system_prompt': {'role': 'system', 'content': 'Please use our book database, which you can access using functions to answer the following questions.'}}), tags=None, parameters={}, remember_chat_context=True), outputs=[]), 'options': <aiconfig.model_parser.InferenceOptions object at 0x7a2f97cfa920>, 'parameters': {'book': 'Where the Crawdads Sing'}} ts_ns=1700185913158115460\n",
            "INFO:my-logger:Callback called. event\n",
            ": name='on_deserialize_start' file='aiconfig.default_parsers.openai' data={'prompt': Prompt(name='functionCallResult-524bb68e-56cb-4e26-8f6b-92154f5cb4b2', input=PromptInput(data=None, role='function', name='list_items', content='[{\"name\": \"To Kill a Mockingbird\", \"id\": \"a1\"}, {\"name\": \"All the Light We Cannot See\", \"id\": \"a2\"}, {\"name\": \"Where the Crawdads Sing\", \"id\": \"a3\"}]'), metadata=PromptMetadata(model=ModelMetadata(name='gpt-3.5-turbo', settings={'model': 'gpt-3.5-turbo', 'functions': [{'name': 'list_items', 'description': 'list queries books by genre, and returns a list of names of books', 'parameters': {'properties': {'genre': {'title': 'Genre', 'type': 'string'}}, 'required': ['genre'], 'title': 'Input for `list_items`', 'type': 'object'}}, {'name': 'search', 'description': 'search queries books by their name and returns a list of book names and their ids', 'parameters': {'properties': {'name': {'title': 'Name', 'type': 'string'}}, 'required': ['name'], 'title': 'Input for `search`', 'type': 'object'}}, {'name': 'get', 'description': \"get returns a book's detailed information based on the id of the book. Note that this does not accept names, and only IDs, which you can get by using search.\", 'parameters': {'properties': {'id': {'title': 'Id', 'type': 'string'}}, 'required': ['id'], 'title': 'Input for `get`', 'type': 'object'}}], 'system_prompt': {'role': 'system', 'content': 'Please use our book database, which you can access using functions to answer the following questions.'}}), tags=None, parameters={}, remember_chat_context=True), outputs=[]), 'params': {'book': 'Where the Crawdads Sing'}} ts_ns=1700185913158115460\n",
            "INFO:my-logger:Callback called. event\n",
            ": name='on_deserialize_complete' file='aiconfig.default_parsers.openai' data={'output': {'functions': [{'name': 'list_items', 'description': 'list queries books by genre, and returns a list of names of books', 'parameters': {'properties': {'genre': {'title': 'Genre', 'type': 'string'}}, 'required': ['genre'], 'title': 'Input for `list_items`', 'type': 'object'}}, {'name': 'search', 'description': 'search queries books by their name and returns a list of book names and their ids', 'parameters': {'properties': {'name': {'title': 'Name', 'type': 'string'}}, 'required': ['name'], 'title': 'Input for `search`', 'type': 'object'}}, {'name': 'get', 'description': \"get returns a book's detailed information based on the id of the book. Note that this does not accept names, and only IDs, which you can get by using search.\", 'parameters': {'properties': {'id': {'title': 'Id', 'type': 'string'}}, 'required': ['id'], 'title': 'Input for `get`', 'type': 'object'}}], 'model': 'gpt-3.5-turbo', 'messages': [{'content': 'Please use our book database, which you can access using functions to answer the following questions.', 'role': 'system'}, {'content': 'I really enjoyed reading Where the Crawdads Sing, could you recommend me a book that is similar and tell me why?', 'role': 'user'}, {'function_call': {'arguments': '{\\n\"name\": \"Where the Crawdads Sing\"\\n}', 'name': 'search'}, 'role': 'assistant'}, {'content': '[{\"name\": \"Where the Crawdads Sing\", \"id\": \"a3\"}]', 'role': 'function', 'name': 'search'}, {'function_call': {'arguments': '{\\n\"id\": \"a3\"\\n}', 'name': 'get'}, 'role': 'assistant'}, {'content': '{\"id\": \"a3\", \"name\": \"Where the Crawdads Sing\", \"genre\": \"historical\", \"description\": \"For years, rumors of the \\\\u201cMarsh Girl\\\\u201d haunted Barkley Cove, a quiet fishing village. Kya Clark is barefoot and wild; unfit for polite society. So in late 1969, when the popular Chase Andrews is found dead, locals immediately suspect her.\\\\n\\\\nBut Kya is not what they say. A born naturalist with just one day of school, she takes life\\'s lessons from the land, learning the real ways of the world from the dishonest signals of fireflies. But while she has the skills to live in solitude forever, the time comes when she yearns to be touched and loved. Drawn to two young men from town, who are each intrigued by her wild beauty, Kya opens herself to a new and startling world\\\\u2014until the unthinkable happens.\"}', 'role': 'function', 'name': 'get'}, {'function_call': {'arguments': '{\\n\"genre\": \"historical\"\\n}', 'name': 'list_items'}, 'role': 'assistant'}, {'content': '[{\"name\": \"To Kill a Mockingbird\", \"id\": \"a1\"}, {\"name\": \"All the Light We Cannot See\", \"id\": \"a2\"}, {\"name\": \"Where the Crawdads Sing\", \"id\": \"a3\"}]', 'role': 'function', 'name': 'list_items'}]}} ts_ns=1700185913158115460\n"
          ]
        },
        {
          "output_type": "stream",
          "name": "stdout",
          "text": [
            "{'role': 'function', 'name': 'list_items', 'content': '[{\"name\": \"To Kill a Mockingbird\", \"id\": \"a1\"}, {\"name\": \"All the Light We Cannot See\", \"id\": \"a2\"}, {\"name\": \"Where the Crawdads Sing\", \"id\": \"a3\"}]'}\n",
            "\n",
            "I would recommend the book \"All the Light We Cannot See\" as a similar book to \"Where the Crawdads Sing\". \n",
            "\n",
            "\"All the Light We Cannot See\" is also a historical novel, like \"Where the Crawdads Sing\". It tells the story of a blind French girl and a young German boy whose paths collide in occupied France during World War II. The book explores themes of resilience, bravery, and the power of human connection amidst the backdrop of war. \n",
            "\n",
            "Both \"Where the Crawdads Sing\" and \"All the Light We Cannot See\" have captivating storytelling, richly drawn characters, and a strong sense of place. They both transport the reader to a different time and immerse them in the lives of the characters. If you enjoyed the atmospheric and immersive nature of \"Where the Crawdads Sing\", you are likely to enjoy \"All the Light We Cannot See\" as well."
          ]
        },
        {
          "output_type": "stream",
          "name": "stderr",
          "text": [
            "INFO:my-logger:Callback called. event\n",
            ": name='on_run_complete' file='aiconfig.default_parsers.openai' data={'result': [ExecuteResult(output_type='execute_result', execution_count=0, data={'content': 'I would recommend the book \"All the Light We Cannot See\" as a similar book to \"Where the Crawdads Sing\". \\n\\n\"All the Light We Cannot See\" is also a historical novel, like \"Where the Crawdads Sing\". It tells the story of a blind French girl and a young German boy whose paths collide in occupied France during World War II. The book explores themes of resilience, bravery, and the power of human connection amidst the backdrop of war. \\n\\nBoth \"Where the Crawdads Sing\" and \"All the Light We Cannot See\" have captivating storytelling, richly drawn characters, and a strong sense of place. They both transport the reader to a different time and immerse them in the lives of the characters. If you enjoyed the atmospheric and immersive nature of \"Where the Crawdads Sing\", you are likely to enjoy \"All the Light We Cannot See\" as well.', 'role': 'assistant'}, mime_type=None, metadata={'finish_reason': 'stop'})]} ts_ns=1700185913158115460\n",
            "INFO:my-logger:Callback called. event\n",
            ": name='on_run_complete' file='aiconfig.Config' data={'result': [ExecuteResult(output_type='execute_result', execution_count=0, data={'content': 'I would recommend the book \"All the Light We Cannot See\" as a similar book to \"Where the Crawdads Sing\". \\n\\n\"All the Light We Cannot See\" is also a historical novel, like \"Where the Crawdads Sing\". It tells the story of a blind French girl and a young German boy whose paths collide in occupied France during World War II. The book explores themes of resilience, bravery, and the power of human connection amidst the backdrop of war. \\n\\nBoth \"Where the Crawdads Sing\" and \"All the Light We Cannot See\" have captivating storytelling, richly drawn characters, and a strong sense of place. They both transport the reader to a different time and immerse them in the lives of the characters. If you enjoyed the atmospheric and immersive nature of \"Where the Crawdads Sing\", you are likely to enjoy \"All the Light We Cannot See\" as well.', 'role': 'assistant'}, mime_type=None, metadata={'finish_reason': 'stop'})]} ts_ns=1700185913158115460\n"
          ]
        }
      ]
    },
    {
      "cell_type": "code",
      "source": [
        "book_search.save(\"book_search.json\")"
      ],
      "metadata": {
        "colab": {
          "base_uri": "https://localhost:8080/",
          "height": 297
        },
        "id": "emOUHVN2faSS",
        "outputId": "d708732a-644f-40fd-9ab1-cc8a0347d88c"
      },
      "execution_count": null,
      "outputs": [
        {
          "output_type": "error",
          "ename": "FileNotFoundError",
          "evalue": "ignored",
          "traceback": [
            "\u001b[0;31m---------------------------------------------------------------------------\u001b[0m",
            "\u001b[0;31mFileNotFoundError\u001b[0m                         Traceback (most recent call last)",
            "\u001b[0;32m<ipython-input-75-1a8eb99d4665>\u001b[0m in \u001b[0;36m<cell line: 1>\u001b[0;34m()\u001b[0m\n\u001b[0;32m----> 1\u001b[0;31m \u001b[0mbook_search\u001b[0m\u001b[0;34m.\u001b[0m\u001b[0msave\u001b[0m\u001b[0;34m(\u001b[0m\u001b[0;34m\"./content/book_search.json\"\u001b[0m\u001b[0;34m)\u001b[0m\u001b[0;34m\u001b[0m\u001b[0;34m\u001b[0m\u001b[0m\n\u001b[0m",
            "\u001b[0;32m/usr/local/lib/python3.10/dist-packages/aiconfig/Config.py\u001b[0m in \u001b[0;36msave\u001b[0;34m(self, json_config_filepath, include_outputs)\u001b[0m\n\u001b[1;32m    265\u001b[0m             \u001b[0mjson_config_filepath\u001b[0m \u001b[0;34m=\u001b[0m \u001b[0mself\u001b[0m\u001b[0;34m.\u001b[0m\u001b[0mfile_path\u001b[0m \u001b[0;32mor\u001b[0m \u001b[0;34m\"aiconfig.json\"\u001b[0m\u001b[0;34m\u001b[0m\u001b[0;34m\u001b[0m\u001b[0m\n\u001b[1;32m    266\u001b[0m \u001b[0;34m\u001b[0m\u001b[0m\n\u001b[0;32m--> 267\u001b[0;31m         \u001b[0;32mwith\u001b[0m \u001b[0mopen\u001b[0m\u001b[0;34m(\u001b[0m\u001b[0mjson_config_filepath\u001b[0m\u001b[0;34m,\u001b[0m \u001b[0;34m\"w\"\u001b[0m\u001b[0;34m)\u001b[0m \u001b[0;32mas\u001b[0m \u001b[0mfile\u001b[0m\u001b[0;34m:\u001b[0m\u001b[0;34m\u001b[0m\u001b[0;34m\u001b[0m\u001b[0m\n\u001b[0m\u001b[1;32m    268\u001b[0m             \u001b[0;31m# Serialize the AI Configuration to JSON and save it to the file\u001b[0m\u001b[0;34m\u001b[0m\u001b[0;34m\u001b[0m\u001b[0m\n\u001b[1;32m    269\u001b[0m             json.dump(\n",
            "\u001b[0;31mFileNotFoundError\u001b[0m: [Errno 2] No such file or directory: './content/book_search.json'"
          ]
        }
      ]
    },
    {
      "cell_type": "code",
      "source": [],
      "metadata": {
        "id": "YpDwvL9Biymr"
      },
      "execution_count": null,
      "outputs": []
    }
  ]
}