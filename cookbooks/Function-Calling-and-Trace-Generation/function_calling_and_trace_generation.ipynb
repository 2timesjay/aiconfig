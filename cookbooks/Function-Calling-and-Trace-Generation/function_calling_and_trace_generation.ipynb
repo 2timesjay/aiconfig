{
  "cells": [
    {
      "cell_type": "code",
      "execution_count": 1,
      "metadata": {
        "colab": {
          "base_uri": "https://localhost:8080/",
          "height": 1000
        },
        "id": "EQ-Ib1609n-O",
        "outputId": "5ff76b60-a16a-4bc1-9a4f-987c6b732564"
      },
      "outputs": [],
      "source": [
        "# !pip install openai python-aiconfig"
      ]
    },
    {
      "cell_type": "code",
      "execution_count": 2,
      "metadata": {
        "colab": {
          "base_uri": "https://localhost:8080/"
        },
        "id": "ru_ujtI_-M8y",
        "outputId": "15532497-87bb-4057-c4b3-b79d4d02d474"
      },
      "outputs": [],
      "source": [
        "# import openai\n",
        "# import aiconfig\n",
        "# from google.colab import userdata\n",
        "# openai.api_key = userdata.get('OPENAI_API_KEY')\n"
      ]
    },
    {
      "cell_type": "code",
      "execution_count": 3,
      "metadata": {},
      "outputs": [],
      "source": [
        "# Non-Colab\n",
        "import json\n",
        "import openai\n",
        "openai.api_key = open(\"/home/jacobjensen/secrets/openai_api_key.txt\", \"r\").read().strip()"
      ]
    },
    {
      "cell_type": "markdown",
      "metadata": {
        "id": "jxkHKfMLbTLN"
      },
      "source": [
        "## Function Calling"
      ]
    },
    {
      "cell_type": "code",
      "execution_count": 4,
      "metadata": {
        "id": "x6rFM3Vpcs-D"
      },
      "outputs": [],
      "source": [
        "from pydantic import create_model\n",
        "from typing import Callable, Dict, List\n",
        "import inspect, json\n",
        "from inspect import Parameter\n",
        "def sums(a:int, b:int=1):\n",
        "    \"Adds a + b\"\n",
        "    return a + b\n",
        "def schema(f):\n",
        "    kw = {n:(o.annotation, ... if o.default==Parameter.empty else o.default)\n",
        "          for n,o in inspect.signature(f).parameters.items()}\n",
        "    s = create_model(f'Input for `{f.__name__}`', **kw).schema()\n",
        "    return dict(name=f.__name__, description=f.__doc__, parameters=s)"
      ]
    },
    {
      "cell_type": "code",
      "execution_count": 5,
      "metadata": {
        "id": "ZST3nyXJbwEs"
      },
      "outputs": [],
      "source": [
        "def inject_function_call_spec(functions: List[Callable]):\n",
        "    spec = json.load(open(\"function_calling_list_builder_aiconfig.json\", 'r'))\n",
        "    spec[\"prompts\"][0][\"metadata\"][\"model\"][\"settings\"][\"functions\"] = [schema(f) for f in functions]\n",
        "    return spec\n",
        "\n"
      ]
    },
    {
      "cell_type": "code",
      "execution_count": 6,
      "metadata": {},
      "outputs": [],
      "source": [
        "async def initialize_list(items: List[str]) -> List[str]:\n",
        "    \"\"\"returns an initial list of items\"\"\"\n",
        "    return items\n",
        "\n",
        "async def add_to_list(li: List[str], items: List[str]) -> List[str]:\n",
        "    \"\"\"returns a list with items added, does not add duplicates\"\"\"\n",
        "    return li + [item for item in items if item not in set(li)]\n",
        "\n",
        "async def remove_from_list(li: List[str], items: List[str]) -> List[str]:\n",
        "    \"\"\"returns a list with items removed\"\"\"\n",
        "    return [item for item in li if item not in set(items)]\n",
        "\n",
        "# Note - this function isn't about calling an API or mutating state, but about enforcing an output format for assessments\n",
        "async def assess_list(li: List[str], assessment: Dict[str, str]) -> List[str]: \n",
        "    \"\"\"Accepts a dictionary of assessments of a list, keyed by the name of characteristic being assessed.\"\"\"\n",
        "    return assessment\n"
      ]
    },
    {
      "cell_type": "code",
      "execution_count": 7,
      "metadata": {
        "id": "fBN7ETp6bV5o"
      },
      "outputs": [
        {
          "name": "stderr",
          "output_type": "stream",
          "text": [
            "/home/jacobjensen/.pyenv/versions/aiconfig/lib/python3.10/site-packages/pydantic/_internal/_fields.py:149: UserWarning: Field \"model_parsers\" has conflict with protected namespace \"model_\".\n",
            "\n",
            "You may be able to resolve this warning by setting `model_config['protected_namespaces'] = ()`.\n",
            "  warnings.warn(\n",
            "/home/jacobjensen/.pyenv/versions/aiconfig/lib/python3.10/site-packages/tqdm/auto.py:21: TqdmWarning: IProgress not found. Please update jupyter and ipywidgets. See https://ipywidgets.readthedocs.io/en/stable/user_install.html\n",
            "  from .autonotebook import tqdm as notebook_tqdm\n"
          ]
        }
      ],
      "source": [
        "import copy\n",
        "import json\n",
        "import uuid\n",
        "from aiconfig import AIConfigRuntime\n",
        "from aiconfig import PromptInput\n",
        "from aiconfig.model_parser import InferenceOptions\n",
        "from pprint import pprint\n",
        "\n",
        "\n",
        "async def function_calling(function_list):\n",
        "    function_call_spec = inject_function_call_spec(function_list)\n",
        "    function_dict = {f.__name__: f for f in function_list}\n",
        "    config = AIConfigRuntime.create(**function_call_spec)\n",
        "    return config, function_dict\n",
        "\n",
        "async def call_function(function_call, function_dict):\n",
        "    args = function_call.get(\"arguments\", None)\n",
        "    args = json.loads(args) if args else None\n",
        "\n",
        "    if not args:\n",
        "        raise Exception(\"No arguments found\")\n",
        "\n",
        "    function = function_dict.get(function_call[\"name\"], None)\n",
        "    if not function:\n",
        "        raise Exception(f\"Function {function_call['name']} not found\")\n",
        "    else:\n",
        "        return await function(**args)\n",
        "\n"
      ]
    },
    {
      "cell_type": "code",
      "execution_count": 8,
      "metadata": {},
      "outputs": [
        {
          "name": "stderr",
          "output_type": "stream",
          "text": [
            "/tmp/ipykernel_486166/3314632738.py:11: PydanticDeprecatedSince20: The `schema` method is deprecated; use `model_json_schema` instead. Deprecated in Pydantic V2.0 to be removed in V3.0. See Pydantic V2 Migration Guide at https://errors.pydantic.dev/2.5/migration/\n",
            "  s = create_model(f'Input for `{f.__name__}`', **kw).schema()\n"
          ]
        }
      ],
      "source": [
        "config, function_dict = await function_calling([initialize_list, add_to_list, remove_from_list, assess_list])"
      ]
    },
    {
      "cell_type": "code",
      "execution_count": 9,
      "metadata": {},
      "outputs": [
        {
          "name": "stdout",
          "output_type": "stream",
          "text": [
            "I can help you make a shopping list for your 15-mile hike in hot weather. Here are some items you might want to consider adding to your list:\n",
            "\n",
            "1. Water bottles or a hydration bladder\n",
            "2. Snacks and energy bars\n",
            "3. Sunscreen\n",
            "4. Hat or cap\n",
            "5. Sunglasses\n",
            "6. Light and breathable clothing\n",
            "7. Hiking boots or shoes\n",
            "8. Socks\n",
            "9. Insect repellent\n",
            "10. First aid kit\n",
            "11. Compass or GPS\n",
            "12. Map of the hiking trail\n",
            "13. Whistle\n",
            "14. Trekking poles\n",
            "15. Portable phone charger\n",
            "16. Extra set of clothes\n",
            "17. Rain gear or poncho\n",
            "18. Towel\n",
            "19. Trash bags\n",
            "20. Multi-purpose tool\n",
            "\n",
            "Let me know if you would like to add any of these items to your shopping list!output_type='execute_result' execution_count=0 data={'content': 'I can help you make a shopping list for your 15-mile hike in hot weather. Here are some items you might want to consider adding to your list:\\n\\n1. Water bottles or a hydration bladder\\n2. Snacks and energy bars\\n3. Sunscreen\\n4. Hat or cap\\n5. Sunglasses\\n6. Light and breathable clothing\\n7. Hiking boots or shoes\\n8. Socks\\n9. Insect repellent\\n10. First aid kit\\n11. Compass or GPS\\n12. Map of the hiking trail\\n13. Whistle\\n14. Trekking poles\\n15. Portable phone charger\\n16. Extra set of clothes\\n17. Rain gear or poncho\\n18. Towel\\n19. Trash bags\\n20. Multi-purpose tool\\n\\nLet me know if you would like to add any of these items to your shopping list!', 'role': 'assistant', 'function_call': {'arguments': '{\\n  \"items\": []\\n}', 'name': 'initialize_list'}} mime_type=None metadata={'finish_reason': 'function_call'}\n",
            "[]\n",
            "{'role': 'function', 'name': 'initialize_list', 'content': '[]'}\n",
            "\n",
            "output_type='execute_result' execution_count=0 data={'function_call': {'arguments': '{\\n  \"li\": [],\\n  \"items\": [\\n    \"Water bottles or hydration bladder\",\\n    \"Snacks and energy bars\",\\n    \"Sunscreen\",\\n    \"Hat or cap\",\\n    \"Sunglasses\",\\n    \"Light and breathable clothing\",\\n    \"Hiking boots or shoes\",\\n    \"Socks\",\\n    \"Insect repellent\",\\n    \"First aid kit\",\\n    \"Compass or GPS\",\\n    \"Map of the hiking trail\",\\n    \"Whistle\",\\n    \"Trekking poles\",\\n    \"Portable phone charger\",\\n    \"Extra set of clothes\",\\n    \"Rain gear or poncho\",\\n    \"Towel\",\\n    \"Trash bags\",\\n    \"Multi-purpose tool\"\\n  ]\\n}', 'name': 'add_to_list'}, 'role': 'assistant'} mime_type=None metadata={'finish_reason': 'function_call'}\n",
            "['Water bottles or hydration bladder', 'Snacks and energy bars', 'Sunscreen', 'Hat or cap', 'Sunglasses', 'Light and breathable clothing', 'Hiking boots or shoes', 'Socks', 'Insect repellent', 'First aid kit', 'Compass or GPS', 'Map of the hiking trail', 'Whistle', 'Trekking poles', 'Portable phone charger', 'Extra set of clothes', 'Rain gear or poncho', 'Towel', 'Trash bags', 'Multi-purpose tool']\n",
            "{'role': 'function', 'name': 'add_to_list', 'content': '[\"Water bottles or hydration bladder\", \"Snacks and energy bars\", \"Sunscreen\", \"Hat or cap\", \"Sunglasses\", \"Light and breathable clothing\", \"Hiking boots or shoes\", \"Socks\", \"Insect repellent\", \"First aid kit\", \"Compass or GPS\", \"Map of the hiking trail\", \"Whistle\", \"Trekking poles\", \"Portable phone charger\", \"Extra set of clothes\", \"Rain gear or poncho\", \"Towel\", \"Trash bags\", \"Multi-purpose tool\"]'}\n",
            "\n",
            "I have added the items to your shopping list. Here is the updated list:\n",
            "\n",
            "1. Water bottles or hydration bladder\n",
            "2. Snacks and energy bars\n",
            "3. Sunscreen\n",
            "4. Hat or cap\n",
            "5. Sunglasses\n",
            "6. Light and breathable clothing\n",
            "7. Hiking boots or shoes\n",
            "8. Socks\n",
            "9. Insect repellent\n",
            "10. First aid kit\n",
            "11. Compass or GPS\n",
            "12. Map of the hiking trail\n",
            "13. Whistle\n",
            "14. Trekking poles\n",
            "15. Portable phone charger\n",
            "16. Extra set of clothes\n",
            "17. Rain gear or poncho\n",
            "18. Towel\n",
            "19. Trash bags\n",
            "20. Multi-purpose tool\n",
            "\n",
            "Is there anything else you would like to add to your shopping list?output_type='execute_result' execution_count=0 data={'content': 'I have added the items to your shopping list. Here is the updated list:\\n\\n1. Water bottles or hydration bladder\\n2. Snacks and energy bars\\n3. Sunscreen\\n4. Hat or cap\\n5. Sunglasses\\n6. Light and breathable clothing\\n7. Hiking boots or shoes\\n8. Socks\\n9. Insect repellent\\n10. First aid kit\\n11. Compass or GPS\\n12. Map of the hiking trail\\n13. Whistle\\n14. Trekking poles\\n15. Portable phone charger\\n16. Extra set of clothes\\n17. Rain gear or poncho\\n18. Towel\\n19. Trash bags\\n20. Multi-purpose tool\\n\\nIs there anything else you would like to add to your shopping list?', 'role': 'assistant'} mime_type=None metadata={'finish_reason': 'stop'}\n",
            "No function call found\n"
          ]
        }
      ],
      "source": [
        "user_input = \"I want to buy supplies for a 15 mile hike in hot weather.\"\n",
        "li = []\n",
        "promptToRun = \"recommendList\"\n",
        "inference_options = InferenceOptions(stream=True)\n",
        "\n",
        "async def run_chat(user_input, li, promptToRun=promptToRun, inference_options=inference_options):\n",
        "    params = {\n",
        "        \"user_input\": user_input,\n",
        "        \"list\": li,\n",
        "    }\n",
        "    output = await config.run(promptToRun, params, inference_options)\n",
        "    return output\n",
        "\n",
        "while True:\n",
        "    model_output = await run_chat(user_input, li, promptToRun, inference_options)\n",
        "\n",
        "    output = model_output[0] if isinstance(model_output, list) else model_output\n",
        "    print(output)\n",
        "\n",
        "    if output.output_type == \"error\":\n",
        "        raise ValueError(f\"Error during inference: {output.ename}: {output.evalue}\")\n",
        "\n",
        "    message = output.data\n",
        "\n",
        "    # If there is no function call, we're done and can exit this loop\n",
        "    if not message.get(\"function_call\", None):\n",
        "        print(\"No function call found\")\n",
        "        break\n",
        "\n",
        "    # If there is a function call, we generate a new message with the role 'function'.\n",
        "\n",
        "    result = await call_function(message.get(\"function_call\"), function_dict)\n",
        "    print(result)\n",
        "\n",
        "    new_message = {\n",
        "        \"role\": \"function\",\n",
        "        \"name\": message[\"function_call\"][\"name\"],\n",
        "        \"content\": json.dumps(result),\n",
        "    }\n",
        "\n",
        "    promptToRun = f\"functionCallResult-{uuid.uuid4()}\"\n",
        "\n",
        "    existing_prompt = config.get_prompt(\"recommendList\")\n",
        "\n",
        "    new_prompt = copy.deepcopy(existing_prompt)\n",
        "    new_prompt.name = promptToRun\n",
        "    new_prompt.input = PromptInput(**new_message)\n",
        "    new_prompt.outputs = []\n",
        "\n",
        "    config.add_prompt(new_prompt.name, new_prompt)\n",
        "\n",
        "    print(f\"{new_message}\\n\")"
      ]
    },
    {
      "cell_type": "code",
      "execution_count": 12,
      "metadata": {},
      "outputs": [
        {
          "data": {
            "text/plain": [
              "['Water bottles or hydration bladder',\n",
              " 'Snacks and energy bars',\n",
              " 'Sunscreen',\n",
              " 'Hat or cap',\n",
              " 'Sunglasses',\n",
              " 'Light and breathable clothing',\n",
              " 'Hiking boots or shoes',\n",
              " 'Socks',\n",
              " 'Insect repellent',\n",
              " 'First aid kit',\n",
              " 'Compass or GPS',\n",
              " 'Map of the hiking trail',\n",
              " 'Whistle',\n",
              " 'Trekking poles',\n",
              " 'Portable phone charger',\n",
              " 'Extra set of clothes',\n",
              " 'Rain gear or poncho',\n",
              " 'Towel',\n",
              " 'Trash bags',\n",
              " 'Multi-purpose tool']"
            ]
          },
          "execution_count": 12,
          "metadata": {},
          "output_type": "execute_result"
        }
      ],
      "source": [
        "result"
      ]
    },
    {
      "cell_type": "code",
      "execution_count": 13,
      "metadata": {},
      "outputs": [
        {
          "name": "stdout",
          "output_type": "stream",
          "text": [
            "output_type='execute_result' execution_count=0 data={'content': 'I have added the items to your shopping list. Here is the updated list:\\n\\n1. Water bottles or hydration bladder\\n2. Snacks and energy bars\\n3. Sunscreen\\n4. Hat or cap\\n5. Sunglasses\\n6. Light and breathable clothing\\n7. Hiking boots or shoes\\n8. Socks\\n9. Insect repellent\\n10. First aid kit\\n11. Compass or GPS\\n12. Map of the hiking trail\\n13. Whistle\\n14. Trekking poles\\n15. Portable phone charger\\n16. Extra set of clothes\\n17. Rain gear or poncho\\n18. Towel\\n19. Trash bags\\n20. Multi-purpose tool\\n\\nIs there anything else you would like to add to your shopping list?', 'role': 'assistant'} mime_type=None metadata={'finish_reason': 'stop'}\n",
            "No function call found\n"
          ]
        }
      ],
      "source": [
        "user_input = \"Thanks! can you trim this list to just 4 items?\"\n",
        "li = result\n",
        "\n",
        "while True:\n",
        "    model_output = await run_chat(user_input, li, promptToRun, inference_options)\n",
        "\n",
        "    output = model_output[0] if isinstance(model_output, list) else model_output\n",
        "    print(output)\n",
        "\n",
        "    if output.output_type == \"error\":\n",
        "        raise ValueError(f\"Error during inference: {output.ename}: {output.evalue}\")\n",
        "\n",
        "    message = output.data\n",
        "\n",
        "    # If there is no function call, we're done and can exit this loop\n",
        "    if not message.get(\"function_call\", None):\n",
        "        print(\"No function call found\")\n",
        "        break\n",
        "\n",
        "    # If there is a function call, we generate a new message with the role 'function'.\n",
        "\n",
        "    result = await call_function(message.get(\"function_call\"), function_dict)\n",
        "\n",
        "    new_message = {\n",
        "        \"role\": \"function\",\n",
        "        \"name\": message[\"function_call\"][\"name\"],\n",
        "        \"content\": json.dumps(result),\n",
        "    }\n",
        "\n",
        "    promptToRun = f\"functionCallResult-{uuid.uuid4()}\"\n",
        "\n",
        "    existing_prompt = config.get_prompt(\"recommendList\")\n",
        "\n",
        "    new_prompt = copy.deepcopy(existing_prompt)\n",
        "    new_prompt.name = promptToRun\n",
        "    new_prompt.input = PromptInput(**new_message)\n",
        "    new_prompt.outputs = []\n",
        "\n",
        "    config.add_prompt(new_prompt.name, new_prompt)\n",
        "\n",
        "    print(f\"{new_message}\\n\")"
      ]
    },
    {
      "cell_type": "code",
      "execution_count": 14,
      "metadata": {
        "colab": {
          "base_uri": "https://localhost:8080/",
          "height": 297
        },
        "id": "emOUHVN2faSS",
        "outputId": "d708732a-644f-40fd-9ab1-cc8a0347d88c"
      },
      "outputs": [],
      "source": [
        "config.save(\"list_builder.json\")"
      ]
    },
    {
      "cell_type": "code",
      "execution_count": null,
      "metadata": {
        "id": "YpDwvL9Biymr"
      },
      "outputs": [],
      "source": []
    }
  ],
  "metadata": {
    "colab": {
      "provenance": []
    },
    "kernelspec": {
      "display_name": "Python 3",
      "name": "python3"
    },
    "language_info": {
      "codemirror_mode": {
        "name": "ipython",
        "version": 3
      },
      "file_extension": ".py",
      "mimetype": "text/x-python",
      "name": "python",
      "nbconvert_exporter": "python",
      "pygments_lexer": "ipython3",
      "version": "3.10.12"
    }
  },
  "nbformat": 4,
  "nbformat_minor": 0
}
