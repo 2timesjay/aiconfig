{
 "cells": [
  {
   "cell_type": "code",
   "execution_count": 1,
   "metadata": {},
   "outputs": [
    {
     "name": "stderr",
     "output_type": "stream",
     "text": [
      "/home/jacobjensen/.pyenv/versions/aiconfig/lib/python3.10/site-packages/pydantic/_internal/_fields.py:149: UserWarning: Field \"model_parsers\" has conflict with protected namespace \"model_\".\n",
      "\n",
      "You may be able to resolve this warning by setting `model_config['protected_namespaces'] = ()`.\n",
      "  warnings.warn(\n",
      "/home/jacobjensen/.pyenv/versions/aiconfig/lib/python3.10/site-packages/tqdm/auto.py:21: TqdmWarning: IProgress not found. Please update jupyter and ipywidgets. See https://ipywidgets.readthedocs.io/en/stable/user_install.html\n",
      "  from .autonotebook import tqdm as notebook_tqdm\n"
     ]
    }
   ],
   "source": [
    "#Import libraries\n",
    "import openai\n",
    "import os\n",
    "from aiconfig.Config import AIConfigRuntime\n",
    "\n",
    "# #Set the OpenAI key. The following code is specific for Google Colab\n",
    "# #We recommend using environment variables for setting the open ai key\n",
    "# from google.colab import userdata\n",
    "# openai.api_key = userdata.get('OPENAI_API_KEY')\n",
    "openai.api_key = open(\"/home/jacobjensen/secrets/openai_api_key.txt\", \"r\").read().strip()"
   ]
  },
  {
   "cell_type": "code",
   "execution_count": 2,
   "metadata": {},
   "outputs": [],
   "source": [
    "from aiconfig import CallbackEvent\n",
    "import pprint\n",
    "async def my_custom_callback(event: CallbackEvent) -> None:\n",
    "  \"\"\"\n",
    "    This is a custom callback that prints the event name and the event stdout.\n",
    "\n",
    "    Args:\n",
    "        event (CallbackEvent): The event that triggered the callback.\n",
    "\n",
    "  \"\"\"\n",
    "  print(f\"Event triggered: {event.name}\")\n",
    "  pprint.pprint(event.__dict__, width = 150)"
   ]
  },
  {
   "cell_type": "code",
   "execution_count": 3,
   "metadata": {},
   "outputs": [],
   "source": [
    "from aiconfig import AIConfigRuntime\n",
    "\n",
    "config = AIConfigRuntime.load(\"../travel.aiconfig.json\")"
   ]
  },
  {
   "cell_type": "code",
   "execution_count": 4,
   "metadata": {},
   "outputs": [
    {
     "name": "stdout",
     "output_type": "stream",
     "text": [
      "Event triggered: on_run_start\n",
      "CallbackEventModel(name='on_run_start', file='aiconfig.Config', data={'prompt_name': 'gen_itinerary', 'params': None, 'options': None, 'kwargs': {'run_with_dependencies': True}}, ts_ns=1701269208978932499)\n",
      "Event triggered: on_run_start\n",
      "CallbackEventModel(name='on_run_start', file='aiconfig.Config', data={'prompt_name': 'get_activities', 'params': {}, 'options': None, 'kwargs': {}}, ts_ns=1701269208978932499)\n",
      "Event triggered: on_run_start\n",
      "CallbackEventModel(name='on_run_start', file='aiconfig.default_parsers.openai', data={'prompt': Prompt(name='get_activities', input='Tell me 10 fun attractions to do in NYC.', metadata=None, outputs=[]), 'options': None, 'parameters': {}}, ts_ns=1701269208978932499)\n",
      "Event triggered: on_deserialize_start\n",
      "CallbackEventModel(name='on_deserialize_start', file='aiconfig.default_parsers.openai', data={'prompt': Prompt(name='get_activities', input='Tell me 10 fun attractions to do in NYC.', metadata=None, outputs=[]), 'params': {}}, ts_ns=1701269208978932499)\n",
      "Event triggered: on_deserialize_complete\n",
      "CallbackEventModel(name='on_deserialize_complete', file='aiconfig.default_parsers.openai', data={'output': {'model': 'gpt-3.5-turbo', 'temperature': 1, 'top_p': 1, 'messages': [{'content': 'Tell me 10 fun attractions to do in NYC.', 'role': 'user'}]}}, ts_ns=1701269208978932499)\n",
      "Event triggered: on_run_complete\n",
      "CallbackEventModel(name='on_run_complete', file='aiconfig.default_parsers.openai', data={'result': [ExecuteResult(output_type='execute_result', execution_count=0, data={'content': \"1. Visit the Statue of Liberty: Take a ferry to Liberty Island and explore the iconic statue, climb up to the observation deck and enjoy panoramic views of the city.\\n2. Walk through Central Park: Discover this iconic green oasis in the heart of Manhattan. Enjoy a picnic, rent a rowboat, or explore the beautiful pathways and landmarks.\\n3. Explore Times Square: Immerse yourself in the bright lights and hustle of Times Square. Take in the vibrant atmosphere, browse the shops, and catch a Broadway show.\\n4. Visit the Metropolitan Museum of Art: Explore one of the world's largest art collections. From ancient Egyptian artifacts to modern masterpieces, there is something for every art enthusiast.\\n5. Experience the High Line: Walk along the elevated park built on a historic freight rail line. Enjoy beautiful views, gardens, art installations, and grab a bite to eat from the various food vendors.\\n6. Explore the Museum of Natural History: Delve into the wonders of the natural world through fascinating exhibits, including displays of dinosaurs, gems, and artifacts from different cultures.\\n7. Go to the Top of the Rock Observation Deck: Enjoy breathtaking views of New York City from the observation deck on top of the Rockefeller Center. Particularly stunning during sunset!\\n8. Take a cruise around Manhattan: Hop on a boat and cruise around the island, taking in the magnificent skyline, landmarks like the Brooklyn Bridge, and the Statue of Liberty from a different perspective.\\n9. Stroll through Chelsea Market: Explore this vibrant food court and shopping destination located in the Meatpacking District. Sample delicious food, browse unique boutiques, and enjoy the lively atmosphere.\\n10. Visit the 9/11 Memorial and Museum: Pay respect to the victims of the September 11th attacks at this poignant and beautifully designed memorial. Explore the museum for a deeper understanding of the events.\", 'role': 'assistant'}, mime_type=None, metadata={'finish_reason': 'stop'})]}, ts_ns=1701269208978932499)\n",
      "Event triggered: on_run_complete\n",
      "CallbackEventModel(name='on_run_complete', file='aiconfig.Config', data={'result': [ExecuteResult(output_type='execute_result', execution_count=0, data={'content': \"1. Visit the Statue of Liberty: Take a ferry to Liberty Island and explore the iconic statue, climb up to the observation deck and enjoy panoramic views of the city.\\n2. Walk through Central Park: Discover this iconic green oasis in the heart of Manhattan. Enjoy a picnic, rent a rowboat, or explore the beautiful pathways and landmarks.\\n3. Explore Times Square: Immerse yourself in the bright lights and hustle of Times Square. Take in the vibrant atmosphere, browse the shops, and catch a Broadway show.\\n4. Visit the Metropolitan Museum of Art: Explore one of the world's largest art collections. From ancient Egyptian artifacts to modern masterpieces, there is something for every art enthusiast.\\n5. Experience the High Line: Walk along the elevated park built on a historic freight rail line. Enjoy beautiful views, gardens, art installations, and grab a bite to eat from the various food vendors.\\n6. Explore the Museum of Natural History: Delve into the wonders of the natural world through fascinating exhibits, including displays of dinosaurs, gems, and artifacts from different cultures.\\n7. Go to the Top of the Rock Observation Deck: Enjoy breathtaking views of New York City from the observation deck on top of the Rockefeller Center. Particularly stunning during sunset!\\n8. Take a cruise around Manhattan: Hop on a boat and cruise around the island, taking in the magnificent skyline, landmarks like the Brooklyn Bridge, and the Statue of Liberty from a different perspective.\\n9. Stroll through Chelsea Market: Explore this vibrant food court and shopping destination located in the Meatpacking District. Sample delicious food, browse unique boutiques, and enjoy the lively atmosphere.\\n10. Visit the 9/11 Memorial and Museum: Pay respect to the victims of the September 11th attacks at this poignant and beautifully designed memorial. Explore the museum for a deeper understanding of the events.\", 'role': 'assistant'}, mime_type=None, metadata={'finish_reason': 'stop'})]}, ts_ns=1701269208978932499)\n",
      "Event triggered: on_run_start\n",
      "CallbackEventModel(name='on_run_start', file='aiconfig.Config', data={'prompt_name': 'gen_itinerary', 'params': {}, 'options': None, 'kwargs': {}}, ts_ns=1701269208978932499)\n",
      "Event triggered: on_run_start\n",
      "CallbackEventModel(name='on_run_start', file='aiconfig.default_parsers.openai', data={'prompt': Prompt(name='gen_itinerary', input='Generate an itinerary ordered by {{order_by}} for these activities: {{get_activities.output}}.', metadata=PromptMetadata(model='gpt-4', tags=None, parameters={'order_by': 'geographic location'}), outputs=[]), 'options': None, 'parameters': {}}, ts_ns=1701269208978932499)\n",
      "Event triggered: on_deserialize_start\n",
      "CallbackEventModel(name='on_deserialize_start', file='aiconfig.default_parsers.openai', data={'prompt': Prompt(name='gen_itinerary', input='Generate an itinerary ordered by {{order_by}} for these activities: {{get_activities.output}}.', metadata=PromptMetadata(model='gpt-4', tags=None, parameters={'order_by': 'geographic location'}), outputs=[]), 'params': {}}, ts_ns=1701269208978932499)\n",
      "Event triggered: on_deserialize_complete\n",
      "CallbackEventModel(name='on_deserialize_complete', file='aiconfig.default_parsers.openai', data={'output': {'model': 'gpt-4', 'max_tokens': 3000, 'messages': [{'content': 'You are an expert travel coordinator with exquisite taste.', 'role': 'system'}, {'content': 'Generate an itinerary ordered by geographic location for these activities: 1. Visit the Statue of Liberty: Take a ferry to Liberty Island and explore the iconic statue, climb up to the observation deck and enjoy panoramic views of the city.\\n2. Walk through Central Park: Discover this iconic green oasis in the heart of Manhattan. Enjoy a picnic, rent a rowboat, or explore the beautiful pathways and landmarks.\\n3. Explore Times Square: Immerse yourself in the bright lights and hustle of Times Square. Take in the vibrant atmosphere, browse the shops, and catch a Broadway show.\\n4. Visit the Metropolitan Museum of Art: Explore one of the world&#x27;s largest art collections. From ancient Egyptian artifacts to modern masterpieces, there is something for every art enthusiast.\\n5. Experience the High Line: Walk along the elevated park built on a historic freight rail line. Enjoy beautiful views, gardens, art installations, and grab a bite to eat from the various food vendors.\\n6. Explore the Museum of Natural History: Delve into the wonders of the natural world through fascinating exhibits, including displays of dinosaurs, gems, and artifacts from different cultures.\\n7. Go to the Top of the Rock Observation Deck: Enjoy breathtaking views of New York City from the observation deck on top of the Rockefeller Center. Particularly stunning during sunset!\\n8. Take a cruise around Manhattan: Hop on a boat and cruise around the island, taking in the magnificent skyline, landmarks like the Brooklyn Bridge, and the Statue of Liberty from a different perspective.\\n9. Stroll through Chelsea Market: Explore this vibrant food court and shopping destination located in the Meatpacking District. Sample delicious food, browse unique boutiques, and enjoy the lively atmosphere.\\n10. Visit the 9/11 Memorial and Museum: Pay respect to the victims of the September 11th attacks at this poignant and beautifully designed memorial. Explore the museum for a deeper understanding of the events..', 'role': 'user'}]}}, ts_ns=1701269208978932499)\n",
      "Event triggered: on_run_complete\n",
      "CallbackEventModel(name='on_run_complete', file='aiconfig.default_parsers.openai', data={'result': [ExecuteResult(output_type='execute_result', execution_count=0, data={'content': \"Itinerary:\\n\\n1. Start your adventure with the **Statue of Liberty**. Take the ferry from Battery Park to Liberty Island in the early morning to beat the crowds and have ample time to climb up to the observation deck for stunning views. \\n\\n2. After you return to the main city, make your way to the **9/11 Memorial and Museum** located at the World Trade Centre site. Pay your respects and explore the museum's significant exhibits. \\n\\n3. Hop on a boat for your **cruise around Manhattan** in the afternoon. The afternoon cruise provides beautiful midday views of the skyline and landmarks like the Brooklyn Bridge, and of course, a different perspective of the Statue of Liberty.\\n\\n4. Next, get off the boat near Chelsea, and indulge your food cravings in **Chelsea Market**. This former biscuit factory houses a vibrant food court and is a shopper's delight with its unique boutiques. \\n\\n5. Right next to Chelsea Market, step onto the **High Line**. Take a leisurely walk along this fascinating elevated park built on a historic freight rail line. You'll also have an opportunity to enjoy art installations and gardens as everyday New York life bustles beneath you.\\n\\n6. Head north on the subway to the **Times Square** area as the city starts to light up. This district, ablaze with digital billboards, is at heart the theatre district of the city. Check showtimes in advance and book yourself into a Broadway show for an unforgettable evening. \\n\\n7. After the show, it's a short walk to **Rockefeller Center**. Head to the Top of the Rock Observation Deck to soak in the spectacular NYC skyline. It's particularly stunning during sunset but also magical with the city lights at night.\\n\\n8. The next day, start with a morning visit to the **Museum of Natural History** located on the Upper West Side of Central Park. Explore its extensive exhibits including dinosaur fossils, gems, and artifacts representing various cultures. \\n\\n9. Walk eastward across the beautiful **Central Park**. Rent a rowboat if you wish, or simply enjoy a picnic lunch and explore its winding pathways and numerous landmarks this park offers. \\n\\n10. Finish the tour by appreciating art in the **Metropolitan Museum of Art**, located on the eastern side of Central Park. Explore its vast collection incorporating art from various periods and regions thereby ending your tour on a high note. \\n\\nThis itinerary offers the best of what New York City has to offer, iconic landmarks, cultural institutions, outdoor spaces, and fabulous views.\", 'role': 'assistant'}, mime_type=None, metadata={'finish_reason': 'stop'})]}, ts_ns=1701269208978932499)\n",
      "Event triggered: on_run_complete\n",
      "CallbackEventModel(name='on_run_complete', file='aiconfig.Config', data={'result': [ExecuteResult(output_type='execute_result', execution_count=0, data={'content': \"Itinerary:\\n\\n1. Start your adventure with the **Statue of Liberty**. Take the ferry from Battery Park to Liberty Island in the early morning to beat the crowds and have ample time to climb up to the observation deck for stunning views. \\n\\n2. After you return to the main city, make your way to the **9/11 Memorial and Museum** located at the World Trade Centre site. Pay your respects and explore the museum's significant exhibits. \\n\\n3. Hop on a boat for your **cruise around Manhattan** in the afternoon. The afternoon cruise provides beautiful midday views of the skyline and landmarks like the Brooklyn Bridge, and of course, a different perspective of the Statue of Liberty.\\n\\n4. Next, get off the boat near Chelsea, and indulge your food cravings in **Chelsea Market**. This former biscuit factory houses a vibrant food court and is a shopper's delight with its unique boutiques. \\n\\n5. Right next to Chelsea Market, step onto the **High Line**. Take a leisurely walk along this fascinating elevated park built on a historic freight rail line. You'll also have an opportunity to enjoy art installations and gardens as everyday New York life bustles beneath you.\\n\\n6. Head north on the subway to the **Times Square** area as the city starts to light up. This district, ablaze with digital billboards, is at heart the theatre district of the city. Check showtimes in advance and book yourself into a Broadway show for an unforgettable evening. \\n\\n7. After the show, it's a short walk to **Rockefeller Center**. Head to the Top of the Rock Observation Deck to soak in the spectacular NYC skyline. It's particularly stunning during sunset but also magical with the city lights at night.\\n\\n8. The next day, start with a morning visit to the **Museum of Natural History** located on the Upper West Side of Central Park. Explore its extensive exhibits including dinosaur fossils, gems, and artifacts representing various cultures. \\n\\n9. Walk eastward across the beautiful **Central Park**. Rent a rowboat if you wish, or simply enjoy a picnic lunch and explore its winding pathways and numerous landmarks this park offers. \\n\\n10. Finish the tour by appreciating art in the **Metropolitan Museum of Art**, located on the eastern side of Central Park. Explore its vast collection incorporating art from various periods and regions thereby ending your tour on a high note. \\n\\nThis itinerary offers the best of what New York City has to offer, iconic landmarks, cultural institutions, outdoor spaces, and fabulous views.\", 'role': 'assistant'}, mime_type=None, metadata={'finish_reason': 'stop'})]}, ts_ns=1701269208978932499)\n",
      "Event triggered: on_run_complete\n",
      "CallbackEventModel(name='on_run_complete', file='aiconfig.Config', data={'result': [ExecuteResult(output_type='execute_result', execution_count=0, data={'content': \"Itinerary:\\n\\n1. Start your adventure with the **Statue of Liberty**. Take the ferry from Battery Park to Liberty Island in the early morning to beat the crowds and have ample time to climb up to the observation deck for stunning views. \\n\\n2. After you return to the main city, make your way to the **9/11 Memorial and Museum** located at the World Trade Centre site. Pay your respects and explore the museum's significant exhibits. \\n\\n3. Hop on a boat for your **cruise around Manhattan** in the afternoon. The afternoon cruise provides beautiful midday views of the skyline and landmarks like the Brooklyn Bridge, and of course, a different perspective of the Statue of Liberty.\\n\\n4. Next, get off the boat near Chelsea, and indulge your food cravings in **Chelsea Market**. This former biscuit factory houses a vibrant food court and is a shopper's delight with its unique boutiques. \\n\\n5. Right next to Chelsea Market, step onto the **High Line**. Take a leisurely walk along this fascinating elevated park built on a historic freight rail line. You'll also have an opportunity to enjoy art installations and gardens as everyday New York life bustles beneath you.\\n\\n6. Head north on the subway to the **Times Square** area as the city starts to light up. This district, ablaze with digital billboards, is at heart the theatre district of the city. Check showtimes in advance and book yourself into a Broadway show for an unforgettable evening. \\n\\n7. After the show, it's a short walk to **Rockefeller Center**. Head to the Top of the Rock Observation Deck to soak in the spectacular NYC skyline. It's particularly stunning during sunset but also magical with the city lights at night.\\n\\n8. The next day, start with a morning visit to the **Museum of Natural History** located on the Upper West Side of Central Park. Explore its extensive exhibits including dinosaur fossils, gems, and artifacts representing various cultures. \\n\\n9. Walk eastward across the beautiful **Central Park**. Rent a rowboat if you wish, or simply enjoy a picnic lunch and explore its winding pathways and numerous landmarks this park offers. \\n\\n10. Finish the tour by appreciating art in the **Metropolitan Museum of Art**, located on the eastern side of Central Park. Explore its vast collection incorporating art from various periods and regions thereby ending your tour on a high note. \\n\\nThis itinerary offers the best of what New York City has to offer, iconic landmarks, cultural institutions, outdoor spaces, and fabulous views.\", 'role': 'assistant'}, mime_type=None, metadata={'finish_reason': 'stop'})]}, ts_ns=1701269208978932499)\n"
     ]
    },
    {
     "data": {
      "text/plain": [
       "[ExecuteResult(output_type='execute_result', execution_count=0, data={'content': \"Itinerary:\\n\\n1. Start your adventure with the **Statue of Liberty**. Take the ferry from Battery Park to Liberty Island in the early morning to beat the crowds and have ample time to climb up to the observation deck for stunning views. \\n\\n2. After you return to the main city, make your way to the **9/11 Memorial and Museum** located at the World Trade Centre site. Pay your respects and explore the museum's significant exhibits. \\n\\n3. Hop on a boat for your **cruise around Manhattan** in the afternoon. The afternoon cruise provides beautiful midday views of the skyline and landmarks like the Brooklyn Bridge, and of course, a different perspective of the Statue of Liberty.\\n\\n4. Next, get off the boat near Chelsea, and indulge your food cravings in **Chelsea Market**. This former biscuit factory houses a vibrant food court and is a shopper's delight with its unique boutiques. \\n\\n5. Right next to Chelsea Market, step onto the **High Line**. Take a leisurely walk along this fascinating elevated park built on a historic freight rail line. You'll also have an opportunity to enjoy art installations and gardens as everyday New York life bustles beneath you.\\n\\n6. Head north on the subway to the **Times Square** area as the city starts to light up. This district, ablaze with digital billboards, is at heart the theatre district of the city. Check showtimes in advance and book yourself into a Broadway show for an unforgettable evening. \\n\\n7. After the show, it's a short walk to **Rockefeller Center**. Head to the Top of the Rock Observation Deck to soak in the spectacular NYC skyline. It's particularly stunning during sunset but also magical with the city lights at night.\\n\\n8. The next day, start with a morning visit to the **Museum of Natural History** located on the Upper West Side of Central Park. Explore its extensive exhibits including dinosaur fossils, gems, and artifacts representing various cultures. \\n\\n9. Walk eastward across the beautiful **Central Park**. Rent a rowboat if you wish, or simply enjoy a picnic lunch and explore its winding pathways and numerous landmarks this park offers. \\n\\n10. Finish the tour by appreciating art in the **Metropolitan Museum of Art**, located on the eastern side of Central Park. Explore its vast collection incorporating art from various periods and regions thereby ending your tour on a high note. \\n\\nThis itinerary offers the best of what New York City has to offer, iconic landmarks, cultural institutions, outdoor spaces, and fabulous views.\", 'role': 'assistant'}, mime_type=None, metadata={'finish_reason': 'stop'})]"
      ]
     },
     "execution_count": 4,
     "metadata": {},
     "output_type": "execute_result"
    }
   ],
   "source": [
    "from aiconfig import CallbackManager\n",
    "\n",
    "callback_manager = CallbackManager([my_custom_callback])\n",
    "config.set_callback_manager(callback_manager)\n",
    "\n",
    "await config.run(prompt_name=\"gen_itinerary\", run_with_dependencies=True)"
   ]
  },
  {
   "cell_type": "code",
   "execution_count": null,
   "metadata": {},
   "outputs": [],
   "source": []
  }
 ],
 "metadata": {
  "kernelspec": {
   "display_name": "Python 3",
   "language": "python",
   "name": "python3"
  },
  "language_info": {
   "codemirror_mode": {
    "name": "ipython",
    "version": 3
   },
   "file_extension": ".py",
   "mimetype": "text/x-python",
   "name": "python",
   "nbconvert_exporter": "python",
   "pygments_lexer": "ipython3",
   "version": "3.10.12"
  }
 },
 "nbformat": 4,
 "nbformat_minor": 2
}
