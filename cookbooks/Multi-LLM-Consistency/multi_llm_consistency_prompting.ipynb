{
  "cells": [
    {
      "cell_type": "code",
      "execution_count": null,
      "metadata": {
        "id": "RDkePRKCS8rU"
      },
      "outputs": [],
      "source": [
        "# Install libraries\n",
        "!pip install openai\n",
        "!pip install python-aiconfig"
      ]
    },
    {
      "cell_type": "code",
      "execution_count": 1,
      "metadata": {
        "id": "nat03JkI9Dw2"
      },
      "outputs": [
        {
          "name": "stderr",
          "output_type": "stream",
          "text": [
            "/home/jacobjensen/.pyenv/versions/aiconfig/lib/python3.10/site-packages/pydantic/_internal/_fields.py:149: UserWarning: Field \"model_parsers\" has conflict with protected namespace \"model_\".\n",
            "\n",
            "You may be able to resolve this warning by setting `model_config['protected_namespaces'] = ()`.\n",
            "  warnings.warn(\n",
            "/home/jacobjensen/.pyenv/versions/aiconfig/lib/python3.10/site-packages/tqdm/auto.py:21: TqdmWarning: IProgress not found. Please update jupyter and ipywidgets. See https://ipywidgets.readthedocs.io/en/stable/user_install.html\n",
            "  from .autonotebook import tqdm as notebook_tqdm\n"
          ]
        }
      ],
      "source": [
        "#Import libraries\n",
        "import openai\n",
        "import os\n",
        "from aiconfig.Config import AIConfigRuntime\n",
        "\n",
        "# #Set the OpenAI key. The following code is specific for Google Colab\n",
        "# #We recommend using environment variables for setting the open ai key\n",
        "# from google.colab import userdata\n",
        "# openai.api_key = userdata.get('OPENAI_API_KEY')\n",
        "openai.api_key = open(\"/home/jacobjensen/secrets/openai_api_key.txt\", \"r\").read().strip()"
      ]
    },
    {
      "cell_type": "code",
      "execution_count": 2,
      "metadata": {
        "id": "VDZ4rhDr9E9E"
      },
      "outputs": [],
      "source": [
        "# Load AI Config\n",
        "config_file_path = \"multi_llm_consistency_and_quorum.json\"\n",
        "config = AIConfigRuntime.load(config_file_path)"
      ]
    },
    {
      "cell_type": "code",
      "execution_count": 5,
      "metadata": {
        "id": "Z_BqhhxstmBV"
      },
      "outputs": [
        {
          "name": "stdout",
          "output_type": "stream",
          "text": [
            "When you were 6, your sister was half your age, meaning she was 3 years old. Therefore, she is 3 years younger than you. Now that you're 70, your sister must be 70 - 3 = 67 years old."
          ]
        }
      ],
      "source": [
        "# Run the AI Config\n",
        "from aiconfig.default_parsers.parameterized_model_parser import InferenceOptions\n",
        "\n",
        "params = {}\n",
        "inference_options = InferenceOptions()\n",
        "\n",
        "response_completion = await config.run(\"majority-evaluator\", params, inference_options)\n",
        "response = config.get_output_text(\"majority-evaluator\")"
      ]
    },
    {
      "cell_type": "code",
      "execution_count": 7,
      "metadata": {},
      "outputs": [
        {
          "name": "stdout",
          "output_type": "stream",
          "text": [
            "[ExecuteResult(output_type='execute_result', execution_count=0, data={'content': \"When you were 6, your sister was half your age, meaning she was 3 years old. Therefore, she is 3 years younger than you. Now that you're 70, your sister must be 70 - 3 = 67 years old.\", 'role': 'assistant'}, mime_type=None, metadata={'finish_reason': 'stop'})]\n"
          ]
        }
      ],
      "source": [
        "print(response_completion)"
      ]
    },
    {
      "cell_type": "code",
      "execution_count": 6,
      "metadata": {
        "id": "SUDF3Jj_tqw4"
      },
      "outputs": [
        {
          "name": "stdout",
          "output_type": "stream",
          "text": [
            "When you were 6, your sister was half your age, meaning she was 3 years old. Therefore, she is 3 years younger than you. Now that you're 70, your sister must be 70 - 3 = 67 years old.\n"
          ]
        }
      ],
      "source": [
        "print(response)"
      ]
    },
    {
      "cell_type": "code",
      "execution_count": null,
      "metadata": {
        "id": "ZhyBEWGcM6zB"
      },
      "outputs": [],
      "source": []
    }
  ],
  "metadata": {
    "colab": {
      "provenance": []
    },
    "kernelspec": {
      "display_name": "Python 3",
      "name": "python3"
    },
    "language_info": {
      "codemirror_mode": {
        "name": "ipython",
        "version": 3
      },
      "file_extension": ".py",
      "mimetype": "text/x-python",
      "name": "python",
      "nbconvert_exporter": "python",
      "pygments_lexer": "ipython3",
      "version": "3.10.12"
    }
  },
  "nbformat": 4,
  "nbformat_minor": 0
}
