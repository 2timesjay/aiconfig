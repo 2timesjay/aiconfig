{
  "cells": [
    {
      "cell_type": "markdown",
      "metadata": {
        "id": "_KIVLBz840Bi"
      },
      "source": [
        "# Chain-of-Verification GPT4 Template\n",
        "Chain-of-Verification (CoVe) is a prompt engineering technique to bypass hallucinations. An LLM generates a baseline response to a user query, but this might contain errors. CoVe helps by creating a plan comprising of verification questions that are used to validate the information. This process results in more accurate answers than the initial response. The final answer is revised based on these validations. **[ Link to Paper](https://arxiv.org/pdf/2309.11495.pdf)**\n",
        "\n",
        "**How to use template?**\n",
        "1. Download `cove_template_config.json` [here](https://github.com/lastmile-ai/aiconfig/blob/main/cookbooks/Chain-of-Verification/cove_template_config.json).\n",
        "2. Follow instructions in this notebook.\n",
        "\n",
        "*Need a playground to test your prompts?*\n",
        "Go to this [AI Workbook](https://lastmileai.dev/workbooks/clpa6nv2x00fdqp38oefmz29c) to experiment with your prompts/model params."
      ]
    },
    {
      "cell_type": "code",
      "execution_count": 1,
      "metadata": {
        "id": "k3tsITZhVFp-"
      },
      "outputs": [],
      "source": [
        "# # Install AIConfig package\n",
        "# !pip install python-aiconfig"
      ]
    },
    {
      "cell_type": "code",
      "execution_count": 2,
      "metadata": {
        "id": "51w-3OZC_Z97"
      },
      "outputs": [
        {
          "name": "stderr",
          "output_type": "stream",
          "text": [
            "/home/jacobjensen/.pyenv/versions/aiconfig/lib/python3.10/site-packages/pydantic/_internal/_fields.py:149: UserWarning: Field \"model_parsers\" has conflict with protected namespace \"model_\".\n",
            "\n",
            "You may be able to resolve this warning by setting `model_config['protected_namespaces'] = ()`.\n",
            "  warnings.warn(\n",
            "/home/jacobjensen/.pyenv/versions/aiconfig/lib/python3.10/site-packages/tqdm/auto.py:21: TqdmWarning: IProgress not found. Please update jupyter and ipywidgets. See https://ipywidgets.readthedocs.io/en/stable/user_install.html\n",
            "  from .autonotebook import tqdm as notebook_tqdm\n"
          ]
        }
      ],
      "source": [
        "# Import required modules from AIConfig and other dependencies\n",
        "import openai\n",
        "import json\n",
        "import pandas as pd\n",
        "from aiconfig import AIConfigRuntime, CallbackManager, InferenceOptions\n",
        "\n",
        "# #Set the OpenAI key. The following code is specific for Google Colab\n",
        "# #We recommend using environment variables for setting the open ai key\n",
        "# from google.colab import userdata\n",
        "# openai.api_key = userdata.get('OPENAI_API_KEY')\n",
        "openai.api_key = open(\"/home/jacobjensen/secrets/openai_api_key.txt\", \"r\").read().strip()"
      ]
    },
    {
      "cell_type": "code",
      "execution_count": 3,
      "metadata": {
        "id": "6cAw1ekXCxGn"
      },
      "outputs": [],
      "source": [
        "# Make sure to upload `cove_template_config.json`to Files in Colab Notebook\n",
        "file_path = \"cove_template_config.json\"\n",
        "config = AIConfigRuntime.load(file_path) # loads config\n",
        "config.callback_manager = CallbackManager([])\n",
        "\n",
        "inference_options = InferenceOptions() # setup streaming"
      ]
    },
    {
      "cell_type": "markdown",
      "metadata": {
        "id": "ykZE2ieO6ryn"
      },
      "source": [
        "## 1. Baseline Response\n",
        "Prompt LLM with user question. The baseline response from the LLM might contain inaccuracies that we will want to verify.\n",
        "\n",
        "**Prompt: Name 15 politicians who were born in New York City, New York.**"
      ]
    },
    {
      "cell_type": "code",
      "execution_count": 4,
      "metadata": {
        "colab": {
          "base_uri": "https://localhost:8080/"
        },
        "id": "nbolW2mVDeZD",
        "outputId": "0e3d90fc-12ab-40e4-99c1-89de436a61e6"
      },
      "outputs": [
        {
          "name": "stdout",
          "output_type": "stream",
          "text": [
            "1. Theodore Roosevelt - 26th President of the United States\n",
            "2. Franklin D. Roosevelt - 32nd President of the United States\n",
            "3. Donald Trump - 45th President of the United States\n",
            "4. Michael Bloomberg - Former Mayor of New York City\n",
            "5. Rudy Giuliani - Former Mayor of New York City\n",
            "6. Alexander Hamilton - Founding Father of the United States\n",
            "7. Eliot Spitzer - Former Governor of New York\n",
            "8. Chuck Schumer - U.S. Senator from New York\n",
            "9. Kirsten Gillibrand - U.S. Senator from New York\n",
            "10. Bill de Blasio - Former Mayor of New York City\n",
            "11. Andrew Cuomo - Former Governor of New York\n",
            "12. Eric Schneiderman - Former Attorney General of New York\n",
            "13. Letitia James - Attorney General of New York\n",
            "14. David Dinkins - Former Mayor of New York City\n",
            "15. Adam Clayton Powell Jr. - Former U.S. Representative from New York."
          ]
        }
      ],
      "source": [
        "# TODO: Update baseline_prompt but ensure it is structured in a way that outputs a list of entities where each can be verified.\n",
        "baseline_prompt = \"Name 15 politicians who were born in New York City, New York.\"\n",
        "# baseline_prompt = \"List 20 programming languages that were developed in the United States. Include the developer name in parentheses.\"\n",
        "\n",
        "# Run baseline prompt to generate initial response which might contain errors\n",
        "async def run_baseline_prompt(baseline_prompt):\n",
        "    config.update_parameter(\"baseline_prompt\", baseline_prompt)\n",
        "    config.save()\n",
        "\n",
        "    await config.run(\"baseline_response_gen\", options=inference_options) # run baseline prompt\n",
        "    return config.get_output_text(\"baseline_response_gen\")\n",
        "\n",
        "baseline_response = await run_baseline_prompt(baseline_prompt)"
      ]
    },
    {
      "cell_type": "markdown",
      "metadata": {
        "id": "7OQNz9cM7Myv"
      },
      "source": [
        "\n",
        "## 2. Setup and Test Verification Question\n",
        "Given both query and baseline response, generate a verification\n",
        "question that could help to self-analyze if there are any mistakes in the original response. We will use one verification question here.\n",
        "\n",
        "**Verification Prompt: Where was {{entity}} born?**"
      ]
    },
    {
      "cell_type": "code",
      "execution_count": 5,
      "metadata": {
        "colab": {
          "base_uri": "https://localhost:8080/"
        },
        "id": "jD9S3q5mMtqd",
        "outputId": "26e67754-48b2-4046-db96-740e1e5bb6fe"
      },
      "outputs": [
        {
          "name": "stdout",
          "output_type": "stream",
          "text": [
            "Al Sharpton was born in Brooklyn, New York, United States."
          ]
        }
      ],
      "source": [
        "# TODO: Update verification question that takes in entity as a parameter\n",
        "verification_question = \"Where was {{entity}} born?\"\n",
        "# verification_question =  \"Where was this coding language developed: {{entity}}?\"\n",
        "\n",
        "# Run verification on a single entity from baseline response to test\n",
        "async def run_single_verification(verification_question, entity):\n",
        "    params = {\"entity\": entity}\n",
        "    config.update_parameter(\"verification_question\", verification_question)\n",
        "    config.save()\n",
        "\n",
        "    verification_completion = await config.run(\"verification\", params, options=inference_options)\n",
        "    return verification_completion\n",
        "\n",
        "# TODO: Update with an entity from the baseline response\n",
        "verification_completion = await run_single_verification(verification_question, \"AL Sharpton\")"
      ]
    },
    {
      "cell_type": "markdown",
      "metadata": {
        "id": "B9Zaypp075f9"
      },
      "source": [
        "## 3. Execute Verifications\n",
        "Answer each verification question for each entity from the the baseline response. Save the verification results in a single string."
      ]
    },
    {
      "cell_type": "code",
      "execution_count": 6,
      "metadata": {
        "colab": {
          "base_uri": "https://localhost:8080/"
        },
        "id": "QFew6GhONR8X",
        "outputId": "afd847a2-91b6-4b48-acb9-9209c7be63ab"
      },
      "outputs": [
        {
          "name": "stdout",
          "output_type": "stream",
          "text": [
            "Theodore Roosevelt was born in New York City, New York, United States.\n",
            "\n",
            "Franklin D. Roosevelt was born in Hyde Park, New York, United States.\n",
            "\n",
            "Donald Trump was born in Queens, New York, United States.\n",
            "\n",
            "Michael Bloomberg was born in Boston, Massachusetts, United States.\n",
            "\n",
            "Rudy Giuliani was born in Brooklyn, New York, United States.\n",
            "\n",
            "Alexander Hamilton was born in Charlestown, Nevis, in the British West Indies.\n",
            "\n",
            "Eliot Spitzer was born in The Bronx, New York, United States.\n",
            "\n",
            "Chuck Schumer was born in Brooklyn, New York, United States.\n",
            "\n",
            "Kirsten Gillibrand was born in Albany, New York, United States.\n",
            "\n",
            "Bill de Blasio was born in Manhattan, New York, United States.\n",
            "\n",
            "Andrew Cuomo was born in Queens, New York, United States.\n",
            "\n",
            "Eric Schneiderman was born in New York City, New York, United States.\n",
            "\n",
            "Letitia James was born in Brooklyn, New York, United States.\n",
            "\n",
            "David Dinkins was born in Trenton, New Jersey, United States.\n",
            "\n",
            "Adam Clayton Powell Jr. was born in New Haven, Connecticut, United States.\n",
            "\n"
          ]
        }
      ],
      "source": [
        "# Extracts entity names from a given baseline response by processing each line with regex.\n",
        "# TODO: Update regex if the format of the baseline response changes. (ex. not a numbered list)\n",
        "def gen_entities_list(baseline_response):\n",
        "  rows = baseline_response.split('\\n')\n",
        "  entities = []\n",
        "\n",
        "  for row in rows:\n",
        "      if not row.strip():\n",
        "          continue\n",
        "      entities.append(pd.Series(row).str.extract(r'(\\d+\\.\\s)([^,]*)')[1].values[0])\n",
        "\n",
        "  return entities\n",
        "\n",
        "# Run verification question for each entity and concatenates returned verifications into a single string.\n",
        "async def gen_verification_results(entities):\n",
        "  verification_data = \"\"\n",
        "  for n in entities:\n",
        "      params = {\n",
        "          \"verification_question\": verification_question,\n",
        "          \"entity\": n\n",
        "      }\n",
        "      verification_completion = await config.run(\"verification\", params, options=inference_options)\n",
        "      single_verification_text = config.get_output_text(\"verification\")\n",
        "      verification_data += \" \" + single_verification_text\n",
        "      print(\"\\n\")\n",
        "\n",
        "  return verification_data\n",
        "\n",
        "\n",
        "entities = gen_entities_list(baseline_response)\n",
        "verification_data = await gen_verification_results(entities)"
      ]
    },
    {
      "cell_type": "markdown",
      "metadata": {
        "id": "Ldof6NdR86qI"
      },
      "source": [
        "## 4. Generate Revised Response\n",
        "Given the discovered inconsistencies (if any), generate a revised response incorporating the verification results."
      ]
    },
    {
      "cell_type": "code",
      "execution_count": 7,
      "metadata": {
        "colab": {
          "base_uri": "https://localhost:8080/"
        },
        "id": "4MiNxiJc9GPI",
        "outputId": "9fa58490-8eb3-4a88-cd54-efa36cdb22aa"
      },
      "outputs": [
        {
          "name": "stdout",
          "output_type": "stream",
          "text": [
            "### Revised Response \n",
            "1. Theodore Roosevelt - 26th President of the United States\n",
            "2. Donald Trump - 45th President of the United States\n",
            "3. Rudy Giuliani - Former Mayor of New York City\n",
            "4. Eliot Spitzer - Former Governor of New York\n",
            "5. Chuck Schumer - U.S. Senator from New York\n",
            "6. Bill de Blasio - Former Mayor of New York City\n",
            "7. Andrew Cuomo - Former Governor of New York\n",
            "8. Eric Schneiderman - Former Attorney General of New York\n",
            "9. Letitia James - Attorney General of New York\n",
            "\n",
            "### Failed Entities \n",
            "1. Franklin D. Roosevelt - He was born in Hyde Park, New York, not New York City.\n",
            "2. Michael Bloomberg - He was born in Boston, Massachusetts, not New York City.\n",
            "3. Alexander Hamilton - He was born in Charlestown, Nevis, in the British West Indies, not New York City.\n",
            "4. Kirsten Gillibrand - She was born in Albany, New York, not New York City.\n",
            "5. David Dinkins - He was born in Trenton, New Jersey, not New York City.\n",
            "6. Adam Clayton Powell Jr. - He was born in New Haven, Connecticut, not New York City."
          ]
        }
      ],
      "source": [
        "# Generated the revised response using verification data\n",
        "params = {\"verification_results\": verification_data}\n",
        "revised_response = await config.run(\"final_response_gen\", params, options=inference_options)"
      ]
    },
    {
      "cell_type": "code",
      "execution_count": 8,
      "metadata": {},
      "outputs": [
        {
          "data": {
            "text/plain": [
              "{'name': 'Chain-of-Verification (CoVe)  Template',\n",
              " 'schema_version': 'latest',\n",
              " 'metadata': ConfigMetadata(parameters={'baseline_prompt': 'Name 15 politicians who were born in New York City, New York.', 'verification_question': 'Where was {{entity}} born?'}, models={'gpt-4': {'model': 'gpt-4', 'top_p': 1, 'temperature': 0, 'presence_penalty': 0, 'frequency_penalty': 0}}, default_model=None, model_parsers=None),\n",
              " 'description': '',\n",
              " 'prompts': [Prompt(name='baseline_response_gen', input='{{baseline_prompt}}', metadata=PromptMetadata(model=ModelMetadata(name='gpt-4', settings={'system_prompt': ''}), tags=None, parameters={}, remember_chat_context=False), outputs=[ExecuteResult(output_type='execute_result', execution_count=0, data={'content': '1. Theodore Roosevelt - 26th President of the United States\\n2. Franklin D. Roosevelt - 32nd President of the United States\\n3. Donald Trump - 45th President of the United States\\n4. Michael Bloomberg - Former Mayor of New York City\\n5. Rudy Giuliani - Former Mayor of New York City\\n6. Alexander Hamilton - Founding Father of the United States\\n7. Eliot Spitzer - Former Governor of New York\\n8. Chuck Schumer - U.S. Senator from New York\\n9. Kirsten Gillibrand - U.S. Senator from New York\\n10. Bill de Blasio - Former Mayor of New York City\\n11. Andrew Cuomo - Former Governor of New York\\n12. Eric Schneiderman - Former Attorney General of New York\\n13. Letitia James - Attorney General of New York\\n14. David Dinkins - Former Mayor of New York City\\n15. Adam Clayton Powell Jr. - Former U.S. Representative from New York.', 'role': 'assistant'}, mime_type=None, metadata={'finish_reason': 'stop'}), ExecuteResult(output_type='execute_result', execution_count=0, data={'content': '1. Theodore Roosevelt - 26th President of the United States\\n2. Franklin D. Roosevelt - 32nd President of the United States\\n3. Donald Trump - 45th President of the United States\\n4. Michael Bloomberg - Former Mayor of New York City\\n5. Rudy Giuliani - Former Mayor of New York City\\n6. Alexander Hamilton - Founding Father of the United States\\n7. Eliot Spitzer - Former Governor of New York\\n8. Chuck Schumer - U.S. Senator from New York\\n9. Kirsten Gillibrand - U.S. Senator from New York\\n10. Bill de Blasio - Former Mayor of New York City\\n11. Andrew Cuomo - Former Governor of New York\\n12. Eric Schneiderman - Former Attorney General of New York\\n13. Letitia James - Attorney General of New York\\n14. David Dinkins - Former Mayor of New York City\\n15. Adam Clayton Powell Jr. - Former U.S. Representative from New York.', 'role': 'assistant'}, mime_type=None, metadata={'finish_reason': 'stop'})]),\n",
              "  Prompt(name='verification', input='{{verification_question}}', metadata=PromptMetadata(model=ModelMetadata(name='gpt-4', settings={'system_prompt': '{{entity}}'}), tags=None, parameters={'entity': 'George Pataki'}, remember_chat_context=False), outputs=[ExecuteResult(output_type='execute_result', execution_count=0, data={'content': 'Adam Clayton Powell Jr. was born in New Haven, Connecticut, United States.', 'role': 'assistant'}, mime_type=None, metadata={'finish_reason': 'stop'}), ExecuteResult(output_type='execute_result', execution_count=0, data={'content': 'Al Sharpton was born in Brooklyn, New York, United States.', 'role': 'assistant'}, mime_type=None, metadata={'finish_reason': 'stop'}), ExecuteResult(output_type='execute_result', execution_count=0, data={'content': 'Theodore Roosevelt was born in New York City, New York, United States.', 'role': 'assistant'}, mime_type=None, metadata={'finish_reason': 'stop'}), ExecuteResult(output_type='execute_result', execution_count=0, data={'content': 'Franklin D. Roosevelt was born in Hyde Park, New York, United States.', 'role': 'assistant'}, mime_type=None, metadata={'finish_reason': 'stop'}), ExecuteResult(output_type='execute_result', execution_count=0, data={'content': 'Donald Trump was born in Queens, New York, United States.', 'role': 'assistant'}, mime_type=None, metadata={'finish_reason': 'stop'}), ExecuteResult(output_type='execute_result', execution_count=0, data={'content': 'Michael Bloomberg was born in Boston, Massachusetts, United States.', 'role': 'assistant'}, mime_type=None, metadata={'finish_reason': 'stop'}), ExecuteResult(output_type='execute_result', execution_count=0, data={'content': 'Rudy Giuliani was born in Brooklyn, New York, United States.', 'role': 'assistant'}, mime_type=None, metadata={'finish_reason': 'stop'}), ExecuteResult(output_type='execute_result', execution_count=0, data={'content': 'Alexander Hamilton was born in Charlestown, Nevis, in the British West Indies.', 'role': 'assistant'}, mime_type=None, metadata={'finish_reason': 'stop'}), ExecuteResult(output_type='execute_result', execution_count=0, data={'content': 'Eliot Spitzer was born in The Bronx, New York, United States.', 'role': 'assistant'}, mime_type=None, metadata={'finish_reason': 'stop'}), ExecuteResult(output_type='execute_result', execution_count=0, data={'content': 'Chuck Schumer was born in Brooklyn, New York, United States.', 'role': 'assistant'}, mime_type=None, metadata={'finish_reason': 'stop'}), ExecuteResult(output_type='execute_result', execution_count=0, data={'content': 'Kirsten Gillibrand was born in Albany, New York, United States.', 'role': 'assistant'}, mime_type=None, metadata={'finish_reason': 'stop'}), ExecuteResult(output_type='execute_result', execution_count=0, data={'content': 'Bill de Blasio was born in Manhattan, New York, United States.', 'role': 'assistant'}, mime_type=None, metadata={'finish_reason': 'stop'}), ExecuteResult(output_type='execute_result', execution_count=0, data={'content': 'Andrew Cuomo was born in Queens, New York, United States.', 'role': 'assistant'}, mime_type=None, metadata={'finish_reason': 'stop'}), ExecuteResult(output_type='execute_result', execution_count=0, data={'content': 'Eric Schneiderman was born in New York City, New York, United States.', 'role': 'assistant'}, mime_type=None, metadata={'finish_reason': 'stop'}), ExecuteResult(output_type='execute_result', execution_count=0, data={'content': 'Letitia James was born in Brooklyn, New York, United States.', 'role': 'assistant'}, mime_type=None, metadata={'finish_reason': 'stop'}), ExecuteResult(output_type='execute_result', execution_count=0, data={'content': 'David Dinkins was born in Trenton, New Jersey, United States.', 'role': 'assistant'}, mime_type=None, metadata={'finish_reason': 'stop'}), ExecuteResult(output_type='execute_result', execution_count=0, data={'content': 'Adam Clayton Powell Jr. was born in New Haven, Connecticut, United States.', 'role': 'assistant'}, mime_type=None, metadata={'finish_reason': 'stop'})]),\n",
              "  Prompt(name='final_response_gen', input='Cross-check the provided list of verification data with the original baseline response that is supposed to accurately answer the baseline prompt. \\n\\nBaseline prompt: {{baseline_prompt}} \\nBaseline response: {{baseline_response_gen.output}}\\nVerification data: {{verification_results}}', metadata=PromptMetadata(model=ModelMetadata(name='gpt-4', settings={'system_prompt': 'For each entity from the baseline response, verify that the entity met the criteria asked for in the baseline prompt based on the verification data. \\n\\nOutput Format: \\n\\n### Revised Response \\nThis is the revised response after running chain-of-verification. \\n(Please output the revised response after the cross-check.)\\n\\n### Failed Entities \\nThese are the entities that failed the cross-check and are no longer included in revised response. \\n(List the entities that failed the cross-check with a concise reason why)'}), tags=None, parameters={'verification_results': 'Theodore Roosevelt was born in New York City, New York on October 27, 1858. Franklin D. Roosevelt was born in Hyde Park, New York on January 30, 1882. Alexander Hamilton was born in Charlestown, Nevis on January 11, 1755. John Jay was born in New York City, New York on December 12, 1745. DeWitt Clinton was born in Little Britain, New York on March 2, 1769. William H. Seward was born in Florida, New York on May 16, 1801. Charles Evans Hughes was born in Glens Falls, New York on April 11, 1862. Nelson Rockefeller was born in Bar Harbor, Maine on July 8, 1908. Robert F. Wagner Jr. was born in Manhattan, New York on April 20, 1910. Bella Abzug was born in New York City, New York on July 24, 1920. Shirley Chisholm was born in Brooklyn, New York on November 30, 1924. Geraldine Ferraro was born in Newburgh, New York on August 26, 1935. Eliot Spitzer was born in The Bronx, New York on June 10, 1959. Michael Bloomberg was born in Boston, Massachusetts on February 14, 1942. Andrew Cuomo was born in New York City, New York on December 6, 1957. Bill de Blasio was born in Manhattan, New York on May 8, 1961. Charles Rangel was born in Harlem, New York City on June 11, 1930. Daniel Patrick Moynihan was born in Tulsa, Oklahoma on March 16, 1927. Jacob Javits was born in New York City, New York on May 18, 1904. Al Smith was born in New York City, New York on December 30, 1873. Rudy Giuliani was born in Brooklyn, New York on May 28, 1944. George Pataki was born in Peekskill, New York on June 24, 1945. Kirsten Gillibrand was born in Albany, New York on December 9, 1966. Chuck Schumer was born in Brooklyn, New York on November 23, 1950. Alexandria Ocasio-Cortez was born in The Bronx, New York City, New York on October 13, 1989.'}, remember_chat_context=False), outputs=[ExecuteResult(output_type='execute_result', execution_count=0, data={'content': '### Revised Response \\n1. Theodore Roosevelt - 26th President of the United States\\n2. Donald Trump - 45th President of the United States\\n3. Rudy Giuliani - Former Mayor of New York City\\n4. Eliot Spitzer - Former Governor of New York\\n5. Chuck Schumer - U.S. Senator from New York\\n6. Bill de Blasio - Former Mayor of New York City\\n7. Andrew Cuomo - Former Governor of New York\\n8. Eric Schneiderman - Former Attorney General of New York\\n9. Letitia James - Attorney General of New York\\n\\n### Failed Entities \\n1. Franklin D. Roosevelt - He was born in Hyde Park, New York, not New York City.\\n2. Michael Bloomberg - He was born in Boston, Massachusetts, not New York City.\\n3. Alexander Hamilton - He was born in Charlestown, Nevis, in the British West Indies, not New York City.\\n4. Kirsten Gillibrand - She was born in Albany, New York, not New York City.\\n5. David Dinkins - He was born in Trenton, New Jersey, not New York City.\\n6. Adam Clayton Powell Jr. - He was born in New Haven, Connecticut, not New York City.', 'role': 'assistant'}, mime_type=None, metadata={'finish_reason': 'stop'}), ExecuteResult(output_type='execute_result', execution_count=0, data={'content': '### Revised Response \\n1. Theodore Roosevelt - 26th President of the United States\\n2. Donald Trump - 45th President of the United States\\n3. Rudy Giuliani - Former Mayor of New York City\\n4. Eliot Spitzer - Former Governor of New York\\n5. Chuck Schumer - U.S. Senator from New York\\n6. Bill de Blasio - Former Mayor of New York City\\n7. Andrew Cuomo - Former Governor of New York\\n8. Eric Schneiderman - Former Attorney General of New York\\n9. Letitia James - Attorney General of New York\\n\\n### Failed Entities \\n1. Franklin D. Roosevelt - He was born in Hyde Park, New York, not New York City.\\n2. Michael Bloomberg - He was born in Boston, Massachusetts, not New York City.\\n3. Alexander Hamilton - He was born in Charlestown, Nevis, in the British West Indies, not New York City.\\n4. Kirsten Gillibrand - She was born in Albany, New York, not New York City.\\n5. David Dinkins - He was born in Trenton, New Jersey, not New York City.\\n6. Adam Clayton Powell Jr. - He was born in New Haven, Connecticut, not New York City.', 'role': 'assistant'}, mime_type=None, metadata={'finish_reason': 'stop'})])],\n",
              " 'prompt_index': {'baseline_response_gen': Prompt(name='baseline_response_gen', input='{{baseline_prompt}}', metadata=PromptMetadata(model=ModelMetadata(name='gpt-4', settings={'system_prompt': ''}), tags=None, parameters={}, remember_chat_context=False), outputs=[ExecuteResult(output_type='execute_result', execution_count=0, data={'content': '1. Theodore Roosevelt - 26th President of the United States\\n2. Franklin D. Roosevelt - 32nd President of the United States\\n3. Donald Trump - 45th President of the United States\\n4. Michael Bloomberg - Former Mayor of New York City\\n5. Rudy Giuliani - Former Mayor of New York City\\n6. Alexander Hamilton - Founding Father of the United States\\n7. Eliot Spitzer - Former Governor of New York\\n8. Chuck Schumer - U.S. Senator from New York\\n9. Kirsten Gillibrand - U.S. Senator from New York\\n10. Bill de Blasio - Former Mayor of New York City\\n11. Andrew Cuomo - Former Governor of New York\\n12. Eric Schneiderman - Former Attorney General of New York\\n13. Letitia James - Attorney General of New York\\n14. David Dinkins - Former Mayor of New York City\\n15. Adam Clayton Powell Jr. - Former U.S. Representative from New York.', 'role': 'assistant'}, mime_type=None, metadata={'finish_reason': 'stop'}), ExecuteResult(output_type='execute_result', execution_count=0, data={'content': '1. Theodore Roosevelt - 26th President of the United States\\n2. Franklin D. Roosevelt - 32nd President of the United States\\n3. Donald Trump - 45th President of the United States\\n4. Michael Bloomberg - Former Mayor of New York City\\n5. Rudy Giuliani - Former Mayor of New York City\\n6. Alexander Hamilton - Founding Father of the United States\\n7. Eliot Spitzer - Former Governor of New York\\n8. Chuck Schumer - U.S. Senator from New York\\n9. Kirsten Gillibrand - U.S. Senator from New York\\n10. Bill de Blasio - Former Mayor of New York City\\n11. Andrew Cuomo - Former Governor of New York\\n12. Eric Schneiderman - Former Attorney General of New York\\n13. Letitia James - Attorney General of New York\\n14. David Dinkins - Former Mayor of New York City\\n15. Adam Clayton Powell Jr. - Former U.S. Representative from New York.', 'role': 'assistant'}, mime_type=None, metadata={'finish_reason': 'stop'})]),\n",
              "  'verification': Prompt(name='verification', input='{{verification_question}}', metadata=PromptMetadata(model=ModelMetadata(name='gpt-4', settings={'system_prompt': '{{entity}}'}), tags=None, parameters={'entity': 'George Pataki'}, remember_chat_context=False), outputs=[ExecuteResult(output_type='execute_result', execution_count=0, data={'content': 'Adam Clayton Powell Jr. was born in New Haven, Connecticut, United States.', 'role': 'assistant'}, mime_type=None, metadata={'finish_reason': 'stop'}), ExecuteResult(output_type='execute_result', execution_count=0, data={'content': 'Al Sharpton was born in Brooklyn, New York, United States.', 'role': 'assistant'}, mime_type=None, metadata={'finish_reason': 'stop'}), ExecuteResult(output_type='execute_result', execution_count=0, data={'content': 'Theodore Roosevelt was born in New York City, New York, United States.', 'role': 'assistant'}, mime_type=None, metadata={'finish_reason': 'stop'}), ExecuteResult(output_type='execute_result', execution_count=0, data={'content': 'Franklin D. Roosevelt was born in Hyde Park, New York, United States.', 'role': 'assistant'}, mime_type=None, metadata={'finish_reason': 'stop'}), ExecuteResult(output_type='execute_result', execution_count=0, data={'content': 'Donald Trump was born in Queens, New York, United States.', 'role': 'assistant'}, mime_type=None, metadata={'finish_reason': 'stop'}), ExecuteResult(output_type='execute_result', execution_count=0, data={'content': 'Michael Bloomberg was born in Boston, Massachusetts, United States.', 'role': 'assistant'}, mime_type=None, metadata={'finish_reason': 'stop'}), ExecuteResult(output_type='execute_result', execution_count=0, data={'content': 'Rudy Giuliani was born in Brooklyn, New York, United States.', 'role': 'assistant'}, mime_type=None, metadata={'finish_reason': 'stop'}), ExecuteResult(output_type='execute_result', execution_count=0, data={'content': 'Alexander Hamilton was born in Charlestown, Nevis, in the British West Indies.', 'role': 'assistant'}, mime_type=None, metadata={'finish_reason': 'stop'}), ExecuteResult(output_type='execute_result', execution_count=0, data={'content': 'Eliot Spitzer was born in The Bronx, New York, United States.', 'role': 'assistant'}, mime_type=None, metadata={'finish_reason': 'stop'}), ExecuteResult(output_type='execute_result', execution_count=0, data={'content': 'Chuck Schumer was born in Brooklyn, New York, United States.', 'role': 'assistant'}, mime_type=None, metadata={'finish_reason': 'stop'}), ExecuteResult(output_type='execute_result', execution_count=0, data={'content': 'Kirsten Gillibrand was born in Albany, New York, United States.', 'role': 'assistant'}, mime_type=None, metadata={'finish_reason': 'stop'}), ExecuteResult(output_type='execute_result', execution_count=0, data={'content': 'Bill de Blasio was born in Manhattan, New York, United States.', 'role': 'assistant'}, mime_type=None, metadata={'finish_reason': 'stop'}), ExecuteResult(output_type='execute_result', execution_count=0, data={'content': 'Andrew Cuomo was born in Queens, New York, United States.', 'role': 'assistant'}, mime_type=None, metadata={'finish_reason': 'stop'}), ExecuteResult(output_type='execute_result', execution_count=0, data={'content': 'Eric Schneiderman was born in New York City, New York, United States.', 'role': 'assistant'}, mime_type=None, metadata={'finish_reason': 'stop'}), ExecuteResult(output_type='execute_result', execution_count=0, data={'content': 'Letitia James was born in Brooklyn, New York, United States.', 'role': 'assistant'}, mime_type=None, metadata={'finish_reason': 'stop'}), ExecuteResult(output_type='execute_result', execution_count=0, data={'content': 'David Dinkins was born in Trenton, New Jersey, United States.', 'role': 'assistant'}, mime_type=None, metadata={'finish_reason': 'stop'}), ExecuteResult(output_type='execute_result', execution_count=0, data={'content': 'Adam Clayton Powell Jr. was born in New Haven, Connecticut, United States.', 'role': 'assistant'}, mime_type=None, metadata={'finish_reason': 'stop'})]),\n",
              "  'final_response_gen': Prompt(name='final_response_gen', input='Cross-check the provided list of verification data with the original baseline response that is supposed to accurately answer the baseline prompt. \\n\\nBaseline prompt: {{baseline_prompt}} \\nBaseline response: {{baseline_response_gen.output}}\\nVerification data: {{verification_results}}', metadata=PromptMetadata(model=ModelMetadata(name='gpt-4', settings={'system_prompt': 'For each entity from the baseline response, verify that the entity met the criteria asked for in the baseline prompt based on the verification data. \\n\\nOutput Format: \\n\\n### Revised Response \\nThis is the revised response after running chain-of-verification. \\n(Please output the revised response after the cross-check.)\\n\\n### Failed Entities \\nThese are the entities that failed the cross-check and are no longer included in revised response. \\n(List the entities that failed the cross-check with a concise reason why)'}), tags=None, parameters={'verification_results': 'Theodore Roosevelt was born in New York City, New York on October 27, 1858. Franklin D. Roosevelt was born in Hyde Park, New York on January 30, 1882. Alexander Hamilton was born in Charlestown, Nevis on January 11, 1755. John Jay was born in New York City, New York on December 12, 1745. DeWitt Clinton was born in Little Britain, New York on March 2, 1769. William H. Seward was born in Florida, New York on May 16, 1801. Charles Evans Hughes was born in Glens Falls, New York on April 11, 1862. Nelson Rockefeller was born in Bar Harbor, Maine on July 8, 1908. Robert F. Wagner Jr. was born in Manhattan, New York on April 20, 1910. Bella Abzug was born in New York City, New York on July 24, 1920. Shirley Chisholm was born in Brooklyn, New York on November 30, 1924. Geraldine Ferraro was born in Newburgh, New York on August 26, 1935. Eliot Spitzer was born in The Bronx, New York on June 10, 1959. Michael Bloomberg was born in Boston, Massachusetts on February 14, 1942. Andrew Cuomo was born in New York City, New York on December 6, 1957. Bill de Blasio was born in Manhattan, New York on May 8, 1961. Charles Rangel was born in Harlem, New York City on June 11, 1930. Daniel Patrick Moynihan was born in Tulsa, Oklahoma on March 16, 1927. Jacob Javits was born in New York City, New York on May 18, 1904. Al Smith was born in New York City, New York on December 30, 1873. Rudy Giuliani was born in Brooklyn, New York on May 28, 1944. George Pataki was born in Peekskill, New York on June 24, 1945. Kirsten Gillibrand was born in Albany, New York on December 9, 1966. Chuck Schumer was born in Brooklyn, New York on November 23, 1950. Alexandria Ocasio-Cortez was born in The Bronx, New York City, New York on October 13, 1989.'}, remember_chat_context=False), outputs=[ExecuteResult(output_type='execute_result', execution_count=0, data={'content': '### Revised Response \\n1. Theodore Roosevelt - 26th President of the United States\\n2. Donald Trump - 45th President of the United States\\n3. Rudy Giuliani - Former Mayor of New York City\\n4. Eliot Spitzer - Former Governor of New York\\n5. Chuck Schumer - U.S. Senator from New York\\n6. Bill de Blasio - Former Mayor of New York City\\n7. Andrew Cuomo - Former Governor of New York\\n8. Eric Schneiderman - Former Attorney General of New York\\n9. Letitia James - Attorney General of New York\\n\\n### Failed Entities \\n1. Franklin D. Roosevelt - He was born in Hyde Park, New York, not New York City.\\n2. Michael Bloomberg - He was born in Boston, Massachusetts, not New York City.\\n3. Alexander Hamilton - He was born in Charlestown, Nevis, in the British West Indies, not New York City.\\n4. Kirsten Gillibrand - She was born in Albany, New York, not New York City.\\n5. David Dinkins - He was born in Trenton, New Jersey, not New York City.\\n6. Adam Clayton Powell Jr. - He was born in New Haven, Connecticut, not New York City.', 'role': 'assistant'}, mime_type=None, metadata={'finish_reason': 'stop'}), ExecuteResult(output_type='execute_result', execution_count=0, data={'content': '### Revised Response \\n1. Theodore Roosevelt - 26th President of the United States\\n2. Donald Trump - 45th President of the United States\\n3. Rudy Giuliani - Former Mayor of New York City\\n4. Eliot Spitzer - Former Governor of New York\\n5. Chuck Schumer - U.S. Senator from New York\\n6. Bill de Blasio - Former Mayor of New York City\\n7. Andrew Cuomo - Former Governor of New York\\n8. Eric Schneiderman - Former Attorney General of New York\\n9. Letitia James - Attorney General of New York\\n\\n### Failed Entities \\n1. Franklin D. Roosevelt - He was born in Hyde Park, New York, not New York City.\\n2. Michael Bloomberg - He was born in Boston, Massachusetts, not New York City.\\n3. Alexander Hamilton - He was born in Charlestown, Nevis, in the British West Indies, not New York City.\\n4. Kirsten Gillibrand - She was born in Albany, New York, not New York City.\\n5. David Dinkins - He was born in Trenton, New Jersey, not New York City.\\n6. Adam Clayton Powell Jr. - He was born in New Haven, Connecticut, not New York City.', 'role': 'assistant'}, mime_type=None, metadata={'finish_reason': 'stop'})])}}"
            ]
          },
          "execution_count": 8,
          "metadata": {},
          "output_type": "execute_result"
        }
      ],
      "source": [
        "config.__dict__"
      ]
    },
    {
      "cell_type": "code",
      "execution_count": 9,
      "metadata": {},
      "outputs": [
        {
          "data": {
            "text/plain": [
              "17"
            ]
          },
          "execution_count": 9,
          "metadata": {},
          "output_type": "execute_result"
        }
      ],
      "source": [
        "len(config.prompts[1].outputs)"
      ]
    },
    {
      "cell_type": "code",
      "execution_count": 11,
      "metadata": {},
      "outputs": [
        {
          "data": {
            "text/plain": [
              "AIConfigRuntime(name='Chain-of-Verification (CoVe)  Template', schema_version='latest', metadata=ConfigMetadata(parameters={'baseline_prompt': 'Name 15 politicians who were born in New York City, New York.', 'verification_question': 'Where was {{entity}} born?'}, models={'gpt-4': {'model': 'gpt-4', 'top_p': 1, 'temperature': 0, 'presence_penalty': 0, 'frequency_penalty': 0}}, default_model=None, model_parsers=None), description='', prompts=[Prompt(name='baseline_response_gen', input='{{baseline_prompt}}', metadata=PromptMetadata(model=ModelMetadata(name='gpt-4', settings={'system_prompt': ''}), tags=None, parameters={}, remember_chat_context=False), outputs=[ExecuteResult(output_type='execute_result', execution_count=0, data={'content': '1. Theodore Roosevelt - 26th President of the United States\\n2. Franklin D. Roosevelt - 32nd President of the United States\\n3. Donald Trump - 45th President of the United States\\n4. Michael Bloomberg - Former Mayor of New York City\\n5. Rudy Giuliani - Former Mayor of New York City\\n6. Alexander Hamilton - Founding Father of the United States\\n7. Eliot Spitzer - Former Governor of New York\\n8. Chuck Schumer - U.S. Senator from New York\\n9. Kirsten Gillibrand - U.S. Senator from New York\\n10. Bill de Blasio - Former Mayor of New York City\\n11. Andrew Cuomo - Former Governor of New York\\n12. Eric Schneiderman - Former Attorney General of New York\\n13. Letitia James - Attorney General of New York\\n14. David Dinkins - Former Mayor of New York City\\n15. Adam Clayton Powell Jr. - Former U.S. Representative from New York.', 'role': 'assistant'}, mime_type=None, metadata={'finish_reason': 'stop'}), ExecuteResult(output_type='execute_result', execution_count=0, data={'content': '1. Theodore Roosevelt - 26th President of the United States\\n2. Franklin D. Roosevelt - 32nd President of the United States\\n3. Donald Trump - 45th President of the United States\\n4. Michael Bloomberg - Former Mayor of New York City\\n5. Rudy Giuliani - Former Mayor of New York City\\n6. Alexander Hamilton - Founding Father of the United States\\n7. Eliot Spitzer - Former Governor of New York\\n8. Chuck Schumer - U.S. Senator from New York\\n9. Kirsten Gillibrand - U.S. Senator from New York\\n10. Bill de Blasio - Former Mayor of New York City\\n11. Andrew Cuomo - Former Governor of New York\\n12. Eric Schneiderman - Former Attorney General of New York\\n13. Letitia James - Attorney General of New York\\n14. David Dinkins - Former Mayor of New York City\\n15. Adam Clayton Powell Jr. - Former U.S. Representative from New York.', 'role': 'assistant'}, mime_type=None, metadata={'finish_reason': 'stop'})]), Prompt(name='verification', input='{{verification_question}}', metadata=PromptMetadata(model=ModelMetadata(name='gpt-4', settings={'system_prompt': '{{entity}}'}), tags=None, parameters={'entity': 'George Pataki'}, remember_chat_context=False), outputs=[ExecuteResult(output_type='execute_result', execution_count=0, data={'content': 'Adam Clayton Powell Jr. was born in New Haven, Connecticut, United States.', 'role': 'assistant'}, mime_type=None, metadata={'finish_reason': 'stop'}), ExecuteResult(output_type='execute_result', execution_count=0, data={'content': 'Al Sharpton was born in Brooklyn, New York, United States.', 'role': 'assistant'}, mime_type=None, metadata={'finish_reason': 'stop'}), ExecuteResult(output_type='execute_result', execution_count=0, data={'content': 'Theodore Roosevelt was born in New York City, New York, United States.', 'role': 'assistant'}, mime_type=None, metadata={'finish_reason': 'stop'}), ExecuteResult(output_type='execute_result', execution_count=0, data={'content': 'Franklin D. Roosevelt was born in Hyde Park, New York, United States.', 'role': 'assistant'}, mime_type=None, metadata={'finish_reason': 'stop'}), ExecuteResult(output_type='execute_result', execution_count=0, data={'content': 'Donald Trump was born in Queens, New York, United States.', 'role': 'assistant'}, mime_type=None, metadata={'finish_reason': 'stop'}), ExecuteResult(output_type='execute_result', execution_count=0, data={'content': 'Michael Bloomberg was born in Boston, Massachusetts, United States.', 'role': 'assistant'}, mime_type=None, metadata={'finish_reason': 'stop'}), ExecuteResult(output_type='execute_result', execution_count=0, data={'content': 'Rudy Giuliani was born in Brooklyn, New York, United States.', 'role': 'assistant'}, mime_type=None, metadata={'finish_reason': 'stop'}), ExecuteResult(output_type='execute_result', execution_count=0, data={'content': 'Alexander Hamilton was born in Charlestown, Nevis, in the British West Indies.', 'role': 'assistant'}, mime_type=None, metadata={'finish_reason': 'stop'}), ExecuteResult(output_type='execute_result', execution_count=0, data={'content': 'Eliot Spitzer was born in The Bronx, New York, United States.', 'role': 'assistant'}, mime_type=None, metadata={'finish_reason': 'stop'}), ExecuteResult(output_type='execute_result', execution_count=0, data={'content': 'Chuck Schumer was born in Brooklyn, New York, United States.', 'role': 'assistant'}, mime_type=None, metadata={'finish_reason': 'stop'}), ExecuteResult(output_type='execute_result', execution_count=0, data={'content': 'Kirsten Gillibrand was born in Albany, New York, United States.', 'role': 'assistant'}, mime_type=None, metadata={'finish_reason': 'stop'}), ExecuteResult(output_type='execute_result', execution_count=0, data={'content': 'Bill de Blasio was born in Manhattan, New York, United States.', 'role': 'assistant'}, mime_type=None, metadata={'finish_reason': 'stop'}), ExecuteResult(output_type='execute_result', execution_count=0, data={'content': 'Andrew Cuomo was born in Queens, New York, United States.', 'role': 'assistant'}, mime_type=None, metadata={'finish_reason': 'stop'}), ExecuteResult(output_type='execute_result', execution_count=0, data={'content': 'Eric Schneiderman was born in New York City, New York, United States.', 'role': 'assistant'}, mime_type=None, metadata={'finish_reason': 'stop'}), ExecuteResult(output_type='execute_result', execution_count=0, data={'content': 'Letitia James was born in Brooklyn, New York, United States.', 'role': 'assistant'}, mime_type=None, metadata={'finish_reason': 'stop'}), ExecuteResult(output_type='execute_result', execution_count=0, data={'content': 'David Dinkins was born in Trenton, New Jersey, United States.', 'role': 'assistant'}, mime_type=None, metadata={'finish_reason': 'stop'}), ExecuteResult(output_type='execute_result', execution_count=0, data={'content': 'Adam Clayton Powell Jr. was born in New Haven, Connecticut, United States.', 'role': 'assistant'}, mime_type=None, metadata={'finish_reason': 'stop'})]), Prompt(name='final_response_gen', input='Cross-check the provided list of verification data with the original baseline response that is supposed to accurately answer the baseline prompt. \\n\\nBaseline prompt: {{baseline_prompt}} \\nBaseline response: {{baseline_response_gen.output}}\\nVerification data: {{verification_results}}', metadata=PromptMetadata(model=ModelMetadata(name='gpt-4', settings={'system_prompt': 'For each entity from the baseline response, verify that the entity met the criteria asked for in the baseline prompt based on the verification data. \\n\\nOutput Format: \\n\\n### Revised Response \\nThis is the revised response after running chain-of-verification. \\n(Please output the revised response after the cross-check.)\\n\\n### Failed Entities \\nThese are the entities that failed the cross-check and are no longer included in revised response. \\n(List the entities that failed the cross-check with a concise reason why)'}), tags=None, parameters={'verification_results': 'Theodore Roosevelt was born in New York City, New York on October 27, 1858. Franklin D. Roosevelt was born in Hyde Park, New York on January 30, 1882. Alexander Hamilton was born in Charlestown, Nevis on January 11, 1755. John Jay was born in New York City, New York on December 12, 1745. DeWitt Clinton was born in Little Britain, New York on March 2, 1769. William H. Seward was born in Florida, New York on May 16, 1801. Charles Evans Hughes was born in Glens Falls, New York on April 11, 1862. Nelson Rockefeller was born in Bar Harbor, Maine on July 8, 1908. Robert F. Wagner Jr. was born in Manhattan, New York on April 20, 1910. Bella Abzug was born in New York City, New York on July 24, 1920. Shirley Chisholm was born in Brooklyn, New York on November 30, 1924. Geraldine Ferraro was born in Newburgh, New York on August 26, 1935. Eliot Spitzer was born in The Bronx, New York on June 10, 1959. Michael Bloomberg was born in Boston, Massachusetts on February 14, 1942. Andrew Cuomo was born in New York City, New York on December 6, 1957. Bill de Blasio was born in Manhattan, New York on May 8, 1961. Charles Rangel was born in Harlem, New York City on June 11, 1930. Daniel Patrick Moynihan was born in Tulsa, Oklahoma on March 16, 1927. Jacob Javits was born in New York City, New York on May 18, 1904. Al Smith was born in New York City, New York on December 30, 1873. Rudy Giuliani was born in Brooklyn, New York on May 28, 1944. George Pataki was born in Peekskill, New York on June 24, 1945. Kirsten Gillibrand was born in Albany, New York on December 9, 1966. Chuck Schumer was born in Brooklyn, New York on November 23, 1950. Alexandria Ocasio-Cortez was born in The Bronx, New York City, New York on October 13, 1989.'}, remember_chat_context=False), outputs=[ExecuteResult(output_type='execute_result', execution_count=0, data={'content': '### Revised Response \\n1. Theodore Roosevelt - 26th President of the United States\\n2. Donald Trump - 45th President of the United States\\n3. Rudy Giuliani - Former Mayor of New York City\\n4. Eliot Spitzer - Former Governor of New York\\n5. Chuck Schumer - U.S. Senator from New York\\n6. Bill de Blasio - Former Mayor of New York City\\n7. Andrew Cuomo - Former Governor of New York\\n8. Eric Schneiderman - Former Attorney General of New York\\n9. Letitia James - Attorney General of New York\\n\\n### Failed Entities \\n1. Franklin D. Roosevelt - He was born in Hyde Park, New York, not New York City.\\n2. Michael Bloomberg - He was born in Boston, Massachusetts, not New York City.\\n3. Alexander Hamilton - He was born in Charlestown, Nevis, in the British West Indies, not New York City.\\n4. Kirsten Gillibrand - She was born in Albany, New York, not New York City.\\n5. David Dinkins - He was born in Trenton, New Jersey, not New York City.\\n6. Adam Clayton Powell Jr. - He was born in New Haven, Connecticut, not New York City.', 'role': 'assistant'}, mime_type=None, metadata={'finish_reason': 'stop'}), ExecuteResult(output_type='execute_result', execution_count=0, data={'content': '### Revised Response \\n1. Theodore Roosevelt - 26th President of the United States\\n2. Donald Trump - 45th President of the United States\\n3. Rudy Giuliani - Former Mayor of New York City\\n4. Eliot Spitzer - Former Governor of New York\\n5. Chuck Schumer - U.S. Senator from New York\\n6. Bill de Blasio - Former Mayor of New York City\\n7. Andrew Cuomo - Former Governor of New York\\n8. Eric Schneiderman - Former Attorney General of New York\\n9. Letitia James - Attorney General of New York\\n\\n### Failed Entities \\n1. Franklin D. Roosevelt - He was born in Hyde Park, New York, not New York City.\\n2. Michael Bloomberg - He was born in Boston, Massachusetts, not New York City.\\n3. Alexander Hamilton - He was born in Charlestown, Nevis, in the British West Indies, not New York City.\\n4. Kirsten Gillibrand - She was born in Albany, New York, not New York City.\\n5. David Dinkins - He was born in Trenton, New Jersey, not New York City.\\n6. Adam Clayton Powell Jr. - He was born in New Haven, Connecticut, not New York City.', 'role': 'assistant'}, mime_type=None, metadata={'finish_reason': 'stop'})])], prompt_index={'baseline_response_gen': Prompt(name='baseline_response_gen', input='{{baseline_prompt}}', metadata=PromptMetadata(model=ModelMetadata(name='gpt-4', settings={'system_prompt': ''}), tags=None, parameters={}, remember_chat_context=False), outputs=[ExecuteResult(output_type='execute_result', execution_count=0, data={'content': '1. Theodore Roosevelt - 26th President of the United States\\n2. Franklin D. Roosevelt - 32nd President of the United States\\n3. Donald Trump - 45th President of the United States\\n4. Michael Bloomberg - Former Mayor of New York City\\n5. Rudy Giuliani - Former Mayor of New York City\\n6. Alexander Hamilton - Founding Father of the United States\\n7. Eliot Spitzer - Former Governor of New York\\n8. Chuck Schumer - U.S. Senator from New York\\n9. Kirsten Gillibrand - U.S. Senator from New York\\n10. Bill de Blasio - Former Mayor of New York City\\n11. Andrew Cuomo - Former Governor of New York\\n12. Eric Schneiderman - Former Attorney General of New York\\n13. Letitia James - Attorney General of New York\\n14. David Dinkins - Former Mayor of New York City\\n15. Adam Clayton Powell Jr. - Former U.S. Representative from New York.', 'role': 'assistant'}, mime_type=None, metadata={'finish_reason': 'stop'}), ExecuteResult(output_type='execute_result', execution_count=0, data={'content': '1. Theodore Roosevelt - 26th President of the United States\\n2. Franklin D. Roosevelt - 32nd President of the United States\\n3. Donald Trump - 45th President of the United States\\n4. Michael Bloomberg - Former Mayor of New York City\\n5. Rudy Giuliani - Former Mayor of New York City\\n6. Alexander Hamilton - Founding Father of the United States\\n7. Eliot Spitzer - Former Governor of New York\\n8. Chuck Schumer - U.S. Senator from New York\\n9. Kirsten Gillibrand - U.S. Senator from New York\\n10. Bill de Blasio - Former Mayor of New York City\\n11. Andrew Cuomo - Former Governor of New York\\n12. Eric Schneiderman - Former Attorney General of New York\\n13. Letitia James - Attorney General of New York\\n14. David Dinkins - Former Mayor of New York City\\n15. Adam Clayton Powell Jr. - Former U.S. Representative from New York.', 'role': 'assistant'}, mime_type=None, metadata={'finish_reason': 'stop'})]), 'verification': Prompt(name='verification', input='{{verification_question}}', metadata=PromptMetadata(model=ModelMetadata(name='gpt-4', settings={'system_prompt': '{{entity}}'}), tags=None, parameters={'entity': 'George Pataki'}, remember_chat_context=False), outputs=[ExecuteResult(output_type='execute_result', execution_count=0, data={'content': 'Adam Clayton Powell Jr. was born in New Haven, Connecticut, United States.', 'role': 'assistant'}, mime_type=None, metadata={'finish_reason': 'stop'}), ExecuteResult(output_type='execute_result', execution_count=0, data={'content': 'Al Sharpton was born in Brooklyn, New York, United States.', 'role': 'assistant'}, mime_type=None, metadata={'finish_reason': 'stop'}), ExecuteResult(output_type='execute_result', execution_count=0, data={'content': 'Theodore Roosevelt was born in New York City, New York, United States.', 'role': 'assistant'}, mime_type=None, metadata={'finish_reason': 'stop'}), ExecuteResult(output_type='execute_result', execution_count=0, data={'content': 'Franklin D. Roosevelt was born in Hyde Park, New York, United States.', 'role': 'assistant'}, mime_type=None, metadata={'finish_reason': 'stop'}), ExecuteResult(output_type='execute_result', execution_count=0, data={'content': 'Donald Trump was born in Queens, New York, United States.', 'role': 'assistant'}, mime_type=None, metadata={'finish_reason': 'stop'}), ExecuteResult(output_type='execute_result', execution_count=0, data={'content': 'Michael Bloomberg was born in Boston, Massachusetts, United States.', 'role': 'assistant'}, mime_type=None, metadata={'finish_reason': 'stop'}), ExecuteResult(output_type='execute_result', execution_count=0, data={'content': 'Rudy Giuliani was born in Brooklyn, New York, United States.', 'role': 'assistant'}, mime_type=None, metadata={'finish_reason': 'stop'}), ExecuteResult(output_type='execute_result', execution_count=0, data={'content': 'Alexander Hamilton was born in Charlestown, Nevis, in the British West Indies.', 'role': 'assistant'}, mime_type=None, metadata={'finish_reason': 'stop'}), ExecuteResult(output_type='execute_result', execution_count=0, data={'content': 'Eliot Spitzer was born in The Bronx, New York, United States.', 'role': 'assistant'}, mime_type=None, metadata={'finish_reason': 'stop'}), ExecuteResult(output_type='execute_result', execution_count=0, data={'content': 'Chuck Schumer was born in Brooklyn, New York, United States.', 'role': 'assistant'}, mime_type=None, metadata={'finish_reason': 'stop'}), ExecuteResult(output_type='execute_result', execution_count=0, data={'content': 'Kirsten Gillibrand was born in Albany, New York, United States.', 'role': 'assistant'}, mime_type=None, metadata={'finish_reason': 'stop'}), ExecuteResult(output_type='execute_result', execution_count=0, data={'content': 'Bill de Blasio was born in Manhattan, New York, United States.', 'role': 'assistant'}, mime_type=None, metadata={'finish_reason': 'stop'}), ExecuteResult(output_type='execute_result', execution_count=0, data={'content': 'Andrew Cuomo was born in Queens, New York, United States.', 'role': 'assistant'}, mime_type=None, metadata={'finish_reason': 'stop'}), ExecuteResult(output_type='execute_result', execution_count=0, data={'content': 'Eric Schneiderman was born in New York City, New York, United States.', 'role': 'assistant'}, mime_type=None, metadata={'finish_reason': 'stop'}), ExecuteResult(output_type='execute_result', execution_count=0, data={'content': 'Letitia James was born in Brooklyn, New York, United States.', 'role': 'assistant'}, mime_type=None, metadata={'finish_reason': 'stop'}), ExecuteResult(output_type='execute_result', execution_count=0, data={'content': 'David Dinkins was born in Trenton, New Jersey, United States.', 'role': 'assistant'}, mime_type=None, metadata={'finish_reason': 'stop'}), ExecuteResult(output_type='execute_result', execution_count=0, data={'content': 'Adam Clayton Powell Jr. was born in New Haven, Connecticut, United States.', 'role': 'assistant'}, mime_type=None, metadata={'finish_reason': 'stop'})]), 'final_response_gen': Prompt(name='final_response_gen', input='Cross-check the provided list of verification data with the original baseline response that is supposed to accurately answer the baseline prompt. \\n\\nBaseline prompt: {{baseline_prompt}} \\nBaseline response: {{baseline_response_gen.output}}\\nVerification data: {{verification_results}}', metadata=PromptMetadata(model=ModelMetadata(name='gpt-4', settings={'system_prompt': 'For each entity from the baseline response, verify that the entity met the criteria asked for in the baseline prompt based on the verification data. \\n\\nOutput Format: \\n\\n### Revised Response \\nThis is the revised response after running chain-of-verification. \\n(Please output the revised response after the cross-check.)\\n\\n### Failed Entities \\nThese are the entities that failed the cross-check and are no longer included in revised response. \\n(List the entities that failed the cross-check with a concise reason why)'}), tags=None, parameters={'verification_results': 'Theodore Roosevelt was born in New York City, New York on October 27, 1858. Franklin D. Roosevelt was born in Hyde Park, New York on January 30, 1882. Alexander Hamilton was born in Charlestown, Nevis on January 11, 1755. John Jay was born in New York City, New York on December 12, 1745. DeWitt Clinton was born in Little Britain, New York on March 2, 1769. William H. Seward was born in Florida, New York on May 16, 1801. Charles Evans Hughes was born in Glens Falls, New York on April 11, 1862. Nelson Rockefeller was born in Bar Harbor, Maine on July 8, 1908. Robert F. Wagner Jr. was born in Manhattan, New York on April 20, 1910. Bella Abzug was born in New York City, New York on July 24, 1920. Shirley Chisholm was born in Brooklyn, New York on November 30, 1924. Geraldine Ferraro was born in Newburgh, New York on August 26, 1935. Eliot Spitzer was born in The Bronx, New York on June 10, 1959. Michael Bloomberg was born in Boston, Massachusetts on February 14, 1942. Andrew Cuomo was born in New York City, New York on December 6, 1957. Bill de Blasio was born in Manhattan, New York on May 8, 1961. Charles Rangel was born in Harlem, New York City on June 11, 1930. Daniel Patrick Moynihan was born in Tulsa, Oklahoma on March 16, 1927. Jacob Javits was born in New York City, New York on May 18, 1904. Al Smith was born in New York City, New York on December 30, 1873. Rudy Giuliani was born in Brooklyn, New York on May 28, 1944. George Pataki was born in Peekskill, New York on June 24, 1945. Kirsten Gillibrand was born in Albany, New York on December 9, 1966. Chuck Schumer was born in Brooklyn, New York on November 23, 1950. Alexandria Ocasio-Cortez was born in The Bronx, New York City, New York on October 13, 1989.'}, remember_chat_context=False), outputs=[ExecuteResult(output_type='execute_result', execution_count=0, data={'content': '### Revised Response \\n1. Theodore Roosevelt - 26th President of the United States\\n2. Donald Trump - 45th President of the United States\\n3. Rudy Giuliani - Former Mayor of New York City\\n4. Eliot Spitzer - Former Governor of New York\\n5. Chuck Schumer - U.S. Senator from New York\\n6. Bill de Blasio - Former Mayor of New York City\\n7. Andrew Cuomo - Former Governor of New York\\n8. Eric Schneiderman - Former Attorney General of New York\\n9. Letitia James - Attorney General of New York\\n\\n### Failed Entities \\n1. Franklin D. Roosevelt - He was born in Hyde Park, New York, not New York City.\\n2. Michael Bloomberg - He was born in Boston, Massachusetts, not New York City.\\n3. Alexander Hamilton - He was born in Charlestown, Nevis, in the British West Indies, not New York City.\\n4. Kirsten Gillibrand - She was born in Albany, New York, not New York City.\\n5. David Dinkins - He was born in Trenton, New Jersey, not New York City.\\n6. Adam Clayton Powell Jr. - He was born in New Haven, Connecticut, not New York City.', 'role': 'assistant'}, mime_type=None, metadata={'finish_reason': 'stop'}), ExecuteResult(output_type='execute_result', execution_count=0, data={'content': '### Revised Response \\n1. Theodore Roosevelt - 26th President of the United States\\n2. Donald Trump - 45th President of the United States\\n3. Rudy Giuliani - Former Mayor of New York City\\n4. Eliot Spitzer - Former Governor of New York\\n5. Chuck Schumer - U.S. Senator from New York\\n6. Bill de Blasio - Former Mayor of New York City\\n7. Andrew Cuomo - Former Governor of New York\\n8. Eric Schneiderman - Former Attorney General of New York\\n9. Letitia James - Attorney General of New York\\n\\n### Failed Entities \\n1. Franklin D. Roosevelt - He was born in Hyde Park, New York, not New York City.\\n2. Michael Bloomberg - He was born in Boston, Massachusetts, not New York City.\\n3. Alexander Hamilton - He was born in Charlestown, Nevis, in the British West Indies, not New York City.\\n4. Kirsten Gillibrand - She was born in Albany, New York, not New York City.\\n5. David Dinkins - He was born in Trenton, New Jersey, not New York City.\\n6. Adam Clayton Powell Jr. - He was born in New Haven, Connecticut, not New York City.', 'role': 'assistant'}, mime_type=None, metadata={'finish_reason': 'stop'})])}, file_path='cove_template_config.json', callback_manager=<aiconfig.callback.CallbackManager object at 0x7fa41428afb0>)"
            ]
          },
          "execution_count": 11,
          "metadata": {},
          "output_type": "execute_result"
        }
      ],
      "source": [
        "config"
      ]
    },
    {
      "cell_type": "code",
      "execution_count": 10,
      "metadata": {},
      "outputs": [],
      "source": [
        "config.save()"
      ]
    },
    {
      "cell_type": "code",
      "execution_count": null,
      "metadata": {},
      "outputs": [],
      "source": []
    }
  ],
  "metadata": {
    "colab": {
      "provenance": []
    },
    "kernelspec": {
      "display_name": "Python 3",
      "name": "python3"
    },
    "language_info": {
      "codemirror_mode": {
        "name": "ipython",
        "version": 3
      },
      "file_extension": ".py",
      "mimetype": "text/x-python",
      "name": "python",
      "nbconvert_exporter": "python",
      "pygments_lexer": "ipython3",
      "version": "3.10.12"
    }
  },
  "nbformat": 4,
  "nbformat_minor": 0
}
