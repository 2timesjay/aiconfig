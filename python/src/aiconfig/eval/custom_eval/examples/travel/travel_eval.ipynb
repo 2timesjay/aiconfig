{
 "cells": [
  {
   "cell_type": "markdown",
   "metadata": {},
   "source": [
    "# Promptfoo-style eval without promptfoo"
   ]
  },
  {
   "cell_type": "markdown",
   "metadata": {},
   "source": [
    "Goal: Run test-suite-style eval (like Promptfoo) with completely custom components, i.e. without using Promptfoo.\n",
    "\n",
    "In this case, you have 2 options:\n",
    "1. Run with inputs. Library runs AIConfig for you first.\n",
    "2. Run with outputs only. You run AIConfig and save the outputs for eval.\n",
    "\n",
    "Run the notebook in order for an example of each.\n",
    "\n",
    "Assumptions:\n",
    "* You have a parametrized AIConfig with a test input called \"the_query\", like this: \n",
    "`\"input\": \"{{the_query}}\"`\n",
    "* You have some evaluation criteria in mind for the AIConfig's text output.\n",
    "* Promptfoo integration does not meet my needs, e.g.\n",
    "  * You want to run the AIConfig myself instead of handing control to Promptfoo\n",
    "  * You need to scale beyond what Promptfoo can reasonably handle"
   ]
  },
  {
   "cell_type": "code",
   "execution_count": 3,
   "metadata": {},
   "outputs": [
    {
     "name": "stdout",
     "output_type": "stream",
     "text": [
      "Imports and set log level\n"
     ]
    },
    {
     "name": "stderr",
     "output_type": "stream",
     "text": [
      "/home/jacobjensen/.pyenv/versions/aiconfig/lib/python3.10/site-packages/pydantic/_internal/_fields.py:128: UserWarning: Field \"model_parsers\" has conflict with protected namespace \"model_\".\n",
      "\n",
      "You may be able to resolve this warning by setting `model_config['protected_namespaces'] = ()`.\n",
      "  warnings.warn(\n",
      "/home/jacobjensen/.pyenv/versions/aiconfig/lib/python3.10/site-packages/tqdm/auto.py:21: TqdmWarning: IProgress not found. Please update jupyter and ipywidgets. See https://ipywidgets.readthedocs.io/en/stable/user_install.html\n",
      "  from .autonotebook import tqdm as notebook_tqdm\n"
     ]
    }
   ],
   "source": [
    "print(\"Imports and set log level\")\n",
    "\n",
    "import logging\n",
    "\n",
    "import pandas as pd\n",
    "import lastmile_utils.lib.jupyter as jupyter_utils\n",
    "\n",
    "pd.set_option(\"display.max_colwidth\", None)\n",
    "\n",
    "from aiconfig.eval.lib import (\n",
    "    brevity,\n",
    "    substring_match,\n",
    "    run_test_suite_with_inputs,\n",
    "    TestSuiteWithInputsSettings,\n",
    ")\n",
    "\n",
    "jupyter_utils.set_log_level(logging.WARNING)\n",
    "\n"
   ]
  },
  {
   "cell_type": "code",
   "execution_count": 4,
   "metadata": {},
   "outputs": [],
   "source": [
    "import openai\n",
    "openai.api_key = open(\"/home/jacobjensen/secrets/openai_api_key.txt\", \"r\").read().strip()"
   ]
  },
  {
   "cell_type": "markdown",
   "metadata": {},
   "source": [
    "## Option 1: provide inputs, library runs AIConfig for you"
   ]
  },
  {
   "cell_type": "code",
   "execution_count": 5,
   "metadata": {},
   "outputs": [
    {
     "name": "stdout",
     "output_type": "stream",
     "text": [
      "\n",
      "    Define test suite with inputs (option 1), \n",
      "      as opposed to using pre-computed AIConfig outputs (option 2)\n",
      "      \n",
      "      Define list of inputs and test criteria.\n",
      "      In this case, we are checking brevity for each test case\n",
      "      as well as checking that each output contains a specific expected substring.\n",
      "\n"
     ]
    }
   ],
   "source": [
    "print(\n",
    "    \"\"\"\n",
    "    Define test suite with inputs (option 1), \n",
    "      as opposed to using pre-computed AIConfig outputs (option 2)\n",
    "      \n",
    "      Define list of inputs and test criteria.\n",
    "      In this case, we are checking brevity for each test case\n",
    "      as well as checking that each output contains a specific expected substring.\n",
    "\"\"\"\n",
    ")\n",
    "\n",
    "\n",
    "ts_settings = TestSuiteWithInputsSettings(\n",
    "    prompt_name=\"gen_itinerary\",\n",
    "    aiconfig_path=\"./travel_parametrized.aiconfig.json\",\n",
    ")\n",
    "\n",
    "# Each of these pairs will be used to construct a test case just below.\n",
    "# For each pair (input, expected_substring) we define a test case that says, \n",
    "# \"When I run this input through this AIConfig, \n",
    "# I expect the output to contain this particular substring\".\n",
    "\n",
    "# For example, when we call `substring_match(substring, case_sensitive=False)` below,\n",
    "# and substring==\"Empire State Building\", we are telling the library to create a \n",
    "# boolean metric (i.e. a pass/fail test case) that passes (value==1.0) if the substring\n",
    "# \"empire state building\" appears in the AIConfig output \n",
    "# when the AIConfig is given the input \"Iconic midtown skyscrapers\".\n",
    "# \"Tell me 3 fun attractions related to {{the_query}} to do in NYC.\"\n",
    "# Each test input will get put into \"the_query\" in the input prompt:\n",
    "# See the aiconfig (python/src/aiconfig/eval/custom_eval/examples/travel/travel_parametrized.aiconfig.json).\n",
    "test_inputs_with_substrings = [\n",
    "    (\"different kinds of cuisines\", \"Magnolia Bakery\"),\n",
    "    (\"iconic midtown skyscrapers\", \"Empire State Building\"),\n",
    "]\n",
    "expected_substrings = []\n",
    "\n",
    "test_suite_with_inputs = []\n",
    "for test_input, substring in test_inputs_with_substrings:\n",
    "    # Add the brevity metric\n",
    "    test_fn1 = brevity\n",
    "    test_suite_with_inputs.append((test_input, test_fn1))\n",
    "    # Add substring check function\n",
    "    test_fn2 = substring_match(substring, case_sensitive=False)\n",
    "    test_suite_with_inputs.append((test_input, test_fn2))"
   ]
  },
  {
   "cell_type": "code",
   "execution_count": 6,
   "metadata": {},
   "outputs": [
    {
     "name": "stdout",
     "output_type": "stream",
     "text": [
      "If you like, you can inspect the test suite before passing it to the evaluation library.\n",
      "\n",
      "Test input:\n",
      " different kinds of cuisines \n",
      "Function:\n",
      " <function brevity at 0x7f94dc1767a0>\n",
      "\n",
      "Test input:\n",
      " different kinds of cuisines \n",
      "Function:\n",
      " functools.partial(<function contains_substring at 0x7f94dc176a70>, substring='Magnolia Bakery', case_sensitive=False)\n",
      "\n",
      "Test input:\n",
      " iconic midtown skyscrapers \n",
      "Function:\n",
      " <function brevity at 0x7f94dc1767a0>\n",
      "\n",
      "Test input:\n",
      " iconic midtown skyscrapers \n",
      "Function:\n",
      " functools.partial(<function contains_substring at 0x7f94dc176a70>, substring='Empire State Building', case_sensitive=False)\n"
     ]
    }
   ],
   "source": [
    "print(\"If you like, you can inspect the test suite before passing it to the evaluation library.\")\n",
    "\n",
    "for test_input, fn in test_suite_with_inputs:\n",
    "    print(\"\\nTest input:\\n\", test_input, \"\\nFunction:\\n\", fn)"
   ]
  },
  {
   "cell_type": "code",
   "execution_count": 7,
   "metadata": {},
   "outputs": [
    {
     "name": "stdout",
     "output_type": "stream",
     "text": [
      "Run the eval interface (option 1, with inputs)\n",
      "Raw output\n"
     ]
    },
    {
     "data": {
      "text/html": [
       "<div>\n",
       "<style scoped>\n",
       "    .dataframe tbody tr th:only-of-type {\n",
       "        vertical-align: middle;\n",
       "    }\n",
       "\n",
       "    .dataframe tbody tr th {\n",
       "        vertical-align: top;\n",
       "    }\n",
       "\n",
       "    .dataframe thead th {\n",
       "        text-align: right;\n",
       "    }\n",
       "</style>\n",
       "<table border=\"1\" class=\"dataframe\">\n",
       "  <thead>\n",
       "    <tr style=\"text-align: right;\">\n",
       "      <th></th>\n",
       "      <th>input</th>\n",
       "      <th>aiconfig_output</th>\n",
       "      <th>value</th>\n",
       "      <th>metric_name</th>\n",
       "      <th>metric_description</th>\n",
       "      <th>best_value</th>\n",
       "      <th>worst_value</th>\n",
       "    </tr>\n",
       "  </thead>\n",
       "  <tbody>\n",
       "    <tr>\n",
       "      <th>0</th>\n",
       "      <td>different kinds of cuisines</td>\n",
       "      <td>1. Chinatown Food Tour: Explore cuisine, learn cultural history.\n",
       "2. Little Italy Pizza Class: Hands-on pizza-making, enjoy your creation. \n",
       "3. Harlem Soul Food Tour: Dive into culture, savor traditional dishes.</td>\n",
       "      <td>209.0</td>\n",
       "      <td>brevity</td>\n",
       "      <td>Absolute text length</td>\n",
       "      <td>1.0</td>\n",
       "      <td>inf</td>\n",
       "    </tr>\n",
       "    <tr>\n",
       "      <th>1</th>\n",
       "      <td>different kinds of cuisines</td>\n",
       "      <td>1. Chinatown Food Tour: Explore cuisine, learn cultural history.\n",
       "2. Little Italy Pizza Class: Hands-on pizza-making, enjoy your creation. \n",
       "3. Harlem Soul Food Tour: Dive into culture, savor traditional dishes.</td>\n",
       "      <td>0.0</td>\n",
       "      <td>contains_substring</td>\n",
       "      <td>1.0 (pass) if contains given substring</td>\n",
       "      <td>1.0</td>\n",
       "      <td>0.0</td>\n",
       "    </tr>\n",
       "    <tr>\n",
       "      <th>2</th>\n",
       "      <td>iconic midtown skyscrapers</td>\n",
       "      <td>1. Admire NYC from Empire State Building's decks.\n",
       "2. Experience Top of the Rock's sky-high vistas.\n",
       "3. Soak in panoramic views at One World Observatory.</td>\n",
       "      <td>151.0</td>\n",
       "      <td>brevity</td>\n",
       "      <td>Absolute text length</td>\n",
       "      <td>1.0</td>\n",
       "      <td>inf</td>\n",
       "    </tr>\n",
       "    <tr>\n",
       "      <th>3</th>\n",
       "      <td>iconic midtown skyscrapers</td>\n",
       "      <td>1. Admire NYC from Empire State Building's decks.\n",
       "2. Experience Top of the Rock's sky-high vistas.\n",
       "3. Soak in panoramic views at One World Observatory.</td>\n",
       "      <td>1.0</td>\n",
       "      <td>contains_substring</td>\n",
       "      <td>1.0 (pass) if contains given substring</td>\n",
       "      <td>1.0</td>\n",
       "      <td>0.0</td>\n",
       "    </tr>\n",
       "  </tbody>\n",
       "</table>\n",
       "</div>"
      ],
      "text/plain": [
       "                         input  \\\n",
       "0  different kinds of cuisines   \n",
       "1  different kinds of cuisines   \n",
       "2   iconic midtown skyscrapers   \n",
       "3   iconic midtown skyscrapers   \n",
       "\n",
       "                                                                                                                                                                                                     aiconfig_output  \\\n",
       "0  1. Chinatown Food Tour: Explore cuisine, learn cultural history.\n",
       "2. Little Italy Pizza Class: Hands-on pizza-making, enjoy your creation. \n",
       "3. Harlem Soul Food Tour: Dive into culture, savor traditional dishes.   \n",
       "1  1. Chinatown Food Tour: Explore cuisine, learn cultural history.\n",
       "2. Little Italy Pizza Class: Hands-on pizza-making, enjoy your creation. \n",
       "3. Harlem Soul Food Tour: Dive into culture, savor traditional dishes.   \n",
       "2                                                            1. Admire NYC from Empire State Building's decks.\n",
       "2. Experience Top of the Rock's sky-high vistas.\n",
       "3. Soak in panoramic views at One World Observatory.   \n",
       "3                                                            1. Admire NYC from Empire State Building's decks.\n",
       "2. Experience Top of the Rock's sky-high vistas.\n",
       "3. Soak in panoramic views at One World Observatory.   \n",
       "\n",
       "   value         metric_name                      metric_description  \\\n",
       "0  209.0             brevity                    Absolute text length   \n",
       "1    0.0  contains_substring  1.0 (pass) if contains given substring   \n",
       "2  151.0             brevity                    Absolute text length   \n",
       "3    1.0  contains_substring  1.0 (pass) if contains given substring   \n",
       "\n",
       "   best_value  worst_value  \n",
       "0         1.0          inf  \n",
       "1         1.0          0.0  \n",
       "2         1.0          inf  \n",
       "3         1.0          0.0  "
      ]
     },
     "execution_count": 7,
     "metadata": {},
     "output_type": "execute_result"
    }
   ],
   "source": [
    "print(\"Run the eval interface (option 1, with inputs)\")\n",
    "\n",
    "df_result = await run_test_suite_with_inputs(\n",
    "    test_suite=test_suite_with_inputs,\n",
    "    settings=ts_settings,\n",
    ")\n",
    "\n",
    "print(\"Raw output\")\n",
    "df_result"
   ]
  },
  {
   "cell_type": "code",
   "execution_count": 8,
   "metadata": {},
   "outputs": [
    {
     "name": "stdout",
     "output_type": "stream",
     "text": [
      "Unstack for nicer manual review\n"
     ]
    },
    {
     "data": {
      "text/html": [
       "<div>\n",
       "<style scoped>\n",
       "    .dataframe tbody tr th:only-of-type {\n",
       "        vertical-align: middle;\n",
       "    }\n",
       "\n",
       "    .dataframe tbody tr th {\n",
       "        vertical-align: top;\n",
       "    }\n",
       "\n",
       "    .dataframe thead th {\n",
       "        text-align: right;\n",
       "    }\n",
       "</style>\n",
       "<table border=\"1\" class=\"dataframe\">\n",
       "  <thead>\n",
       "    <tr style=\"text-align: right;\">\n",
       "      <th></th>\n",
       "      <th>metric_name</th>\n",
       "      <th>brevity</th>\n",
       "      <th>contains_substring</th>\n",
       "    </tr>\n",
       "    <tr>\n",
       "      <th>input</th>\n",
       "      <th>aiconfig_output</th>\n",
       "      <th></th>\n",
       "      <th></th>\n",
       "    </tr>\n",
       "  </thead>\n",
       "  <tbody>\n",
       "    <tr>\n",
       "      <th>different kinds of cuisines</th>\n",
       "      <th>1. Chinatown Food Tour: Explore cuisine, learn cultural history.\\n2. Little Italy Pizza Class: Hands-on pizza-making, enjoy your creation. \\n3. Harlem Soul Food Tour: Dive into culture, savor traditional dishes.</th>\n",
       "      <td>209.0</td>\n",
       "      <td>0.0</td>\n",
       "    </tr>\n",
       "    <tr>\n",
       "      <th>iconic midtown skyscrapers</th>\n",
       "      <th>1. Admire NYC from Empire State Building's decks.\\n2. Experience Top of the Rock's sky-high vistas.\\n3. Soak in panoramic views at One World Observatory.</th>\n",
       "      <td>151.0</td>\n",
       "      <td>1.0</td>\n",
       "    </tr>\n",
       "  </tbody>\n",
       "</table>\n",
       "</div>"
      ],
      "text/plain": [
       "metric_name                                                                                                                                                                                                                                      brevity  \\\n",
       "input                       aiconfig_output                                                                                                                                                                                                                \n",
       "different kinds of cuisines 1. Chinatown Food Tour: Explore cuisine, learn cultural history.\\n2. Little Italy Pizza Class: Hands-on pizza-making, enjoy your creation. \\n3. Harlem Soul Food Tour: Dive into culture, savor traditional dishes.    209.0   \n",
       "iconic midtown skyscrapers  1. Admire NYC from Empire State Building's decks.\\n2. Experience Top of the Rock's sky-high vistas.\\n3. Soak in panoramic views at One World Observatory.                                                              151.0   \n",
       "\n",
       "metric_name                                                                                                                                                                                                                                      contains_substring  \n",
       "input                       aiconfig_output                                                                                                                                                                                                                          \n",
       "different kinds of cuisines 1. Chinatown Food Tour: Explore cuisine, learn cultural history.\\n2. Little Italy Pizza Class: Hands-on pizza-making, enjoy your creation. \\n3. Harlem Soul Food Tour: Dive into culture, savor traditional dishes.                 0.0  \n",
       "iconic midtown skyscrapers  1. Admire NYC from Empire State Building's decks.\\n2. Experience Top of the Rock's sky-high vistas.\\n3. Soak in panoramic views at One World Observatory.                                                                           1.0  "
      ]
     },
     "execution_count": 8,
     "metadata": {},
     "output_type": "execute_result"
    }
   ],
   "source": [
    "print(\"Unstack for nicer manual review\")\n",
    "df_result.set_index([\"input\", \"aiconfig_output\", \"metric_name\"])\\\n",
    "        .value.unstack(\"metric_name\")"
   ]
  },
  {
   "cell_type": "markdown",
   "metadata": {},
   "source": [
    "## Option 2: Run eval on already-computed AIConfig outputs."
   ]
  },
  {
   "cell_type": "code",
   "execution_count": 9,
   "metadata": {},
   "outputs": [
    {
     "name": "stdout",
     "output_type": "stream",
     "text": [
      "Define outputs to test and criteria, similar to option 1.\n"
     ]
    }
   ],
   "source": [
    "print(\"Define outputs to test and criteria, similar to option 1.\")\n",
    "\n",
    "\n",
    "from aiconfig.eval.lib import (\n",
    "    brevity,\n",
    "    substring_match,\n",
    "    run_test_suite_outputs_only,\n",
    ")\n",
    "\n",
    "\n",
    "# This is similar to \"test_inputs_with_substrings\" above, but we have the AIConfig *outputs*\n",
    "# in the test cases, rather than the inputs. The library will evaluate these strings directly\n",
    "# because there is no need to run the AIConfig to generate the outputs.\n",
    "test_outputs_with_substrings = [\n",
    "    (\n",
    "        \"Begin at Chelsea Market for diverse food options. Continue to Queens for immersive food tours. Conclude at Smorgasburg for unique outdoor food market experience\",\n",
    "        \"Magnolia Bakery\"\n",
    "    ),\n",
    "    (\n",
    "        \"1. Empire State Building: Observation deck visit, explore exhibits and historical displays. 2. Rockefeller Center: Visit \\\"Top of the Rock\\\", ice-skating, NBC Studio tour, shopping and dining. 3. Chrysler Building: Admire exterior and iconic spire, photo opportunities.\",\n",
    "        \"Empire State Building\"\n",
    "    )\n",
    "]\n",
    "\n",
    "\n",
    "def error_metric(o): \n",
    "    raise ValueError(\"This is an error metric\")\n",
    "\n",
    "test_suite_outputs_only = []\n",
    "for test_output, substring in test_outputs_with_substrings:\n",
    "    # Add the brevity metric\n",
    "    # test_fn1 = brevity\n",
    "    test_fn1 = error_metric\n",
    "    test_suite_outputs_only.append((test_output, test_fn1))\n",
    "    # Add substring check function\n",
    "    test_fn2 = substring_match(substring, case_sensitive=False)\n",
    "    test_suite_outputs_only.append(\n",
    "        (test_output, test_fn2)\n",
    "    )"
   ]
  },
  {
   "cell_type": "code",
   "execution_count": 10,
   "metadata": {},
   "outputs": [
    {
     "name": "stdout",
     "output_type": "stream",
     "text": [
      "If you like, you can inspect the test suite before passing it to the evaluation library.\n",
      "\n",
      "Test output:\n",
      " Begin at Chelsea Market for diverse food options. Continue to Queens for immersive food tours. Conclude at Smorgasburg for unique outdoor food market experience \n",
      "Function:\n",
      " <function error_metric at 0x7f94dc06e680>\n",
      "\n",
      "Test output:\n",
      " Begin at Chelsea Market for diverse food options. Continue to Queens for immersive food tours. Conclude at Smorgasburg for unique outdoor food market experience \n",
      "Function:\n",
      " functools.partial(<function contains_substring at 0x7f94dc176a70>, substring='Magnolia Bakery', case_sensitive=False)\n",
      "\n",
      "Test output:\n",
      " 1. Empire State Building: Observation deck visit, explore exhibits and historical displays. 2. Rockefeller Center: Visit \"Top of the Rock\", ice-skating, NBC Studio tour, shopping and dining. 3. Chrysler Building: Admire exterior and iconic spire, photo opportunities. \n",
      "Function:\n",
      " <function error_metric at 0x7f94dc06e680>\n",
      "\n",
      "Test output:\n",
      " 1. Empire State Building: Observation deck visit, explore exhibits and historical displays. 2. Rockefeller Center: Visit \"Top of the Rock\", ice-skating, NBC Studio tour, shopping and dining. 3. Chrysler Building: Admire exterior and iconic spire, photo opportunities. \n",
      "Function:\n",
      " functools.partial(<function contains_substring at 0x7f94dc176a70>, substring='Empire State Building', case_sensitive=False)\n"
     ]
    }
   ],
   "source": [
    "print(\"If you like, you can inspect the test suite before passing it to the evaluation library.\")\n",
    "\n",
    "for test_output, fn in test_suite_outputs_only:\n",
    "    print(\"\\nTest output:\\n\", test_output, \"\\nFunction:\\n\", fn)"
   ]
  },
  {
   "cell_type": "code",
   "execution_count": 11,
   "metadata": {},
   "outputs": [
    {
     "name": "stdout",
     "output_type": "stream",
     "text": [
      "Run the eval library\n"
     ]
    },
    {
     "ename": "ValueError",
     "evalue": "This is an error metric",
     "output_type": "error",
     "traceback": [
      "\u001b[0;31m---------------------------------------------------------------------------\u001b[0m",
      "\u001b[0;31mValueError\u001b[0m                                Traceback (most recent call last)",
      "\u001b[1;32m/home/jacobjensen/Projects/llms/aiconfig/python/src/aiconfig/eval/custom_eval/examples/travel/travel_eval.ipynb Cell 13\u001b[0m line \u001b[0;36m2\n\u001b[1;32m      <a href='vscode-notebook-cell:/home/jacobjensen/Projects/llms/aiconfig/python/src/aiconfig/eval/custom_eval/examples/travel/travel_eval.ipynb#X15sZmlsZQ%3D%3D?line=0'>1</a>\u001b[0m \u001b[39mprint\u001b[39m(\u001b[39m\"\u001b[39m\u001b[39mRun the eval library\u001b[39m\u001b[39m\"\u001b[39m)\n\u001b[0;32m----> <a href='vscode-notebook-cell:/home/jacobjensen/Projects/llms/aiconfig/python/src/aiconfig/eval/custom_eval/examples/travel/travel_eval.ipynb#X15sZmlsZQ%3D%3D?line=1'>2</a>\u001b[0m df_result \u001b[39m=\u001b[39m \u001b[39mawait\u001b[39;00m run_test_suite_outputs_only(\n\u001b[1;32m      <a href='vscode-notebook-cell:/home/jacobjensen/Projects/llms/aiconfig/python/src/aiconfig/eval/custom_eval/examples/travel/travel_eval.ipynb#X15sZmlsZQ%3D%3D?line=2'>3</a>\u001b[0m     test_suite\u001b[39m=\u001b[39mtest_suite_outputs_only,\n\u001b[1;32m      <a href='vscode-notebook-cell:/home/jacobjensen/Projects/llms/aiconfig/python/src/aiconfig/eval/custom_eval/examples/travel/travel_eval.ipynb#X15sZmlsZQ%3D%3D?line=3'>4</a>\u001b[0m )\n\u001b[1;32m      <a href='vscode-notebook-cell:/home/jacobjensen/Projects/llms/aiconfig/python/src/aiconfig/eval/custom_eval/examples/travel/travel_eval.ipynb#X15sZmlsZQ%3D%3D?line=4'>5</a>\u001b[0m \u001b[39mprint\u001b[39m(\u001b[39m\"\u001b[39m\u001b[39mRaw output\u001b[39m\u001b[39m\"\u001b[39m)\n\u001b[1;32m      <a href='vscode-notebook-cell:/home/jacobjensen/Projects/llms/aiconfig/python/src/aiconfig/eval/custom_eval/examples/travel/travel_eval.ipynb#X15sZmlsZQ%3D%3D?line=5'>6</a>\u001b[0m df_result\n",
      "File \u001b[0;32m~/Projects/llms/aiconfig/python/src/aiconfig/eval/lib.py:134\u001b[0m, in \u001b[0;36mrun_test_suite_outputs_only\u001b[0;34m(test_suite)\u001b[0m\n\u001b[1;32m    131\u001b[0m \u001b[39masync\u001b[39;00m \u001b[39mdef\u001b[39;00m \u001b[39mrun_test_suite_outputs_only\u001b[39m(\n\u001b[1;32m    132\u001b[0m     test_suite: UserTestSuiteOutputsOnly,\n\u001b[1;32m    133\u001b[0m ) \u001b[39m-\u001b[39m\u001b[39m>\u001b[39m pd\u001b[39m.\u001b[39mDataFrame:\n\u001b[0;32m--> 134\u001b[0m     res \u001b[39m=\u001b[39m \u001b[39mawait\u001b[39;00m run_test_suite_helper(TestSuiteOutputsOnlySpec(test_suite\u001b[39m=\u001b[39mtest_suite))\n\u001b[1;32m    135\u001b[0m     \u001b[39mreturn\u001b[39;00m res\u001b[39m.\u001b[39munwrap_or_raise(\u001b[39mValueError\u001b[39;00m)\n",
      "File \u001b[0;32m~/Projects/llms/aiconfig/python/src/aiconfig/eval/lib.py:334\u001b[0m, in \u001b[0;36mrun_test_suite_helper\u001b[0;34m(test_suite_spec)\u001b[0m\n\u001b[1;32m    331\u001b[0m             \u001b[39mreturn\u001b[39;00m user_test_suite_outputs_only_to_eval_params_list(test_suite)\n\u001b[1;32m    333\u001b[0m eval_params_list \u001b[39m=\u001b[39m \u001b[39mawait\u001b[39;00m _get_eval_params_list(test_suite_spec)\n\u001b[0;32m--> 334\u001b[0m eval_res \u001b[39m=\u001b[39m evaluate(eval_params_list)\n\u001b[1;32m    335\u001b[0m \u001b[39mreturn\u001b[39;00m eval_res\u001b[39m.\u001b[39mmap(eval_res_to_df)\n",
      "File \u001b[0;32m~/Projects/llms/aiconfig/python/src/aiconfig/eval/lib.py:190\u001b[0m, in \u001b[0;36mevaluate\u001b[0;34m(evaluation_params_list)\u001b[0m\n\u001b[1;32m    185\u001b[0m \u001b[39mfor\u001b[39;00m eval_params \u001b[39min\u001b[39;00m evaluation_params_list:\n\u001b[1;32m    186\u001b[0m     sample, evaluation_fn \u001b[39m=\u001b[39m (\n\u001b[1;32m    187\u001b[0m         eval_params\u001b[39m.\u001b[39moutput_sample,\n\u001b[1;32m    188\u001b[0m         eval_params\u001b[39m.\u001b[39mevaluation_fn,\n\u001b[1;32m    189\u001b[0m     )\n\u001b[0;32m--> 190\u001b[0m     res_ \u001b[39m=\u001b[39m evaluation_fn(sample)\n\u001b[1;32m    191\u001b[0m     logger\u001b[39m.\u001b[39mdebug(\u001b[39mf\u001b[39m\u001b[39m\"\u001b[39m\u001b[39m{\u001b[39;00mres_\u001b[39m=}\u001b[39;00m\u001b[39m\"\u001b[39m)\n\u001b[1;32m    192\u001b[0m     result \u001b[39m=\u001b[39m SampleEvaluationResult(\n\u001b[1;32m    193\u001b[0m         input_datum\u001b[39m=\u001b[39meval_params\u001b[39m.\u001b[39minput_sample, output_datum\u001b[39m=\u001b[39msample, metric_value\u001b[39m=\u001b[39mres_\n\u001b[1;32m    194\u001b[0m     )\n",
      "\u001b[1;32m/home/jacobjensen/Projects/llms/aiconfig/python/src/aiconfig/eval/custom_eval/examples/travel/travel_eval.ipynb Cell 13\u001b[0m line \u001b[0;36m2\n\u001b[1;32m     <a href='vscode-notebook-cell:/home/jacobjensen/Projects/llms/aiconfig/python/src/aiconfig/eval/custom_eval/examples/travel/travel_eval.ipynb#X15sZmlsZQ%3D%3D?line=25'>26</a>\u001b[0m \u001b[39mdef\u001b[39;00m \u001b[39merror_metric\u001b[39m(o): \n\u001b[0;32m---> <a href='vscode-notebook-cell:/home/jacobjensen/Projects/llms/aiconfig/python/src/aiconfig/eval/custom_eval/examples/travel/travel_eval.ipynb#X15sZmlsZQ%3D%3D?line=26'>27</a>\u001b[0m     \u001b[39mraise\u001b[39;00m \u001b[39mValueError\u001b[39;00m(\u001b[39m\"\u001b[39m\u001b[39mThis is an error metric\u001b[39m\u001b[39m\"\u001b[39m)\n",
      "\u001b[0;31mValueError\u001b[0m: This is an error metric"
     ]
    }
   ],
   "source": [
    "print(\"Run the eval library\")\n",
    "df_result = await run_test_suite_outputs_only(\n",
    "    test_suite=test_suite_outputs_only,\n",
    ")\n",
    "print(\"Raw output\")\n",
    "df_result"
   ]
  },
  {
   "cell_type": "code",
   "execution_count": null,
   "metadata": {},
   "outputs": [
    {
     "name": "stdout",
     "output_type": "stream",
     "text": [
      "Unstack for nicer manual review\n"
     ]
    },
    {
     "data": {
      "text/html": [
       "<div>\n",
       "<style scoped>\n",
       "    .dataframe tbody tr th:only-of-type {\n",
       "        vertical-align: middle;\n",
       "    }\n",
       "\n",
       "    .dataframe tbody tr th {\n",
       "        vertical-align: top;\n",
       "    }\n",
       "\n",
       "    .dataframe thead th {\n",
       "        text-align: right;\n",
       "    }\n",
       "</style>\n",
       "<table border=\"1\" class=\"dataframe\">\n",
       "  <thead>\n",
       "    <tr style=\"text-align: right;\">\n",
       "      <th>metric_name</th>\n",
       "      <th>brevity</th>\n",
       "      <th>contains_substring</th>\n",
       "    </tr>\n",
       "    <tr>\n",
       "      <th>aiconfig_output</th>\n",
       "      <th></th>\n",
       "      <th></th>\n",
       "    </tr>\n",
       "  </thead>\n",
       "  <tbody>\n",
       "    <tr>\n",
       "      <th>1. Empire State Building: Observation deck visit, explore exhibits and historical displays. 2. Rockefeller Center: Visit \"Top of the Rock\", ice-skating, NBC Studio tour, shopping and dining. 3. Chrysler Building: Admire exterior and iconic spire, photo opportunities.</th>\n",
       "      <td>267.0</td>\n",
       "      <td>1.0</td>\n",
       "    </tr>\n",
       "    <tr>\n",
       "      <th>Begin at Chelsea Market for diverse food options. Continue to Queens for immersive food tours. Conclude at Smorgasburg for unique outdoor food market experience</th>\n",
       "      <td>160.0</td>\n",
       "      <td>0.0</td>\n",
       "    </tr>\n",
       "  </tbody>\n",
       "</table>\n",
       "</div>"
      ],
      "text/plain": [
       "metric_name                                                                                                                                                                                                                                                                  brevity  \\\n",
       "aiconfig_output                                                                                                                                                                                                                                                                        \n",
       "1. Empire State Building: Observation deck visit, explore exhibits and historical displays. 2. Rockefeller Center: Visit \"Top of the Rock\", ice-skating, NBC Studio tour, shopping and dining. 3. Chrysler Building: Admire exterior and iconic spire, photo opportunities.    267.0   \n",
       "Begin at Chelsea Market for diverse food options. Continue to Queens for immersive food tours. Conclude at Smorgasburg for unique outdoor food market experience                                                                                                               160.0   \n",
       "\n",
       "metric_name                                                                                                                                                                                                                                                                  contains_substring  \n",
       "aiconfig_output                                                                                                                                                                                                                                                                                  \n",
       "1. Empire State Building: Observation deck visit, explore exhibits and historical displays. 2. Rockefeller Center: Visit \"Top of the Rock\", ice-skating, NBC Studio tour, shopping and dining. 3. Chrysler Building: Admire exterior and iconic spire, photo opportunities.                 1.0  \n",
       "Begin at Chelsea Market for diverse food options. Continue to Queens for immersive food tours. Conclude at Smorgasburg for unique outdoor food market experience                                                                                                                            0.0  "
      ]
     },
     "execution_count": 9,
     "metadata": {},
     "output_type": "execute_result"
    }
   ],
   "source": [
    "print(\"Unstack for nicer manual review\")\n",
    "df_result.set_index([ \"aiconfig_output\", \"metric_name\"])\\\n",
    "        .value.unstack(\"metric_name\")"
   ]
  }
 ],
 "metadata": {
  "kernelspec": {
   "display_name": "aiconfig",
   "language": "python",
   "name": "python3"
  },
  "language_info": {
   "codemirror_mode": {
    "name": "ipython",
    "version": 3
   },
   "file_extension": ".py",
   "mimetype": "text/x-python",
   "name": "python",
   "nbconvert_exporter": "python",
   "pygments_lexer": "ipython3",
   "version": "3.10.12"
  }
 },
 "nbformat": 4,
 "nbformat_minor": 2
}
